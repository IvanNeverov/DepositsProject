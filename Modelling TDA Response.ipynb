{
  "cells": [
    {
      "cell_type": "markdown",
      "metadata": {
        "id": "view-in-github",
        "colab_type": "text"
      },
      "source": [
        "<a href=\"https://colab.research.google.com/github/IvanNeverov/DepositsProject/blob/main/Modelling%20TDA%20Response.ipynb\" target=\"_parent\"><img src=\"https://colab.research.google.com/assets/colab-badge.svg\" alt=\"Open In Colab\"/></a>"
      ]
    },
    {
      "cell_type": "markdown",
      "source": [
        "## Импортируем библиотеки"
      ],
      "metadata": {
        "id": "cboOpCEwZEeK"
      }
    },
    {
      "cell_type": "code",
      "source": [
        "!pip install catboost -q"
      ],
      "metadata": {
        "id": "NiCB-FuFcTUy"
      },
      "execution_count": 87,
      "outputs": []
    },
    {
      "cell_type": "code",
      "execution_count": 88,
      "metadata": {
        "id": "2iG1TXCpywcX"
      },
      "outputs": [],
      "source": [
        "import pandas as pd\n",
        "import numpy as np\n",
        "from matplotlib import pyplot as plt\n",
        "from sklearn.linear_model import LogisticRegression\n",
        "from catboost import CatBoostClassifier, Pool\n",
        "\n",
        "import seaborn as sb"
      ]
    },
    {
      "cell_type": "markdown",
      "source": [
        "## Загружаем данные, делаем первичный анализ"
      ],
      "metadata": {
        "id": "M2PqIyldZIbJ"
      }
    },
    {
      "cell_type": "markdown",
      "metadata": {
        "id": "pgYp06pQywcb"
      },
      "source": [
        "Значения переменных yes/no заранее заменил на 1и0 "
      ]
    },
    {
      "cell_type": "code",
      "execution_count": 89,
      "metadata": {
        "id": "GMY6rUYbywcd"
      },
      "outputs": [],
      "source": [
        "data = pd.read_excel('/dataset.xlsx')"
      ]
    },
    {
      "cell_type": "code",
      "execution_count": 90,
      "metadata": {
        "id": "uZ9zDWrIywce",
        "outputId": "83153ab7-2ee2-474f-c990-54484d12b0e7",
        "colab": {
          "base_uri": "https://localhost:8080/",
          "height": 238
        }
      },
      "outputs": [
        {
          "output_type": "execute_result",
          "data": {
            "text/plain": [
              "   age         job  marital  education  default  balance  housing  loan  \\\n",
              "0   59      admin.  married  secondary        0     2343        1     0   \n",
              "1   56      admin.  married  secondary        0       45        0     0   \n",
              "2   41  technician  married  secondary        0     1270        1     0   \n",
              "3   55    services  married  secondary        0     2476        1     0   \n",
              "4   54      admin.  married   tertiary        0      184        0     0   \n",
              "5   42  management   single   tertiary        0        0        1     1   \n",
              "\n",
              "   contact  day month  duration  campaign  pdays  previous poutcome  deposit  \n",
              "0  unknown    5   may      1042         1     -1         0  unknown        1  \n",
              "1  unknown    5   may      1467         1     -1         0  unknown        1  \n",
              "2  unknown    5   may      1389         1     -1         0  unknown        1  \n",
              "3  unknown    5   may       579         1     -1         0  unknown        1  \n",
              "4  unknown    5   may       673         2     -1         0  unknown        1  \n",
              "5  unknown    5   may       562         2     -1         0  unknown        1  "
            ],
            "text/html": [
              "\n",
              "  <div id=\"df-968940cc-00e4-4986-93d4-913ff461213b\">\n",
              "    <div class=\"colab-df-container\">\n",
              "      <div>\n",
              "<style scoped>\n",
              "    .dataframe tbody tr th:only-of-type {\n",
              "        vertical-align: middle;\n",
              "    }\n",
              "\n",
              "    .dataframe tbody tr th {\n",
              "        vertical-align: top;\n",
              "    }\n",
              "\n",
              "    .dataframe thead th {\n",
              "        text-align: right;\n",
              "    }\n",
              "</style>\n",
              "<table border=\"1\" class=\"dataframe\">\n",
              "  <thead>\n",
              "    <tr style=\"text-align: right;\">\n",
              "      <th></th>\n",
              "      <th>age</th>\n",
              "      <th>job</th>\n",
              "      <th>marital</th>\n",
              "      <th>education</th>\n",
              "      <th>default</th>\n",
              "      <th>balance</th>\n",
              "      <th>housing</th>\n",
              "      <th>loan</th>\n",
              "      <th>contact</th>\n",
              "      <th>day</th>\n",
              "      <th>month</th>\n",
              "      <th>duration</th>\n",
              "      <th>campaign</th>\n",
              "      <th>pdays</th>\n",
              "      <th>previous</th>\n",
              "      <th>poutcome</th>\n",
              "      <th>deposit</th>\n",
              "    </tr>\n",
              "  </thead>\n",
              "  <tbody>\n",
              "    <tr>\n",
              "      <th>0</th>\n",
              "      <td>59</td>\n",
              "      <td>admin.</td>\n",
              "      <td>married</td>\n",
              "      <td>secondary</td>\n",
              "      <td>0</td>\n",
              "      <td>2343</td>\n",
              "      <td>1</td>\n",
              "      <td>0</td>\n",
              "      <td>unknown</td>\n",
              "      <td>5</td>\n",
              "      <td>may</td>\n",
              "      <td>1042</td>\n",
              "      <td>1</td>\n",
              "      <td>-1</td>\n",
              "      <td>0</td>\n",
              "      <td>unknown</td>\n",
              "      <td>1</td>\n",
              "    </tr>\n",
              "    <tr>\n",
              "      <th>1</th>\n",
              "      <td>56</td>\n",
              "      <td>admin.</td>\n",
              "      <td>married</td>\n",
              "      <td>secondary</td>\n",
              "      <td>0</td>\n",
              "      <td>45</td>\n",
              "      <td>0</td>\n",
              "      <td>0</td>\n",
              "      <td>unknown</td>\n",
              "      <td>5</td>\n",
              "      <td>may</td>\n",
              "      <td>1467</td>\n",
              "      <td>1</td>\n",
              "      <td>-1</td>\n",
              "      <td>0</td>\n",
              "      <td>unknown</td>\n",
              "      <td>1</td>\n",
              "    </tr>\n",
              "    <tr>\n",
              "      <th>2</th>\n",
              "      <td>41</td>\n",
              "      <td>technician</td>\n",
              "      <td>married</td>\n",
              "      <td>secondary</td>\n",
              "      <td>0</td>\n",
              "      <td>1270</td>\n",
              "      <td>1</td>\n",
              "      <td>0</td>\n",
              "      <td>unknown</td>\n",
              "      <td>5</td>\n",
              "      <td>may</td>\n",
              "      <td>1389</td>\n",
              "      <td>1</td>\n",
              "      <td>-1</td>\n",
              "      <td>0</td>\n",
              "      <td>unknown</td>\n",
              "      <td>1</td>\n",
              "    </tr>\n",
              "    <tr>\n",
              "      <th>3</th>\n",
              "      <td>55</td>\n",
              "      <td>services</td>\n",
              "      <td>married</td>\n",
              "      <td>secondary</td>\n",
              "      <td>0</td>\n",
              "      <td>2476</td>\n",
              "      <td>1</td>\n",
              "      <td>0</td>\n",
              "      <td>unknown</td>\n",
              "      <td>5</td>\n",
              "      <td>may</td>\n",
              "      <td>579</td>\n",
              "      <td>1</td>\n",
              "      <td>-1</td>\n",
              "      <td>0</td>\n",
              "      <td>unknown</td>\n",
              "      <td>1</td>\n",
              "    </tr>\n",
              "    <tr>\n",
              "      <th>4</th>\n",
              "      <td>54</td>\n",
              "      <td>admin.</td>\n",
              "      <td>married</td>\n",
              "      <td>tertiary</td>\n",
              "      <td>0</td>\n",
              "      <td>184</td>\n",
              "      <td>0</td>\n",
              "      <td>0</td>\n",
              "      <td>unknown</td>\n",
              "      <td>5</td>\n",
              "      <td>may</td>\n",
              "      <td>673</td>\n",
              "      <td>2</td>\n",
              "      <td>-1</td>\n",
              "      <td>0</td>\n",
              "      <td>unknown</td>\n",
              "      <td>1</td>\n",
              "    </tr>\n",
              "    <tr>\n",
              "      <th>5</th>\n",
              "      <td>42</td>\n",
              "      <td>management</td>\n",
              "      <td>single</td>\n",
              "      <td>tertiary</td>\n",
              "      <td>0</td>\n",
              "      <td>0</td>\n",
              "      <td>1</td>\n",
              "      <td>1</td>\n",
              "      <td>unknown</td>\n",
              "      <td>5</td>\n",
              "      <td>may</td>\n",
              "      <td>562</td>\n",
              "      <td>2</td>\n",
              "      <td>-1</td>\n",
              "      <td>0</td>\n",
              "      <td>unknown</td>\n",
              "      <td>1</td>\n",
              "    </tr>\n",
              "  </tbody>\n",
              "</table>\n",
              "</div>\n",
              "      <button class=\"colab-df-convert\" onclick=\"convertToInteractive('df-968940cc-00e4-4986-93d4-913ff461213b')\"\n",
              "              title=\"Convert this dataframe to an interactive table.\"\n",
              "              style=\"display:none;\">\n",
              "        \n",
              "  <svg xmlns=\"http://www.w3.org/2000/svg\" height=\"24px\"viewBox=\"0 0 24 24\"\n",
              "       width=\"24px\">\n",
              "    <path d=\"M0 0h24v24H0V0z\" fill=\"none\"/>\n",
              "    <path d=\"M18.56 5.44l.94 2.06.94-2.06 2.06-.94-2.06-.94-.94-2.06-.94 2.06-2.06.94zm-11 1L8.5 8.5l.94-2.06 2.06-.94-2.06-.94L8.5 2.5l-.94 2.06-2.06.94zm10 10l.94 2.06.94-2.06 2.06-.94-2.06-.94-.94-2.06-.94 2.06-2.06.94z\"/><path d=\"M17.41 7.96l-1.37-1.37c-.4-.4-.92-.59-1.43-.59-.52 0-1.04.2-1.43.59L10.3 9.45l-7.72 7.72c-.78.78-.78 2.05 0 2.83L4 21.41c.39.39.9.59 1.41.59.51 0 1.02-.2 1.41-.59l7.78-7.78 2.81-2.81c.8-.78.8-2.07 0-2.86zM5.41 20L4 18.59l7.72-7.72 1.47 1.35L5.41 20z\"/>\n",
              "  </svg>\n",
              "      </button>\n",
              "      \n",
              "  <style>\n",
              "    .colab-df-container {\n",
              "      display:flex;\n",
              "      flex-wrap:wrap;\n",
              "      gap: 12px;\n",
              "    }\n",
              "\n",
              "    .colab-df-convert {\n",
              "      background-color: #E8F0FE;\n",
              "      border: none;\n",
              "      border-radius: 50%;\n",
              "      cursor: pointer;\n",
              "      display: none;\n",
              "      fill: #1967D2;\n",
              "      height: 32px;\n",
              "      padding: 0 0 0 0;\n",
              "      width: 32px;\n",
              "    }\n",
              "\n",
              "    .colab-df-convert:hover {\n",
              "      background-color: #E2EBFA;\n",
              "      box-shadow: 0px 1px 2px rgba(60, 64, 67, 0.3), 0px 1px 3px 1px rgba(60, 64, 67, 0.15);\n",
              "      fill: #174EA6;\n",
              "    }\n",
              "\n",
              "    [theme=dark] .colab-df-convert {\n",
              "      background-color: #3B4455;\n",
              "      fill: #D2E3FC;\n",
              "    }\n",
              "\n",
              "    [theme=dark] .colab-df-convert:hover {\n",
              "      background-color: #434B5C;\n",
              "      box-shadow: 0px 1px 3px 1px rgba(0, 0, 0, 0.15);\n",
              "      filter: drop-shadow(0px 1px 2px rgba(0, 0, 0, 0.3));\n",
              "      fill: #FFFFFF;\n",
              "    }\n",
              "  </style>\n",
              "\n",
              "      <script>\n",
              "        const buttonEl =\n",
              "          document.querySelector('#df-968940cc-00e4-4986-93d4-913ff461213b button.colab-df-convert');\n",
              "        buttonEl.style.display =\n",
              "          google.colab.kernel.accessAllowed ? 'block' : 'none';\n",
              "\n",
              "        async function convertToInteractive(key) {\n",
              "          const element = document.querySelector('#df-968940cc-00e4-4986-93d4-913ff461213b');\n",
              "          const dataTable =\n",
              "            await google.colab.kernel.invokeFunction('convertToInteractive',\n",
              "                                                     [key], {});\n",
              "          if (!dataTable) return;\n",
              "\n",
              "          const docLinkHtml = 'Like what you see? Visit the ' +\n",
              "            '<a target=\"_blank\" href=https://colab.research.google.com/notebooks/data_table.ipynb>data table notebook</a>'\n",
              "            + ' to learn more about interactive tables.';\n",
              "          element.innerHTML = '';\n",
              "          dataTable['output_type'] = 'display_data';\n",
              "          await google.colab.output.renderOutput(dataTable, element);\n",
              "          const docLink = document.createElement('div');\n",
              "          docLink.innerHTML = docLinkHtml;\n",
              "          element.appendChild(docLink);\n",
              "        }\n",
              "      </script>\n",
              "    </div>\n",
              "  </div>\n",
              "  "
            ]
          },
          "metadata": {},
          "execution_count": 90
        }
      ],
      "source": [
        "data.head(6)"
      ]
    },
    {
      "cell_type": "code",
      "execution_count": 91,
      "metadata": {
        "id": "zOvK1f_eywcf",
        "outputId": "73cbca66-bbce-40eb-9b4a-a6f14bc0b34b",
        "colab": {
          "base_uri": "https://localhost:8080/"
        }
      },
      "outputs": [
        {
          "output_type": "execute_result",
          "data": {
            "text/plain": [
              "(11162, 17)"
            ]
          },
          "metadata": {},
          "execution_count": 91
        }
      ],
      "source": [
        "data.shape"
      ]
    },
    {
      "cell_type": "code",
      "execution_count": 92,
      "metadata": {
        "id": "yjMUJjB5ywcf",
        "outputId": "6e78c328-12d0-496d-8dcf-850d356b41f3",
        "colab": {
          "base_uri": "https://localhost:8080/"
        }
      },
      "outputs": [
        {
          "output_type": "execute_result",
          "data": {
            "text/plain": [
              "age           int64\n",
              "job          object\n",
              "marital      object\n",
              "education    object\n",
              "default       int64\n",
              "balance       int64\n",
              "housing       int64\n",
              "loan          int64\n",
              "contact      object\n",
              "day           int64\n",
              "month        object\n",
              "duration      int64\n",
              "campaign      int64\n",
              "pdays         int64\n",
              "previous      int64\n",
              "poutcome     object\n",
              "deposit       int64\n",
              "dtype: object"
            ]
          },
          "metadata": {},
          "execution_count": 92
        }
      ],
      "source": [
        "data.dtypes"
      ]
    },
    {
      "cell_type": "code",
      "execution_count": 93,
      "metadata": {
        "id": "yOePGIDjywcg",
        "outputId": "2945fba5-569b-4c5e-ed1f-e95e4340e206",
        "colab": {
          "base_uri": "https://localhost:8080/"
        }
      },
      "outputs": [
        {
          "output_type": "execute_result",
          "data": {
            "text/plain": [
              "age          0\n",
              "job          0\n",
              "marital      0\n",
              "education    0\n",
              "default      0\n",
              "balance      0\n",
              "housing      0\n",
              "loan         0\n",
              "contact      0\n",
              "day          0\n",
              "month        0\n",
              "duration     0\n",
              "campaign     0\n",
              "pdays        0\n",
              "previous     0\n",
              "poutcome     0\n",
              "deposit      0\n",
              "dtype: int64"
            ]
          },
          "metadata": {},
          "execution_count": 93
        }
      ],
      "source": [
        "data.isna().sum()"
      ]
    },
    {
      "cell_type": "code",
      "execution_count": 94,
      "metadata": {
        "id": "hZZZhvwbywcg",
        "outputId": "65d97d96-3216-4d84-96d8-7eaa66e06f48",
        "colab": {
          "base_uri": "https://localhost:8080/",
          "height": 300
        }
      },
      "outputs": [
        {
          "output_type": "execute_result",
          "data": {
            "text/plain": [
              "                age       default       balance       housing          loan  \\\n",
              "count  11162.000000  11162.000000  11162.000000  11162.000000  11162.000000   \n",
              "mean      41.231948      0.015051   1528.538524      0.473123      0.130801   \n",
              "std       11.913369      0.121761   3225.413326      0.499299      0.337198   \n",
              "min       18.000000      0.000000  -6847.000000      0.000000      0.000000   \n",
              "25%       32.000000      0.000000    122.000000      0.000000      0.000000   \n",
              "50%       39.000000      0.000000    550.000000      0.000000      0.000000   \n",
              "75%       49.000000      0.000000   1708.000000      1.000000      0.000000   \n",
              "max       95.000000      1.000000  81204.000000      1.000000      1.000000   \n",
              "\n",
              "                day      duration      campaign         pdays      previous  \\\n",
              "count  11162.000000  11162.000000  11162.000000  11162.000000  11162.000000   \n",
              "mean      15.658036    371.993818      2.508421     51.330407      0.832557   \n",
              "std        8.420740    347.128386      2.722077    108.758282      2.292007   \n",
              "min        1.000000      2.000000      1.000000     -1.000000      0.000000   \n",
              "25%        8.000000    138.000000      1.000000     -1.000000      0.000000   \n",
              "50%       15.000000    255.000000      2.000000     -1.000000      0.000000   \n",
              "75%       22.000000    496.000000      3.000000     20.750000      1.000000   \n",
              "max       31.000000   3881.000000     63.000000    854.000000     58.000000   \n",
              "\n",
              "            deposit  \n",
              "count  11162.000000  \n",
              "mean       0.473840  \n",
              "std        0.499338  \n",
              "min        0.000000  \n",
              "25%        0.000000  \n",
              "50%        0.000000  \n",
              "75%        1.000000  \n",
              "max        1.000000  "
            ],
            "text/html": [
              "\n",
              "  <div id=\"df-3db7d17e-b951-4fdc-81fc-04734c1a5914\">\n",
              "    <div class=\"colab-df-container\">\n",
              "      <div>\n",
              "<style scoped>\n",
              "    .dataframe tbody tr th:only-of-type {\n",
              "        vertical-align: middle;\n",
              "    }\n",
              "\n",
              "    .dataframe tbody tr th {\n",
              "        vertical-align: top;\n",
              "    }\n",
              "\n",
              "    .dataframe thead th {\n",
              "        text-align: right;\n",
              "    }\n",
              "</style>\n",
              "<table border=\"1\" class=\"dataframe\">\n",
              "  <thead>\n",
              "    <tr style=\"text-align: right;\">\n",
              "      <th></th>\n",
              "      <th>age</th>\n",
              "      <th>default</th>\n",
              "      <th>balance</th>\n",
              "      <th>housing</th>\n",
              "      <th>loan</th>\n",
              "      <th>day</th>\n",
              "      <th>duration</th>\n",
              "      <th>campaign</th>\n",
              "      <th>pdays</th>\n",
              "      <th>previous</th>\n",
              "      <th>deposit</th>\n",
              "    </tr>\n",
              "  </thead>\n",
              "  <tbody>\n",
              "    <tr>\n",
              "      <th>count</th>\n",
              "      <td>11162.000000</td>\n",
              "      <td>11162.000000</td>\n",
              "      <td>11162.000000</td>\n",
              "      <td>11162.000000</td>\n",
              "      <td>11162.000000</td>\n",
              "      <td>11162.000000</td>\n",
              "      <td>11162.000000</td>\n",
              "      <td>11162.000000</td>\n",
              "      <td>11162.000000</td>\n",
              "      <td>11162.000000</td>\n",
              "      <td>11162.000000</td>\n",
              "    </tr>\n",
              "    <tr>\n",
              "      <th>mean</th>\n",
              "      <td>41.231948</td>\n",
              "      <td>0.015051</td>\n",
              "      <td>1528.538524</td>\n",
              "      <td>0.473123</td>\n",
              "      <td>0.130801</td>\n",
              "      <td>15.658036</td>\n",
              "      <td>371.993818</td>\n",
              "      <td>2.508421</td>\n",
              "      <td>51.330407</td>\n",
              "      <td>0.832557</td>\n",
              "      <td>0.473840</td>\n",
              "    </tr>\n",
              "    <tr>\n",
              "      <th>std</th>\n",
              "      <td>11.913369</td>\n",
              "      <td>0.121761</td>\n",
              "      <td>3225.413326</td>\n",
              "      <td>0.499299</td>\n",
              "      <td>0.337198</td>\n",
              "      <td>8.420740</td>\n",
              "      <td>347.128386</td>\n",
              "      <td>2.722077</td>\n",
              "      <td>108.758282</td>\n",
              "      <td>2.292007</td>\n",
              "      <td>0.499338</td>\n",
              "    </tr>\n",
              "    <tr>\n",
              "      <th>min</th>\n",
              "      <td>18.000000</td>\n",
              "      <td>0.000000</td>\n",
              "      <td>-6847.000000</td>\n",
              "      <td>0.000000</td>\n",
              "      <td>0.000000</td>\n",
              "      <td>1.000000</td>\n",
              "      <td>2.000000</td>\n",
              "      <td>1.000000</td>\n",
              "      <td>-1.000000</td>\n",
              "      <td>0.000000</td>\n",
              "      <td>0.000000</td>\n",
              "    </tr>\n",
              "    <tr>\n",
              "      <th>25%</th>\n",
              "      <td>32.000000</td>\n",
              "      <td>0.000000</td>\n",
              "      <td>122.000000</td>\n",
              "      <td>0.000000</td>\n",
              "      <td>0.000000</td>\n",
              "      <td>8.000000</td>\n",
              "      <td>138.000000</td>\n",
              "      <td>1.000000</td>\n",
              "      <td>-1.000000</td>\n",
              "      <td>0.000000</td>\n",
              "      <td>0.000000</td>\n",
              "    </tr>\n",
              "    <tr>\n",
              "      <th>50%</th>\n",
              "      <td>39.000000</td>\n",
              "      <td>0.000000</td>\n",
              "      <td>550.000000</td>\n",
              "      <td>0.000000</td>\n",
              "      <td>0.000000</td>\n",
              "      <td>15.000000</td>\n",
              "      <td>255.000000</td>\n",
              "      <td>2.000000</td>\n",
              "      <td>-1.000000</td>\n",
              "      <td>0.000000</td>\n",
              "      <td>0.000000</td>\n",
              "    </tr>\n",
              "    <tr>\n",
              "      <th>75%</th>\n",
              "      <td>49.000000</td>\n",
              "      <td>0.000000</td>\n",
              "      <td>1708.000000</td>\n",
              "      <td>1.000000</td>\n",
              "      <td>0.000000</td>\n",
              "      <td>22.000000</td>\n",
              "      <td>496.000000</td>\n",
              "      <td>3.000000</td>\n",
              "      <td>20.750000</td>\n",
              "      <td>1.000000</td>\n",
              "      <td>1.000000</td>\n",
              "    </tr>\n",
              "    <tr>\n",
              "      <th>max</th>\n",
              "      <td>95.000000</td>\n",
              "      <td>1.000000</td>\n",
              "      <td>81204.000000</td>\n",
              "      <td>1.000000</td>\n",
              "      <td>1.000000</td>\n",
              "      <td>31.000000</td>\n",
              "      <td>3881.000000</td>\n",
              "      <td>63.000000</td>\n",
              "      <td>854.000000</td>\n",
              "      <td>58.000000</td>\n",
              "      <td>1.000000</td>\n",
              "    </tr>\n",
              "  </tbody>\n",
              "</table>\n",
              "</div>\n",
              "      <button class=\"colab-df-convert\" onclick=\"convertToInteractive('df-3db7d17e-b951-4fdc-81fc-04734c1a5914')\"\n",
              "              title=\"Convert this dataframe to an interactive table.\"\n",
              "              style=\"display:none;\">\n",
              "        \n",
              "  <svg xmlns=\"http://www.w3.org/2000/svg\" height=\"24px\"viewBox=\"0 0 24 24\"\n",
              "       width=\"24px\">\n",
              "    <path d=\"M0 0h24v24H0V0z\" fill=\"none\"/>\n",
              "    <path d=\"M18.56 5.44l.94 2.06.94-2.06 2.06-.94-2.06-.94-.94-2.06-.94 2.06-2.06.94zm-11 1L8.5 8.5l.94-2.06 2.06-.94-2.06-.94L8.5 2.5l-.94 2.06-2.06.94zm10 10l.94 2.06.94-2.06 2.06-.94-2.06-.94-.94-2.06-.94 2.06-2.06.94z\"/><path d=\"M17.41 7.96l-1.37-1.37c-.4-.4-.92-.59-1.43-.59-.52 0-1.04.2-1.43.59L10.3 9.45l-7.72 7.72c-.78.78-.78 2.05 0 2.83L4 21.41c.39.39.9.59 1.41.59.51 0 1.02-.2 1.41-.59l7.78-7.78 2.81-2.81c.8-.78.8-2.07 0-2.86zM5.41 20L4 18.59l7.72-7.72 1.47 1.35L5.41 20z\"/>\n",
              "  </svg>\n",
              "      </button>\n",
              "      \n",
              "  <style>\n",
              "    .colab-df-container {\n",
              "      display:flex;\n",
              "      flex-wrap:wrap;\n",
              "      gap: 12px;\n",
              "    }\n",
              "\n",
              "    .colab-df-convert {\n",
              "      background-color: #E8F0FE;\n",
              "      border: none;\n",
              "      border-radius: 50%;\n",
              "      cursor: pointer;\n",
              "      display: none;\n",
              "      fill: #1967D2;\n",
              "      height: 32px;\n",
              "      padding: 0 0 0 0;\n",
              "      width: 32px;\n",
              "    }\n",
              "\n",
              "    .colab-df-convert:hover {\n",
              "      background-color: #E2EBFA;\n",
              "      box-shadow: 0px 1px 2px rgba(60, 64, 67, 0.3), 0px 1px 3px 1px rgba(60, 64, 67, 0.15);\n",
              "      fill: #174EA6;\n",
              "    }\n",
              "\n",
              "    [theme=dark] .colab-df-convert {\n",
              "      background-color: #3B4455;\n",
              "      fill: #D2E3FC;\n",
              "    }\n",
              "\n",
              "    [theme=dark] .colab-df-convert:hover {\n",
              "      background-color: #434B5C;\n",
              "      box-shadow: 0px 1px 3px 1px rgba(0, 0, 0, 0.15);\n",
              "      filter: drop-shadow(0px 1px 2px rgba(0, 0, 0, 0.3));\n",
              "      fill: #FFFFFF;\n",
              "    }\n",
              "  </style>\n",
              "\n",
              "      <script>\n",
              "        const buttonEl =\n",
              "          document.querySelector('#df-3db7d17e-b951-4fdc-81fc-04734c1a5914 button.colab-df-convert');\n",
              "        buttonEl.style.display =\n",
              "          google.colab.kernel.accessAllowed ? 'block' : 'none';\n",
              "\n",
              "        async function convertToInteractive(key) {\n",
              "          const element = document.querySelector('#df-3db7d17e-b951-4fdc-81fc-04734c1a5914');\n",
              "          const dataTable =\n",
              "            await google.colab.kernel.invokeFunction('convertToInteractive',\n",
              "                                                     [key], {});\n",
              "          if (!dataTable) return;\n",
              "\n",
              "          const docLinkHtml = 'Like what you see? Visit the ' +\n",
              "            '<a target=\"_blank\" href=https://colab.research.google.com/notebooks/data_table.ipynb>data table notebook</a>'\n",
              "            + ' to learn more about interactive tables.';\n",
              "          element.innerHTML = '';\n",
              "          dataTable['output_type'] = 'display_data';\n",
              "          await google.colab.output.renderOutput(dataTable, element);\n",
              "          const docLink = document.createElement('div');\n",
              "          docLink.innerHTML = docLinkHtml;\n",
              "          element.appendChild(docLink);\n",
              "        }\n",
              "      </script>\n",
              "    </div>\n",
              "  </div>\n",
              "  "
            ]
          },
          "metadata": {},
          "execution_count": 94
        }
      ],
      "source": [
        "data.describe()"
      ]
    },
    {
      "cell_type": "code",
      "execution_count": 95,
      "metadata": {
        "id": "LA8LbX1cywch",
        "outputId": "94969c87-d8cd-46ca-f768-78c655d35fb1",
        "colab": {
          "base_uri": "https://localhost:8080/",
          "height": 175
        }
      },
      "outputs": [
        {
          "output_type": "execute_result",
          "data": {
            "text/plain": [
              "               job  marital  education   contact  month poutcome\n",
              "count        11162    11162      11162     11162  11162    11162\n",
              "unique          12        3          4         3     12        4\n",
              "top     management  married  secondary  cellular    may  unknown\n",
              "freq          2566     6351       5476      8042   2824     8326"
            ],
            "text/html": [
              "\n",
              "  <div id=\"df-e9ca6ef7-98f6-46cd-a623-e80685a530bf\">\n",
              "    <div class=\"colab-df-container\">\n",
              "      <div>\n",
              "<style scoped>\n",
              "    .dataframe tbody tr th:only-of-type {\n",
              "        vertical-align: middle;\n",
              "    }\n",
              "\n",
              "    .dataframe tbody tr th {\n",
              "        vertical-align: top;\n",
              "    }\n",
              "\n",
              "    .dataframe thead th {\n",
              "        text-align: right;\n",
              "    }\n",
              "</style>\n",
              "<table border=\"1\" class=\"dataframe\">\n",
              "  <thead>\n",
              "    <tr style=\"text-align: right;\">\n",
              "      <th></th>\n",
              "      <th>job</th>\n",
              "      <th>marital</th>\n",
              "      <th>education</th>\n",
              "      <th>contact</th>\n",
              "      <th>month</th>\n",
              "      <th>poutcome</th>\n",
              "    </tr>\n",
              "  </thead>\n",
              "  <tbody>\n",
              "    <tr>\n",
              "      <th>count</th>\n",
              "      <td>11162</td>\n",
              "      <td>11162</td>\n",
              "      <td>11162</td>\n",
              "      <td>11162</td>\n",
              "      <td>11162</td>\n",
              "      <td>11162</td>\n",
              "    </tr>\n",
              "    <tr>\n",
              "      <th>unique</th>\n",
              "      <td>12</td>\n",
              "      <td>3</td>\n",
              "      <td>4</td>\n",
              "      <td>3</td>\n",
              "      <td>12</td>\n",
              "      <td>4</td>\n",
              "    </tr>\n",
              "    <tr>\n",
              "      <th>top</th>\n",
              "      <td>management</td>\n",
              "      <td>married</td>\n",
              "      <td>secondary</td>\n",
              "      <td>cellular</td>\n",
              "      <td>may</td>\n",
              "      <td>unknown</td>\n",
              "    </tr>\n",
              "    <tr>\n",
              "      <th>freq</th>\n",
              "      <td>2566</td>\n",
              "      <td>6351</td>\n",
              "      <td>5476</td>\n",
              "      <td>8042</td>\n",
              "      <td>2824</td>\n",
              "      <td>8326</td>\n",
              "    </tr>\n",
              "  </tbody>\n",
              "</table>\n",
              "</div>\n",
              "      <button class=\"colab-df-convert\" onclick=\"convertToInteractive('df-e9ca6ef7-98f6-46cd-a623-e80685a530bf')\"\n",
              "              title=\"Convert this dataframe to an interactive table.\"\n",
              "              style=\"display:none;\">\n",
              "        \n",
              "  <svg xmlns=\"http://www.w3.org/2000/svg\" height=\"24px\"viewBox=\"0 0 24 24\"\n",
              "       width=\"24px\">\n",
              "    <path d=\"M0 0h24v24H0V0z\" fill=\"none\"/>\n",
              "    <path d=\"M18.56 5.44l.94 2.06.94-2.06 2.06-.94-2.06-.94-.94-2.06-.94 2.06-2.06.94zm-11 1L8.5 8.5l.94-2.06 2.06-.94-2.06-.94L8.5 2.5l-.94 2.06-2.06.94zm10 10l.94 2.06.94-2.06 2.06-.94-2.06-.94-.94-2.06-.94 2.06-2.06.94z\"/><path d=\"M17.41 7.96l-1.37-1.37c-.4-.4-.92-.59-1.43-.59-.52 0-1.04.2-1.43.59L10.3 9.45l-7.72 7.72c-.78.78-.78 2.05 0 2.83L4 21.41c.39.39.9.59 1.41.59.51 0 1.02-.2 1.41-.59l7.78-7.78 2.81-2.81c.8-.78.8-2.07 0-2.86zM5.41 20L4 18.59l7.72-7.72 1.47 1.35L5.41 20z\"/>\n",
              "  </svg>\n",
              "      </button>\n",
              "      \n",
              "  <style>\n",
              "    .colab-df-container {\n",
              "      display:flex;\n",
              "      flex-wrap:wrap;\n",
              "      gap: 12px;\n",
              "    }\n",
              "\n",
              "    .colab-df-convert {\n",
              "      background-color: #E8F0FE;\n",
              "      border: none;\n",
              "      border-radius: 50%;\n",
              "      cursor: pointer;\n",
              "      display: none;\n",
              "      fill: #1967D2;\n",
              "      height: 32px;\n",
              "      padding: 0 0 0 0;\n",
              "      width: 32px;\n",
              "    }\n",
              "\n",
              "    .colab-df-convert:hover {\n",
              "      background-color: #E2EBFA;\n",
              "      box-shadow: 0px 1px 2px rgba(60, 64, 67, 0.3), 0px 1px 3px 1px rgba(60, 64, 67, 0.15);\n",
              "      fill: #174EA6;\n",
              "    }\n",
              "\n",
              "    [theme=dark] .colab-df-convert {\n",
              "      background-color: #3B4455;\n",
              "      fill: #D2E3FC;\n",
              "    }\n",
              "\n",
              "    [theme=dark] .colab-df-convert:hover {\n",
              "      background-color: #434B5C;\n",
              "      box-shadow: 0px 1px 3px 1px rgba(0, 0, 0, 0.15);\n",
              "      filter: drop-shadow(0px 1px 2px rgba(0, 0, 0, 0.3));\n",
              "      fill: #FFFFFF;\n",
              "    }\n",
              "  </style>\n",
              "\n",
              "      <script>\n",
              "        const buttonEl =\n",
              "          document.querySelector('#df-e9ca6ef7-98f6-46cd-a623-e80685a530bf button.colab-df-convert');\n",
              "        buttonEl.style.display =\n",
              "          google.colab.kernel.accessAllowed ? 'block' : 'none';\n",
              "\n",
              "        async function convertToInteractive(key) {\n",
              "          const element = document.querySelector('#df-e9ca6ef7-98f6-46cd-a623-e80685a530bf');\n",
              "          const dataTable =\n",
              "            await google.colab.kernel.invokeFunction('convertToInteractive',\n",
              "                                                     [key], {});\n",
              "          if (!dataTable) return;\n",
              "\n",
              "          const docLinkHtml = 'Like what you see? Visit the ' +\n",
              "            '<a target=\"_blank\" href=https://colab.research.google.com/notebooks/data_table.ipynb>data table notebook</a>'\n",
              "            + ' to learn more about interactive tables.';\n",
              "          element.innerHTML = '';\n",
              "          dataTable['output_type'] = 'display_data';\n",
              "          await google.colab.output.renderOutput(dataTable, element);\n",
              "          const docLink = document.createElement('div');\n",
              "          docLink.innerHTML = docLinkHtml;\n",
              "          element.appendChild(docLink);\n",
              "        }\n",
              "      </script>\n",
              "    </div>\n",
              "  </div>\n",
              "  "
            ]
          },
          "metadata": {},
          "execution_count": 95
        }
      ],
      "source": [
        "data.describe(include='object')"
      ]
    },
    {
      "cell_type": "code",
      "execution_count": 96,
      "metadata": {
        "id": "uxb2pdIQywch",
        "outputId": "89357e28-a8c0-4972-fb6b-cfcbbb8ffc88",
        "colab": {
          "base_uri": "https://localhost:8080/",
          "height": 394
        }
      },
      "outputs": [
        {
          "output_type": "execute_result",
          "data": {
            "text/plain": [
              "<pandas.io.formats.style.Styler at 0x7f6a1defa2b0>"
            ],
            "text/html": [
              "<style type=\"text/css\">\n",
              "#T_2fc8d_row0_col0, #T_2fc8d_row1_col1, #T_2fc8d_row2_col2, #T_2fc8d_row3_col3, #T_2fc8d_row4_col4, #T_2fc8d_row5_col5, #T_2fc8d_row6_col6, #T_2fc8d_row7_col7, #T_2fc8d_row8_col8, #T_2fc8d_row9_col9, #T_2fc8d_row10_col10 {\n",
              "  background-color: #b40426;\n",
              "  color: #f1f1f1;\n",
              "}\n",
              "#T_2fc8d_row0_col1 {\n",
              "  background-color: #485fd1;\n",
              "  color: #f1f1f1;\n",
              "}\n",
              "#T_2fc8d_row0_col2 {\n",
              "  background-color: #7597f6;\n",
              "  color: #f1f1f1;\n",
              "}\n",
              "#T_2fc8d_row0_col3, #T_2fc8d_row1_col6, #T_2fc8d_row6_col9 {\n",
              "  background-color: #4358cb;\n",
              "  color: #f1f1f1;\n",
              "}\n",
              "#T_2fc8d_row0_col4, #T_2fc8d_row0_col5, #T_2fc8d_row3_col6, #T_2fc8d_row5_col1, #T_2fc8d_row8_col4 {\n",
              "  background-color: #506bda;\n",
              "  color: #f1f1f1;\n",
              "}\n",
              "#T_2fc8d_row0_col6 {\n",
              "  background-color: #465ecf;\n",
              "  color: #f1f1f1;\n",
              "}\n",
              "#T_2fc8d_row0_col7, #T_2fc8d_row2_col8, #T_2fc8d_row9_col2 {\n",
              "  background-color: #5b7ae5;\n",
              "  color: #f1f1f1;\n",
              "}\n",
              "#T_2fc8d_row0_col8, #T_2fc8d_row8_col2 {\n",
              "  background-color: #5875e1;\n",
              "  color: #f1f1f1;\n",
              "}\n",
              "#T_2fc8d_row0_col9, #T_2fc8d_row4_col10, #T_2fc8d_row6_col7 {\n",
              "  background-color: #516ddb;\n",
              "  color: #f1f1f1;\n",
              "}\n",
              "#T_2fc8d_row0_col10, #T_2fc8d_row6_col3, #T_2fc8d_row7_col5 {\n",
              "  background-color: #7a9df8;\n",
              "  color: #f1f1f1;\n",
              "}\n",
              "#T_2fc8d_row1_col0, #T_2fc8d_row1_col10 {\n",
              "  background-color: #6485ec;\n",
              "  color: #f1f1f1;\n",
              "}\n",
              "#T_2fc8d_row1_col2, #T_2fc8d_row1_col9, #T_2fc8d_row2_col4, #T_2fc8d_row5_col6, #T_2fc8d_row5_col8, #T_2fc8d_row8_col1, #T_2fc8d_row8_col7 {\n",
              "  background-color: #4055c8;\n",
              "  color: #f1f1f1;\n",
              "}\n",
              "#T_2fc8d_row1_col3 {\n",
              "  background-color: #7396f5;\n",
              "  color: #f1f1f1;\n",
              "}\n",
              "#T_2fc8d_row1_col4, #T_2fc8d_row3_col4, #T_2fc8d_row9_col3 {\n",
              "  background-color: #7093f3;\n",
              "  color: #f1f1f1;\n",
              "}\n",
              "#T_2fc8d_row1_col5, #T_2fc8d_row4_col5, #T_2fc8d_row5_col2, #T_2fc8d_row7_col1 {\n",
              "  background-color: #5572df;\n",
              "  color: #f1f1f1;\n",
              "}\n",
              "#T_2fc8d_row1_col7, #T_2fc8d_row4_col7, #T_2fc8d_row5_col0, #T_2fc8d_row6_col0 {\n",
              "  background-color: #6788ee;\n",
              "  color: #f1f1f1;\n",
              "}\n",
              "#T_2fc8d_row1_col8, #T_2fc8d_row2_col6 {\n",
              "  background-color: #4c66d6;\n",
              "  color: #f1f1f1;\n",
              "}\n",
              "#T_2fc8d_row2_col0 {\n",
              "  background-color: #89acfd;\n",
              "  color: #000000;\n",
              "}\n",
              "#T_2fc8d_row2_col1, #T_2fc8d_row3_col0, #T_2fc8d_row3_col10, #T_2fc8d_row4_col2, #T_2fc8d_row5_col9, #T_2fc8d_row7_col6, #T_2fc8d_row7_col8, #T_2fc8d_row8_col5, #T_2fc8d_row10_col3, #T_2fc8d_row10_col4, #T_2fc8d_row10_col7 {\n",
              "  background-color: #3b4cc0;\n",
              "  color: #f1f1f1;\n",
              "}\n",
              "#T_2fc8d_row2_col3 {\n",
              "  background-color: #5a78e4;\n",
              "  color: #f1f1f1;\n",
              "}\n",
              "#T_2fc8d_row2_col5, #T_2fc8d_row9_col4 {\n",
              "  background-color: #536edd;\n",
              "  color: #f1f1f1;\n",
              "}\n",
              "#T_2fc8d_row2_col7, #T_2fc8d_row6_col2, #T_2fc8d_row6_col4 {\n",
              "  background-color: #5977e3;\n",
              "  color: #f1f1f1;\n",
              "}\n",
              "#T_2fc8d_row2_col9 {\n",
              "  background-color: #5470de;\n",
              "  color: #f1f1f1;\n",
              "}\n",
              "#T_2fc8d_row2_col10, #T_2fc8d_row5_col7 {\n",
              "  background-color: #88abfd;\n",
              "  color: #000000;\n",
              "}\n",
              "#T_2fc8d_row3_col1, #T_2fc8d_row6_col8, #T_2fc8d_row9_col7 {\n",
              "  background-color: #4f69d9;\n",
              "  color: #f1f1f1;\n",
              "}\n",
              "#T_2fc8d_row3_col2 {\n",
              "  background-color: #3c4ec2;\n",
              "  color: #f1f1f1;\n",
              "}\n",
              "#T_2fc8d_row3_col5, #T_2fc8d_row3_col9 {\n",
              "  background-color: #4b64d5;\n",
              "  color: #f1f1f1;\n",
              "}\n",
              "#T_2fc8d_row3_col7, #T_2fc8d_row4_col0 {\n",
              "  background-color: #5f7fe8;\n",
              "  color: #f1f1f1;\n",
              "}\n",
              "#T_2fc8d_row3_col8 {\n",
              "  background-color: #6a8bef;\n",
              "  color: #f1f1f1;\n",
              "}\n",
              "#T_2fc8d_row4_col1, #T_2fc8d_row7_col4 {\n",
              "  background-color: #6384eb;\n",
              "  color: #f1f1f1;\n",
              "}\n",
              "#T_2fc8d_row4_col3, #T_2fc8d_row10_col8 {\n",
              "  background-color: #86a9fc;\n",
              "  color: #f1f1f1;\n",
              "}\n",
              "#T_2fc8d_row4_col6 {\n",
              "  background-color: #455cce;\n",
              "  color: #f1f1f1;\n",
              "}\n",
              "#T_2fc8d_row4_col8, #T_2fc8d_row7_col2, #T_2fc8d_row7_col10 {\n",
              "  background-color: #4e68d8;\n",
              "  color: #f1f1f1;\n",
              "}\n",
              "#T_2fc8d_row4_col9 {\n",
              "  background-color: #445acc;\n",
              "  color: #f1f1f1;\n",
              "}\n",
              "#T_2fc8d_row5_col3 {\n",
              "  background-color: #6c8ff1;\n",
              "  color: #f1f1f1;\n",
              "}\n",
              "#T_2fc8d_row5_col4 {\n",
              "  background-color: #5e7de7;\n",
              "  color: #f1f1f1;\n",
              "}\n",
              "#T_2fc8d_row5_col10 {\n",
              "  background-color: #6180e9;\n",
              "  color: #f1f1f1;\n",
              "}\n",
              "#T_2fc8d_row6_col1 {\n",
              "  background-color: #4961d2;\n",
              "  color: #f1f1f1;\n",
              "}\n",
              "#T_2fc8d_row6_col5 {\n",
              "  background-color: #4a63d3;\n",
              "  color: #f1f1f1;\n",
              "}\n",
              "#T_2fc8d_row6_col10 {\n",
              "  background-color: #e8d6cc;\n",
              "  color: #000000;\n",
              "}\n",
              "#T_2fc8d_row7_col0 {\n",
              "  background-color: #6687ed;\n",
              "  color: #f1f1f1;\n",
              "}\n",
              "#T_2fc8d_row7_col3, #T_2fc8d_row10_col0 {\n",
              "  background-color: #7295f4;\n",
              "  color: #f1f1f1;\n",
              "}\n",
              "#T_2fc8d_row7_col9 {\n",
              "  background-color: #3d50c3;\n",
              "  color: #f1f1f1;\n",
              "}\n",
              "#T_2fc8d_row8_col0 {\n",
              "  background-color: #688aef;\n",
              "  color: #f1f1f1;\n",
              "}\n",
              "#T_2fc8d_row8_col3 {\n",
              "  background-color: #84a7fc;\n",
              "  color: #f1f1f1;\n",
              "}\n",
              "#T_2fc8d_row8_col6, #T_2fc8d_row9_col6 {\n",
              "  background-color: #3e51c5;\n",
              "  color: #f1f1f1;\n",
              "}\n",
              "#T_2fc8d_row8_col9 {\n",
              "  background-color: #e5d8d1;\n",
              "  color: #000000;\n",
              "}\n",
              "#T_2fc8d_row8_col10 {\n",
              "  background-color: #9dbdff;\n",
              "  color: #000000;\n",
              "}\n",
              "#T_2fc8d_row9_col0 {\n",
              "  background-color: #6e90f2;\n",
              "  color: #f1f1f1;\n",
              "}\n",
              "#T_2fc8d_row9_col1 {\n",
              "  background-color: #4257c9;\n",
              "  color: #f1f1f1;\n",
              "}\n",
              "#T_2fc8d_row9_col5, #T_2fc8d_row10_col1, #T_2fc8d_row10_col5 {\n",
              "  background-color: #3f53c6;\n",
              "  color: #f1f1f1;\n",
              "}\n",
              "#T_2fc8d_row9_col8 {\n",
              "  background-color: #ead5c9;\n",
              "  color: #000000;\n",
              "}\n",
              "#T_2fc8d_row9_col10 {\n",
              "  background-color: #9abbff;\n",
              "  color: #000000;\n",
              "}\n",
              "#T_2fc8d_row10_col2 {\n",
              "  background-color: #6b8df0;\n",
              "  color: #f1f1f1;\n",
              "}\n",
              "#T_2fc8d_row10_col6 {\n",
              "  background-color: #d6dce4;\n",
              "  color: #000000;\n",
              "}\n",
              "#T_2fc8d_row10_col9 {\n",
              "  background-color: #779af7;\n",
              "  color: #f1f1f1;\n",
              "}\n",
              "</style>\n",
              "<table id=\"T_2fc8d_\" class=\"dataframe\">\n",
              "  <thead>\n",
              "    <tr>\n",
              "      <th class=\"blank level0\" >&nbsp;</th>\n",
              "      <th class=\"col_heading level0 col0\" >age</th>\n",
              "      <th class=\"col_heading level0 col1\" >default</th>\n",
              "      <th class=\"col_heading level0 col2\" >balance</th>\n",
              "      <th class=\"col_heading level0 col3\" >housing</th>\n",
              "      <th class=\"col_heading level0 col4\" >loan</th>\n",
              "      <th class=\"col_heading level0 col5\" >day</th>\n",
              "      <th class=\"col_heading level0 col6\" >duration</th>\n",
              "      <th class=\"col_heading level0 col7\" >campaign</th>\n",
              "      <th class=\"col_heading level0 col8\" >pdays</th>\n",
              "      <th class=\"col_heading level0 col9\" >previous</th>\n",
              "      <th class=\"col_heading level0 col10\" >deposit</th>\n",
              "    </tr>\n",
              "  </thead>\n",
              "  <tbody>\n",
              "    <tr>\n",
              "      <th id=\"T_2fc8d_level0_row0\" class=\"row_heading level0 row0\" >age</th>\n",
              "      <td id=\"T_2fc8d_row0_col0\" class=\"data row0 col0\" >1.000000</td>\n",
              "      <td id=\"T_2fc8d_row0_col1\" class=\"data row0 col1\" >-0.011425</td>\n",
              "      <td id=\"T_2fc8d_row0_col2\" class=\"data row0 col2\" >0.112300</td>\n",
              "      <td id=\"T_2fc8d_row0_col3\" class=\"data row0 col3\" >-0.168700</td>\n",
              "      <td id=\"T_2fc8d_row0_col4\" class=\"data row0 col4\" >-0.031418</td>\n",
              "      <td id=\"T_2fc8d_row0_col5\" class=\"data row0 col5\" >-0.000762</td>\n",
              "      <td id=\"T_2fc8d_row0_col6\" class=\"data row0 col6\" >0.000189</td>\n",
              "      <td id=\"T_2fc8d_row0_col7\" class=\"data row0 col7\" >-0.005278</td>\n",
              "      <td id=\"T_2fc8d_row0_col8\" class=\"data row0 col8\" >0.002774</td>\n",
              "      <td id=\"T_2fc8d_row0_col9\" class=\"data row0 col9\" >0.020169</td>\n",
              "      <td id=\"T_2fc8d_row0_col10\" class=\"data row0 col10\" >0.034901</td>\n",
              "    </tr>\n",
              "    <tr>\n",
              "      <th id=\"T_2fc8d_level0_row1\" class=\"row_heading level0 row1\" >default</th>\n",
              "      <td id=\"T_2fc8d_row1_col0\" class=\"data row1 col0\" >-0.011425</td>\n",
              "      <td id=\"T_2fc8d_row1_col1\" class=\"data row1 col1\" >1.000000</td>\n",
              "      <td id=\"T_2fc8d_row1_col2\" class=\"data row1 col2\" >-0.060954</td>\n",
              "      <td id=\"T_2fc8d_row1_col3\" class=\"data row1 col3\" >0.011076</td>\n",
              "      <td id=\"T_2fc8d_row1_col4\" class=\"data row1 col4\" >0.076434</td>\n",
              "      <td id=\"T_2fc8d_row1_col5\" class=\"data row1 col5\" >0.017342</td>\n",
              "      <td id=\"T_2fc8d_row1_col6\" class=\"data row1 col6\" >-0.009760</td>\n",
              "      <td id=\"T_2fc8d_row1_col7\" class=\"data row1 col7\" >0.030975</td>\n",
              "      <td id=\"T_2fc8d_row1_col8\" class=\"data row1 col8\" >-0.036282</td>\n",
              "      <td id=\"T_2fc8d_row1_col9\" class=\"data row1 col9\" >-0.035273</td>\n",
              "      <td id=\"T_2fc8d_row1_col10\" class=\"data row1 col10\" >-0.040680</td>\n",
              "    </tr>\n",
              "    <tr>\n",
              "      <th id=\"T_2fc8d_level0_row2\" class=\"row_heading level0 row2\" >balance</th>\n",
              "      <td id=\"T_2fc8d_row2_col0\" class=\"data row2 col0\" >0.112300</td>\n",
              "      <td id=\"T_2fc8d_row2_col1\" class=\"data row2 col1\" >-0.060954</td>\n",
              "      <td id=\"T_2fc8d_row2_col2\" class=\"data row2 col2\" >1.000000</td>\n",
              "      <td id=\"T_2fc8d_row2_col3\" class=\"data row2 col3\" >-0.077092</td>\n",
              "      <td id=\"T_2fc8d_row2_col4\" class=\"data row2 col4\" >-0.084589</td>\n",
              "      <td id=\"T_2fc8d_row2_col5\" class=\"data row2 col5\" >0.010467</td>\n",
              "      <td id=\"T_2fc8d_row2_col6\" class=\"data row2 col6\" >0.022436</td>\n",
              "      <td id=\"T_2fc8d_row2_col7\" class=\"data row2 col7\" >-0.013894</td>\n",
              "      <td id=\"T_2fc8d_row2_col8\" class=\"data row2 col8\" >0.017411</td>\n",
              "      <td id=\"T_2fc8d_row2_col9\" class=\"data row2 col9\" >0.030805</td>\n",
              "      <td id=\"T_2fc8d_row2_col10\" class=\"data row2 col10\" >0.081129</td>\n",
              "    </tr>\n",
              "    <tr>\n",
              "      <th id=\"T_2fc8d_level0_row3\" class=\"row_heading level0 row3\" >housing</th>\n",
              "      <td id=\"T_2fc8d_row3_col0\" class=\"data row3 col0\" >-0.168700</td>\n",
              "      <td id=\"T_2fc8d_row3_col1\" class=\"data row3 col1\" >0.011076</td>\n",
              "      <td id=\"T_2fc8d_row3_col2\" class=\"data row3 col2\" >-0.077092</td>\n",
              "      <td id=\"T_2fc8d_row3_col3\" class=\"data row3 col3\" >1.000000</td>\n",
              "      <td id=\"T_2fc8d_row3_col4\" class=\"data row3 col4\" >0.076761</td>\n",
              "      <td id=\"T_2fc8d_row3_col5\" class=\"data row3 col5\" >-0.014770</td>\n",
              "      <td id=\"T_2fc8d_row3_col6\" class=\"data row3 col6\" >0.035051</td>\n",
              "      <td id=\"T_2fc8d_row3_col7\" class=\"data row3 col7\" >0.006660</td>\n",
              "      <td id=\"T_2fc8d_row3_col8\" class=\"data row3 col8\" >0.064497</td>\n",
              "      <td id=\"T_2fc8d_row3_col9\" class=\"data row3 col9\" >-0.000840</td>\n",
              "      <td id=\"T_2fc8d_row3_col10\" class=\"data row3 col10\" >-0.203888</td>\n",
              "    </tr>\n",
              "    <tr>\n",
              "      <th id=\"T_2fc8d_level0_row4\" class=\"row_heading level0 row4\" >loan</th>\n",
              "      <td id=\"T_2fc8d_row4_col0\" class=\"data row4 col0\" >-0.031418</td>\n",
              "      <td id=\"T_2fc8d_row4_col1\" class=\"data row4 col1\" >0.076434</td>\n",
              "      <td id=\"T_2fc8d_row4_col2\" class=\"data row4 col2\" >-0.084589</td>\n",
              "      <td id=\"T_2fc8d_row4_col3\" class=\"data row4 col3\" >0.076761</td>\n",
              "      <td id=\"T_2fc8d_row4_col4\" class=\"data row4 col4\" >1.000000</td>\n",
              "      <td id=\"T_2fc8d_row4_col5\" class=\"data row4 col5\" >0.017269</td>\n",
              "      <td id=\"T_2fc8d_row4_col6\" class=\"data row4 col6\" >-0.001914</td>\n",
              "      <td id=\"T_2fc8d_row4_col7\" class=\"data row4 col7\" >0.034722</td>\n",
              "      <td id=\"T_2fc8d_row4_col8\" class=\"data row4 col8\" >-0.030416</td>\n",
              "      <td id=\"T_2fc8d_row4_col9\" class=\"data row4 col9\" >-0.022668</td>\n",
              "      <td id=\"T_2fc8d_row4_col10\" class=\"data row4 col10\" >-0.110580</td>\n",
              "    </tr>\n",
              "    <tr>\n",
              "      <th id=\"T_2fc8d_level0_row5\" class=\"row_heading level0 row5\" >day</th>\n",
              "      <td id=\"T_2fc8d_row5_col0\" class=\"data row5 col0\" >-0.000762</td>\n",
              "      <td id=\"T_2fc8d_row5_col1\" class=\"data row5 col1\" >0.017342</td>\n",
              "      <td id=\"T_2fc8d_row5_col2\" class=\"data row5 col2\" >0.010467</td>\n",
              "      <td id=\"T_2fc8d_row5_col3\" class=\"data row5 col3\" >-0.014770</td>\n",
              "      <td id=\"T_2fc8d_row5_col4\" class=\"data row5 col4\" >0.017269</td>\n",
              "      <td id=\"T_2fc8d_row5_col5\" class=\"data row5 col5\" >1.000000</td>\n",
              "      <td id=\"T_2fc8d_row5_col6\" class=\"data row5 col6\" >-0.018511</td>\n",
              "      <td id=\"T_2fc8d_row5_col7\" class=\"data row5 col7\" >0.137007</td>\n",
              "      <td id=\"T_2fc8d_row5_col8\" class=\"data row5 col8\" >-0.077232</td>\n",
              "      <td id=\"T_2fc8d_row5_col9\" class=\"data row5 col9\" >-0.058981</td>\n",
              "      <td id=\"T_2fc8d_row5_col10\" class=\"data row5 col10\" >-0.056326</td>\n",
              "    </tr>\n",
              "    <tr>\n",
              "      <th id=\"T_2fc8d_level0_row6\" class=\"row_heading level0 row6\" >duration</th>\n",
              "      <td id=\"T_2fc8d_row6_col0\" class=\"data row6 col0\" >0.000189</td>\n",
              "      <td id=\"T_2fc8d_row6_col1\" class=\"data row6 col1\" >-0.009760</td>\n",
              "      <td id=\"T_2fc8d_row6_col2\" class=\"data row6 col2\" >0.022436</td>\n",
              "      <td id=\"T_2fc8d_row6_col3\" class=\"data row6 col3\" >0.035051</td>\n",
              "      <td id=\"T_2fc8d_row6_col4\" class=\"data row6 col4\" >-0.001914</td>\n",
              "      <td id=\"T_2fc8d_row6_col5\" class=\"data row6 col5\" >-0.018511</td>\n",
              "      <td id=\"T_2fc8d_row6_col6\" class=\"data row6 col6\" >1.000000</td>\n",
              "      <td id=\"T_2fc8d_row6_col7\" class=\"data row6 col7\" >-0.041557</td>\n",
              "      <td id=\"T_2fc8d_row6_col8\" class=\"data row6 col8\" >-0.027392</td>\n",
              "      <td id=\"T_2fc8d_row6_col9\" class=\"data row6 col9\" >-0.026716</td>\n",
              "      <td id=\"T_2fc8d_row6_col10\" class=\"data row6 col10\" >0.451919</td>\n",
              "    </tr>\n",
              "    <tr>\n",
              "      <th id=\"T_2fc8d_level0_row7\" class=\"row_heading level0 row7\" >campaign</th>\n",
              "      <td id=\"T_2fc8d_row7_col0\" class=\"data row7 col0\" >-0.005278</td>\n",
              "      <td id=\"T_2fc8d_row7_col1\" class=\"data row7 col1\" >0.030975</td>\n",
              "      <td id=\"T_2fc8d_row7_col2\" class=\"data row7 col2\" >-0.013894</td>\n",
              "      <td id=\"T_2fc8d_row7_col3\" class=\"data row7 col3\" >0.006660</td>\n",
              "      <td id=\"T_2fc8d_row7_col4\" class=\"data row7 col4\" >0.034722</td>\n",
              "      <td id=\"T_2fc8d_row7_col5\" class=\"data row7 col5\" >0.137007</td>\n",
              "      <td id=\"T_2fc8d_row7_col6\" class=\"data row7 col6\" >-0.041557</td>\n",
              "      <td id=\"T_2fc8d_row7_col7\" class=\"data row7 col7\" >1.000000</td>\n",
              "      <td id=\"T_2fc8d_row7_col8\" class=\"data row7 col8\" >-0.102726</td>\n",
              "      <td id=\"T_2fc8d_row7_col9\" class=\"data row7 col9\" >-0.049699</td>\n",
              "      <td id=\"T_2fc8d_row7_col10\" class=\"data row7 col10\" >-0.128081</td>\n",
              "    </tr>\n",
              "    <tr>\n",
              "      <th id=\"T_2fc8d_level0_row8\" class=\"row_heading level0 row8\" >pdays</th>\n",
              "      <td id=\"T_2fc8d_row8_col0\" class=\"data row8 col0\" >0.002774</td>\n",
              "      <td id=\"T_2fc8d_row8_col1\" class=\"data row8 col1\" >-0.036282</td>\n",
              "      <td id=\"T_2fc8d_row8_col2\" class=\"data row8 col2\" >0.017411</td>\n",
              "      <td id=\"T_2fc8d_row8_col3\" class=\"data row8 col3\" >0.064497</td>\n",
              "      <td id=\"T_2fc8d_row8_col4\" class=\"data row8 col4\" >-0.030416</td>\n",
              "      <td id=\"T_2fc8d_row8_col5\" class=\"data row8 col5\" >-0.077232</td>\n",
              "      <td id=\"T_2fc8d_row8_col6\" class=\"data row8 col6\" >-0.027392</td>\n",
              "      <td id=\"T_2fc8d_row8_col7\" class=\"data row8 col7\" >-0.102726</td>\n",
              "      <td id=\"T_2fc8d_row8_col8\" class=\"data row8 col8\" >1.000000</td>\n",
              "      <td id=\"T_2fc8d_row8_col9\" class=\"data row8 col9\" >0.507272</td>\n",
              "      <td id=\"T_2fc8d_row8_col10\" class=\"data row8 col10\" >0.151593</td>\n",
              "    </tr>\n",
              "    <tr>\n",
              "      <th id=\"T_2fc8d_level0_row9\" class=\"row_heading level0 row9\" >previous</th>\n",
              "      <td id=\"T_2fc8d_row9_col0\" class=\"data row9 col0\" >0.020169</td>\n",
              "      <td id=\"T_2fc8d_row9_col1\" class=\"data row9 col1\" >-0.035273</td>\n",
              "      <td id=\"T_2fc8d_row9_col2\" class=\"data row9 col2\" >0.030805</td>\n",
              "      <td id=\"T_2fc8d_row9_col3\" class=\"data row9 col3\" >-0.000840</td>\n",
              "      <td id=\"T_2fc8d_row9_col4\" class=\"data row9 col4\" >-0.022668</td>\n",
              "      <td id=\"T_2fc8d_row9_col5\" class=\"data row9 col5\" >-0.058981</td>\n",
              "      <td id=\"T_2fc8d_row9_col6\" class=\"data row9 col6\" >-0.026716</td>\n",
              "      <td id=\"T_2fc8d_row9_col7\" class=\"data row9 col7\" >-0.049699</td>\n",
              "      <td id=\"T_2fc8d_row9_col8\" class=\"data row9 col8\" >0.507272</td>\n",
              "      <td id=\"T_2fc8d_row9_col9\" class=\"data row9 col9\" >1.000000</td>\n",
              "      <td id=\"T_2fc8d_row9_col10\" class=\"data row9 col10\" >0.139867</td>\n",
              "    </tr>\n",
              "    <tr>\n",
              "      <th id=\"T_2fc8d_level0_row10\" class=\"row_heading level0 row10\" >deposit</th>\n",
              "      <td id=\"T_2fc8d_row10_col0\" class=\"data row10 col0\" >0.034901</td>\n",
              "      <td id=\"T_2fc8d_row10_col1\" class=\"data row10 col1\" >-0.040680</td>\n",
              "      <td id=\"T_2fc8d_row10_col2\" class=\"data row10 col2\" >0.081129</td>\n",
              "      <td id=\"T_2fc8d_row10_col3\" class=\"data row10 col3\" >-0.203888</td>\n",
              "      <td id=\"T_2fc8d_row10_col4\" class=\"data row10 col4\" >-0.110580</td>\n",
              "      <td id=\"T_2fc8d_row10_col5\" class=\"data row10 col5\" >-0.056326</td>\n",
              "      <td id=\"T_2fc8d_row10_col6\" class=\"data row10 col6\" >0.451919</td>\n",
              "      <td id=\"T_2fc8d_row10_col7\" class=\"data row10 col7\" >-0.128081</td>\n",
              "      <td id=\"T_2fc8d_row10_col8\" class=\"data row10 col8\" >0.151593</td>\n",
              "      <td id=\"T_2fc8d_row10_col9\" class=\"data row10 col9\" >0.139867</td>\n",
              "      <td id=\"T_2fc8d_row10_col10\" class=\"data row10 col10\" >1.000000</td>\n",
              "    </tr>\n",
              "  </tbody>\n",
              "</table>\n"
            ]
          },
          "metadata": {},
          "execution_count": 96
        }
      ],
      "source": [
        "corr = data.corr() # строим матрицу корреляций\n",
        "\n",
        "corr.style.background_gradient(cmap='coolwarm')"
      ]
    },
    {
      "cell_type": "markdown",
      "source": [
        "## Строим логистическую регрессию без категориальных переменных"
      ],
      "metadata": {
        "id": "W9Lzgf5SZS5Y"
      }
    },
    {
      "cell_type": "markdown",
      "metadata": {
        "id": "LgJ3jZjBywci"
      },
      "source": [
        "Этап моделирования "
      ]
    },
    {
      "cell_type": "code",
      "execution_count": 97,
      "metadata": {
        "id": "PolUsWpRywcj"
      },
      "outputs": [],
      "source": [
        "X = data.drop('deposit', axis=1) # матрица объект-признак\n",
        "y = data['deposit'] # целевая переменная"
      ]
    },
    {
      "cell_type": "markdown",
      "source": [
        "Сносим категориальные переменные"
      ],
      "metadata": {
        "id": "ZzpUpXAwZbRE"
      }
    },
    {
      "cell_type": "code",
      "execution_count": 98,
      "metadata": {
        "id": "b28YjYjXywcj"
      },
      "outputs": [],
      "source": [
        "X_num = X.drop(['job','marital','education','contact','month','poutcome'], axis=1)"
      ]
    },
    {
      "cell_type": "markdown",
      "source": [
        "Разбиваем на выборки"
      ],
      "metadata": {
        "id": "1tjLZ11VZdw4"
      }
    },
    {
      "cell_type": "code",
      "execution_count": 99,
      "metadata": {
        "id": "QPvrm5WYywck"
      },
      "outputs": [],
      "source": [
        "from sklearn.metrics import accuracy_score\n",
        "from sklearn.model_selection import train_test_split\n",
        "\n",
        "Xtrain_num, Xtest_num, ytrain_num, ytest_num = train_test_split(X_num, y, test_size=0.25, random_state=42)"
      ]
    },
    {
      "cell_type": "markdown",
      "source": [
        "Нормируем данные"
      ],
      "metadata": {
        "id": "4V3JZhqGZfxN"
      }
    },
    {
      "cell_type": "code",
      "execution_count": 105,
      "metadata": {
        "id": "T1-qN_xcywck",
        "outputId": "f5d1216e-7148-47a1-9207-c639041ba4f3",
        "colab": {
          "base_uri": "https://localhost:8080/",
          "height": 206
        }
      },
      "outputs": [
        {
          "output_type": "execute_result",
          "data": {
            "text/plain": [
              "        age   default   balance   housing      loan       day  duration  \\\n",
              "0  1.581951 -0.122118  2.083507  1.059464  2.545739  0.284318 -0.785527   \n",
              "1  0.823300  8.188828 -0.500178  1.059464 -0.392813 -0.545702 -0.258692   \n",
              "2 -1.115476  8.188828 -0.812078  1.059464 -0.392813 -1.138573  0.982105   \n",
              "3 -0.946887 -0.122118  0.925652  1.059464 -0.392813  0.640040  0.561789   \n",
              "4 -0.862592 -0.122118  0.321128 -0.943873 -0.392813 -0.071405 -0.342179   \n",
              "\n",
              "   campaign     pdays  previous  \n",
              "0  1.662174 -0.474357 -0.365571  \n",
              "1 -0.183877  1.979568  2.348973  \n",
              "2 -0.183877 -0.474357 -0.365571  \n",
              "3  0.554543 -0.474357 -0.365571  \n",
              "4 -0.553088  1.225928  0.991701  "
            ],
            "text/html": [
              "\n",
              "  <div id=\"df-aff0b82b-8b00-4938-964f-59a7ac4f7450\">\n",
              "    <div class=\"colab-df-container\">\n",
              "      <div>\n",
              "<style scoped>\n",
              "    .dataframe tbody tr th:only-of-type {\n",
              "        vertical-align: middle;\n",
              "    }\n",
              "\n",
              "    .dataframe tbody tr th {\n",
              "        vertical-align: top;\n",
              "    }\n",
              "\n",
              "    .dataframe thead th {\n",
              "        text-align: right;\n",
              "    }\n",
              "</style>\n",
              "<table border=\"1\" class=\"dataframe\">\n",
              "  <thead>\n",
              "    <tr style=\"text-align: right;\">\n",
              "      <th></th>\n",
              "      <th>age</th>\n",
              "      <th>default</th>\n",
              "      <th>balance</th>\n",
              "      <th>housing</th>\n",
              "      <th>loan</th>\n",
              "      <th>day</th>\n",
              "      <th>duration</th>\n",
              "      <th>campaign</th>\n",
              "      <th>pdays</th>\n",
              "      <th>previous</th>\n",
              "    </tr>\n",
              "  </thead>\n",
              "  <tbody>\n",
              "    <tr>\n",
              "      <th>0</th>\n",
              "      <td>1.581951</td>\n",
              "      <td>-0.122118</td>\n",
              "      <td>2.083507</td>\n",
              "      <td>1.059464</td>\n",
              "      <td>2.545739</td>\n",
              "      <td>0.284318</td>\n",
              "      <td>-0.785527</td>\n",
              "      <td>1.662174</td>\n",
              "      <td>-0.474357</td>\n",
              "      <td>-0.365571</td>\n",
              "    </tr>\n",
              "    <tr>\n",
              "      <th>1</th>\n",
              "      <td>0.823300</td>\n",
              "      <td>8.188828</td>\n",
              "      <td>-0.500178</td>\n",
              "      <td>1.059464</td>\n",
              "      <td>-0.392813</td>\n",
              "      <td>-0.545702</td>\n",
              "      <td>-0.258692</td>\n",
              "      <td>-0.183877</td>\n",
              "      <td>1.979568</td>\n",
              "      <td>2.348973</td>\n",
              "    </tr>\n",
              "    <tr>\n",
              "      <th>2</th>\n",
              "      <td>-1.115476</td>\n",
              "      <td>8.188828</td>\n",
              "      <td>-0.812078</td>\n",
              "      <td>1.059464</td>\n",
              "      <td>-0.392813</td>\n",
              "      <td>-1.138573</td>\n",
              "      <td>0.982105</td>\n",
              "      <td>-0.183877</td>\n",
              "      <td>-0.474357</td>\n",
              "      <td>-0.365571</td>\n",
              "    </tr>\n",
              "    <tr>\n",
              "      <th>3</th>\n",
              "      <td>-0.946887</td>\n",
              "      <td>-0.122118</td>\n",
              "      <td>0.925652</td>\n",
              "      <td>1.059464</td>\n",
              "      <td>-0.392813</td>\n",
              "      <td>0.640040</td>\n",
              "      <td>0.561789</td>\n",
              "      <td>0.554543</td>\n",
              "      <td>-0.474357</td>\n",
              "      <td>-0.365571</td>\n",
              "    </tr>\n",
              "    <tr>\n",
              "      <th>4</th>\n",
              "      <td>-0.862592</td>\n",
              "      <td>-0.122118</td>\n",
              "      <td>0.321128</td>\n",
              "      <td>-0.943873</td>\n",
              "      <td>-0.392813</td>\n",
              "      <td>-0.071405</td>\n",
              "      <td>-0.342179</td>\n",
              "      <td>-0.553088</td>\n",
              "      <td>1.225928</td>\n",
              "      <td>0.991701</td>\n",
              "    </tr>\n",
              "  </tbody>\n",
              "</table>\n",
              "</div>\n",
              "      <button class=\"colab-df-convert\" onclick=\"convertToInteractive('df-aff0b82b-8b00-4938-964f-59a7ac4f7450')\"\n",
              "              title=\"Convert this dataframe to an interactive table.\"\n",
              "              style=\"display:none;\">\n",
              "        \n",
              "  <svg xmlns=\"http://www.w3.org/2000/svg\" height=\"24px\"viewBox=\"0 0 24 24\"\n",
              "       width=\"24px\">\n",
              "    <path d=\"M0 0h24v24H0V0z\" fill=\"none\"/>\n",
              "    <path d=\"M18.56 5.44l.94 2.06.94-2.06 2.06-.94-2.06-.94-.94-2.06-.94 2.06-2.06.94zm-11 1L8.5 8.5l.94-2.06 2.06-.94-2.06-.94L8.5 2.5l-.94 2.06-2.06.94zm10 10l.94 2.06.94-2.06 2.06-.94-2.06-.94-.94-2.06-.94 2.06-2.06.94z\"/><path d=\"M17.41 7.96l-1.37-1.37c-.4-.4-.92-.59-1.43-.59-.52 0-1.04.2-1.43.59L10.3 9.45l-7.72 7.72c-.78.78-.78 2.05 0 2.83L4 21.41c.39.39.9.59 1.41.59.51 0 1.02-.2 1.41-.59l7.78-7.78 2.81-2.81c.8-.78.8-2.07 0-2.86zM5.41 20L4 18.59l7.72-7.72 1.47 1.35L5.41 20z\"/>\n",
              "  </svg>\n",
              "      </button>\n",
              "      \n",
              "  <style>\n",
              "    .colab-df-container {\n",
              "      display:flex;\n",
              "      flex-wrap:wrap;\n",
              "      gap: 12px;\n",
              "    }\n",
              "\n",
              "    .colab-df-convert {\n",
              "      background-color: #E8F0FE;\n",
              "      border: none;\n",
              "      border-radius: 50%;\n",
              "      cursor: pointer;\n",
              "      display: none;\n",
              "      fill: #1967D2;\n",
              "      height: 32px;\n",
              "      padding: 0 0 0 0;\n",
              "      width: 32px;\n",
              "    }\n",
              "\n",
              "    .colab-df-convert:hover {\n",
              "      background-color: #E2EBFA;\n",
              "      box-shadow: 0px 1px 2px rgba(60, 64, 67, 0.3), 0px 1px 3px 1px rgba(60, 64, 67, 0.15);\n",
              "      fill: #174EA6;\n",
              "    }\n",
              "\n",
              "    [theme=dark] .colab-df-convert {\n",
              "      background-color: #3B4455;\n",
              "      fill: #D2E3FC;\n",
              "    }\n",
              "\n",
              "    [theme=dark] .colab-df-convert:hover {\n",
              "      background-color: #434B5C;\n",
              "      box-shadow: 0px 1px 3px 1px rgba(0, 0, 0, 0.15);\n",
              "      filter: drop-shadow(0px 1px 2px rgba(0, 0, 0, 0.3));\n",
              "      fill: #FFFFFF;\n",
              "    }\n",
              "  </style>\n",
              "\n",
              "      <script>\n",
              "        const buttonEl =\n",
              "          document.querySelector('#df-aff0b82b-8b00-4938-964f-59a7ac4f7450 button.colab-df-convert');\n",
              "        buttonEl.style.display =\n",
              "          google.colab.kernel.accessAllowed ? 'block' : 'none';\n",
              "\n",
              "        async function convertToInteractive(key) {\n",
              "          const element = document.querySelector('#df-aff0b82b-8b00-4938-964f-59a7ac4f7450');\n",
              "          const dataTable =\n",
              "            await google.colab.kernel.invokeFunction('convertToInteractive',\n",
              "                                                     [key], {});\n",
              "          if (!dataTable) return;\n",
              "\n",
              "          const docLinkHtml = 'Like what you see? Visit the ' +\n",
              "            '<a target=\"_blank\" href=https://colab.research.google.com/notebooks/data_table.ipynb>data table notebook</a>'\n",
              "            + ' to learn more about interactive tables.';\n",
              "          element.innerHTML = '';\n",
              "          dataTable['output_type'] = 'display_data';\n",
              "          await google.colab.output.renderOutput(dataTable, element);\n",
              "          const docLink = document.createElement('div');\n",
              "          docLink.innerHTML = docLinkHtml;\n",
              "          element.appendChild(docLink);\n",
              "        }\n",
              "      </script>\n",
              "    </div>\n",
              "  </div>\n",
              "  "
            ]
          },
          "metadata": {},
          "execution_count": 105
        }
      ],
      "source": [
        "import pandas as pd\n",
        "from sklearn.preprocessing import StandardScaler\n",
        "\n",
        "ss = StandardScaler()\n",
        "ss.fit(Xtrain_num)\n",
        "\n",
        "Xtrain = pd.DataFrame(ss.transform(Xtrain_num), columns=X_num.columns)\n",
        "Xtest = pd.DataFrame(ss.transform(Xtest_num), columns=X_num.columns)\n",
        "\n",
        "Xtrain.head()"
      ]
    },
    {
      "cell_type": "markdown",
      "source": [
        "Оцениваем модель"
      ],
      "metadata": {
        "id": "Oh7mEHMuZh9W"
      }
    },
    {
      "cell_type": "code",
      "execution_count": 106,
      "metadata": {
        "id": "GOC0ofEfywcl",
        "outputId": "423a22f1-b2e6-44a7-c284-fdd9d3cc6e26",
        "colab": {
          "base_uri": "https://localhost:8080/"
        }
      },
      "outputs": [
        {
          "output_type": "stream",
          "name": "stderr",
          "text": [
            "/usr/local/lib/python3.8/dist-packages/sklearn/linear_model/_logistic.py:814: ConvergenceWarning: lbfgs failed to converge (status=1):\n",
            "STOP: TOTAL NO. of ITERATIONS REACHED LIMIT.\n",
            "\n",
            "Increase the number of iterations (max_iter) or scale the data as shown in:\n",
            "    https://scikit-learn.org/stable/modules/preprocessing.html\n",
            "Please also refer to the documentation for alternative solver options:\n",
            "    https://scikit-learn.org/stable/modules/linear_model.html#logistic-regression\n",
            "  n_iter_i = _check_optimize_result(\n"
          ]
        },
        {
          "output_type": "execute_result",
          "data": {
            "text/plain": [
              "LogisticRegression()"
            ]
          },
          "metadata": {},
          "execution_count": 106
        }
      ],
      "source": [
        "from sklearn.linear_model import LogisticRegression\n",
        "\n",
        "model = LogisticRegression() # объявление модели\n",
        "model.fit(Xtrain_num, ytrain_num) # обучение модели"
      ]
    },
    {
      "cell_type": "code",
      "execution_count": 107,
      "metadata": {
        "id": "-cfj_QZLywcm",
        "outputId": "586c8ecc-32ca-4cd0-8c5b-28ee1742887a",
        "colab": {
          "base_uri": "https://localhost:8080/"
        }
      },
      "outputs": [
        {
          "output_type": "execute_result",
          "data": {
            "text/plain": [
              "array([0, 1, 1, ..., 0, 0, 1])"
            ]
          },
          "metadata": {},
          "execution_count": 107
        }
      ],
      "source": [
        "pred_test = model.predict(Xtest_num) # предсказание классов\n",
        "pred_test_proba = model.predict_proba (Xtest_num)\n",
        "pred_test"
      ]
    },
    {
      "cell_type": "markdown",
      "source": [
        "Оцениваем результаты"
      ],
      "metadata": {
        "id": "wq2ngfuDZlOL"
      }
    },
    {
      "cell_type": "code",
      "execution_count": 108,
      "metadata": {
        "id": "6D6mgwKnywcn",
        "outputId": "bc958da4-230a-46d8-cef8-51fdc51170fd",
        "colab": {
          "base_uri": "https://localhost:8080/"
        }
      },
      "outputs": [
        {
          "output_type": "execute_result",
          "data": {
            "text/plain": [
              "0.7549265496237908"
            ]
          },
          "metadata": {},
          "execution_count": 108
        }
      ],
      "source": [
        "accuracy_score(ytest_num, pred_test)"
      ]
    },
    {
      "cell_type": "code",
      "execution_count": 109,
      "metadata": {
        "id": "dv_c240Oywco",
        "outputId": "e8ad799a-5226-4c27-b808-7f58632633c0",
        "colab": {
          "base_uri": "https://localhost:8080/",
          "height": 333
        }
      },
      "outputs": [
        {
          "output_type": "execute_result",
          "data": {
            "text/plain": [
              "array([[1153,  297],\n",
              "       [ 387,  954]])"
            ]
          },
          "metadata": {},
          "execution_count": 109
        },
        {
          "output_type": "display_data",
          "data": {
            "text/plain": [
              "<Figure size 432x288 with 2 Axes>"
            ],
            "image/png": "[encoded data removed]"
          },
          "metadata": {
            "needs_background": "light"
          }
        }
      ],
      "source": [
        "from sklearn.metrics import confusion_matrix\n",
        "import seaborn as sb\n",
        "\n",
        "\n",
        "conf_mx = confusion_matrix(ytest_num, pred_test)\n",
        "sb.heatmap(conf_mx,annot=True,fmt='4.0f')\n",
        "plt.title('Confusion Matrix', size = 12)\n",
        "plt.xlabel ('Predicted values')\n",
        "plt.ylabel ('Actual values')\n",
        "conf_mx"
      ]
    },
    {
      "cell_type": "code",
      "execution_count": 110,
      "metadata": {
        "id": "9sJvMfVTywco",
        "outputId": "59fd46d9-4354-4171-9930-afbe7b54c14f",
        "colab": {
          "base_uri": "https://localhost:8080/"
        }
      },
      "outputs": [
        {
          "output_type": "execute_result",
          "data": {
            "text/plain": [
              "0    1450\n",
              "1    1341\n",
              "Name: deposit, dtype: int64"
            ]
          },
          "metadata": {},
          "execution_count": 110
        }
      ],
      "source": [
        "ytest_num.value_counts()"
      ]
    },
    {
      "cell_type": "code",
      "execution_count": 111,
      "metadata": {
        "id": "hKc_qBdDywcp",
        "outputId": "fbe31c72-9a34-4428-d243-bd9d333f4bb4",
        "colab": {
          "base_uri": "https://localhost:8080/"
        }
      },
      "outputs": [
        {
          "output_type": "execute_result",
          "data": {
            "text/plain": [
              "0.7114093959731543"
            ]
          },
          "metadata": {},
          "execution_count": 111
        }
      ],
      "source": [
        "from sklearn.metrics import recall_score\n",
        "\n",
        "recall_score(ytest_num, pred_test)"
      ]
    },
    {
      "cell_type": "code",
      "execution_count": 112,
      "metadata": {
        "id": "QwJAX3U9ywcp",
        "outputId": "66aefe43-cb32-4529-e424-52c406d45847",
        "colab": {
          "base_uri": "https://localhost:8080/"
        }
      },
      "outputs": [
        {
          "output_type": "execute_result",
          "data": {
            "text/plain": [
              "0.762589928057554"
            ]
          },
          "metadata": {},
          "execution_count": 112
        }
      ],
      "source": [
        "from sklearn.metrics import precision_score\n",
        "\n",
        "precision_score(ytest_num, pred_test)"
      ]
    },
    {
      "cell_type": "code",
      "execution_count": 113,
      "metadata": {
        "id": "om0aufRXywcp",
        "outputId": "4759aa06-d1a9-43bc-92b3-5288bbf5712b",
        "colab": {
          "base_uri": "https://localhost:8080/"
        }
      },
      "outputs": [
        {
          "output_type": "execute_result",
          "data": {
            "text/plain": [
              "0.736111111111111"
            ]
          },
          "metadata": {},
          "execution_count": 113
        }
      ],
      "source": [
        "from sklearn.metrics import f1_score\n",
        "\n",
        "f1_score(ytest_num, pred_test)"
      ]
    },
    {
      "cell_type": "code",
      "execution_count": 115,
      "metadata": {
        "id": "MZCZCHxSywcq",
        "outputId": "d94d83e5-ae4f-416d-c760-f069a4b2e474",
        "colab": {
          "base_uri": "https://localhost:8080/",
          "height": 363
        }
      },
      "outputs": [
        {
          "output_type": "execute_result",
          "data": {
            "text/plain": [
              "   features   weights\n",
              "3   housing -0.969108\n",
              "4      loan -0.266718\n",
              "7  campaign -0.121285\n",
              "1   default -0.029444\n",
              "0       age -0.016790\n",
              "5       day -0.016510\n",
              "2   balance  0.000034\n",
              "8     pdays  0.000577\n",
              "6  duration  0.004587\n",
              "9  previous  0.347137"
            ],
            "text/html": [
              "\n",
              "  <div id=\"df-17791a12-ce6c-488a-89df-8657e8383adc\">\n",
              "    <div class=\"colab-df-container\">\n",
              "      <div>\n",
              "<style scoped>\n",
              "    .dataframe tbody tr th:only-of-type {\n",
              "        vertical-align: middle;\n",
              "    }\n",
              "\n",
              "    .dataframe tbody tr th {\n",
              "        vertical-align: top;\n",
              "    }\n",
              "\n",
              "    .dataframe thead th {\n",
              "        text-align: right;\n",
              "    }\n",
              "</style>\n",
              "<table border=\"1\" class=\"dataframe\">\n",
              "  <thead>\n",
              "    <tr style=\"text-align: right;\">\n",
              "      <th></th>\n",
              "      <th>features</th>\n",
              "      <th>weights</th>\n",
              "    </tr>\n",
              "  </thead>\n",
              "  <tbody>\n",
              "    <tr>\n",
              "      <th>3</th>\n",
              "      <td>housing</td>\n",
              "      <td>-0.969108</td>\n",
              "    </tr>\n",
              "    <tr>\n",
              "      <th>4</th>\n",
              "      <td>loan</td>\n",
              "      <td>-0.266718</td>\n",
              "    </tr>\n",
              "    <tr>\n",
              "      <th>7</th>\n",
              "      <td>campaign</td>\n",
              "      <td>-0.121285</td>\n",
              "    </tr>\n",
              "    <tr>\n",
              "      <th>1</th>\n",
              "      <td>default</td>\n",
              "      <td>-0.029444</td>\n",
              "    </tr>\n",
              "    <tr>\n",
              "      <th>0</th>\n",
              "      <td>age</td>\n",
              "      <td>-0.016790</td>\n",
              "    </tr>\n",
              "    <tr>\n",
              "      <th>5</th>\n",
              "      <td>day</td>\n",
              "      <td>-0.016510</td>\n",
              "    </tr>\n",
              "    <tr>\n",
              "      <th>2</th>\n",
              "      <td>balance</td>\n",
              "      <td>0.000034</td>\n",
              "    </tr>\n",
              "    <tr>\n",
              "      <th>8</th>\n",
              "      <td>pdays</td>\n",
              "      <td>0.000577</td>\n",
              "    </tr>\n",
              "    <tr>\n",
              "      <th>6</th>\n",
              "      <td>duration</td>\n",
              "      <td>0.004587</td>\n",
              "    </tr>\n",
              "    <tr>\n",
              "      <th>9</th>\n",
              "      <td>previous</td>\n",
              "      <td>0.347137</td>\n",
              "    </tr>\n",
              "  </tbody>\n",
              "</table>\n",
              "</div>\n",
              "      <button class=\"colab-df-convert\" onclick=\"convertToInteractive('df-17791a12-ce6c-488a-89df-8657e8383adc')\"\n",
              "              title=\"Convert this dataframe to an interactive table.\"\n",
              "              style=\"display:none;\">\n",
              "        \n",
              "  <svg xmlns=\"http://www.w3.org/2000/svg\" height=\"24px\"viewBox=\"0 0 24 24\"\n",
              "       width=\"24px\">\n",
              "    <path d=\"M0 0h24v24H0V0z\" fill=\"none\"/>\n",
              "    <path d=\"M18.56 5.44l.94 2.06.94-2.06 2.06-.94-2.06-.94-.94-2.06-.94 2.06-2.06.94zm-11 1L8.5 8.5l.94-2.06 2.06-.94-2.06-.94L8.5 2.5l-.94 2.06-2.06.94zm10 10l.94 2.06.94-2.06 2.06-.94-2.06-.94-.94-2.06-.94 2.06-2.06.94z\"/><path d=\"M17.41 7.96l-1.37-1.37c-.4-.4-.92-.59-1.43-.59-.52 0-1.04.2-1.43.59L10.3 9.45l-7.72 7.72c-.78.78-.78 2.05 0 2.83L4 21.41c.39.39.9.59 1.41.59.51 0 1.02-.2 1.41-.59l7.78-7.78 2.81-2.81c.8-.78.8-2.07 0-2.86zM5.41 20L4 18.59l7.72-7.72 1.47 1.35L5.41 20z\"/>\n",
              "  </svg>\n",
              "      </button>\n",
              "      \n",
              "  <style>\n",
              "    .colab-df-container {\n",
              "      display:flex;\n",
              "      flex-wrap:wrap;\n",
              "      gap: 12px;\n",
              "    }\n",
              "\n",
              "    .colab-df-convert {\n",
              "      background-color: #E8F0FE;\n",
              "      border: none;\n",
              "      border-radius: 50%;\n",
              "      cursor: pointer;\n",
              "      display: none;\n",
              "      fill: #1967D2;\n",
              "      height: 32px;\n",
              "      padding: 0 0 0 0;\n",
              "      width: 32px;\n",
              "    }\n",
              "\n",
              "    .colab-df-convert:hover {\n",
              "      background-color: #E2EBFA;\n",
              "      box-shadow: 0px 1px 2px rgba(60, 64, 67, 0.3), 0px 1px 3px 1px rgba(60, 64, 67, 0.15);\n",
              "      fill: #174EA6;\n",
              "    }\n",
              "\n",
              "    [theme=dark] .colab-df-convert {\n",
              "      background-color: #3B4455;\n",
              "      fill: #D2E3FC;\n",
              "    }\n",
              "\n",
              "    [theme=dark] .colab-df-convert:hover {\n",
              "      background-color: #434B5C;\n",
              "      box-shadow: 0px 1px 3px 1px rgba(0, 0, 0, 0.15);\n",
              "      filter: drop-shadow(0px 1px 2px rgba(0, 0, 0, 0.3));\n",
              "      fill: #FFFFFF;\n",
              "    }\n",
              "  </style>\n",
              "\n",
              "      <script>\n",
              "        const buttonEl =\n",
              "          document.querySelector('#df-17791a12-ce6c-488a-89df-8657e8383adc button.colab-df-convert');\n",
              "        buttonEl.style.display =\n",
              "          google.colab.kernel.accessAllowed ? 'block' : 'none';\n",
              "\n",
              "        async function convertToInteractive(key) {\n",
              "          const element = document.querySelector('#df-17791a12-ce6c-488a-89df-8657e8383adc');\n",
              "          const dataTable =\n",
              "            await google.colab.kernel.invokeFunction('convertToInteractive',\n",
              "                                                     [key], {});\n",
              "          if (!dataTable) return;\n",
              "\n",
              "          const docLinkHtml = 'Like what you see? Visit the ' +\n",
              "            '<a target=\"_blank\" href=https://colab.research.google.com/notebooks/data_table.ipynb>data table notebook</a>'\n",
              "            + ' to learn more about interactive tables.';\n",
              "          element.innerHTML = '';\n",
              "          dataTable['output_type'] = 'display_data';\n",
              "          await google.colab.output.renderOutput(dataTable, element);\n",
              "          const docLink = document.createElement('div');\n",
              "          docLink.innerHTML = docLinkHtml;\n",
              "          element.appendChild(docLink);\n",
              "        }\n",
              "      </script>\n",
              "    </div>\n",
              "  </div>\n",
              "  "
            ]
          },
          "metadata": {},
          "execution_count": 115
        }
      ],
      "source": [
        "coef_table = pd.DataFrame({'features' : list(X_num.columns), 'weights' : list(model.coef_[0])})\n",
        "coef_table.sort_values(by='weights')"
      ]
    },
    {
      "cell_type": "markdown",
      "source": [
        "## Обучаем KNN"
      ],
      "metadata": {
        "id": "d0cOoEcgZtdl"
      }
    },
    {
      "cell_type": "code",
      "execution_count": 116,
      "metadata": {
        "id": "NCRUMGzHywcq"
      },
      "outputs": [],
      "source": [
        "from sklearn.neighbors import KNeighborsClassifier\n",
        "\n",
        "knn = KNeighborsClassifier()"
      ]
    },
    {
      "cell_type": "code",
      "execution_count": 117,
      "metadata": {
        "id": "RE2zZwPBywcq",
        "outputId": "be13fe08-159f-4893-f4e3-a022f592e75c",
        "colab": {
          "base_uri": "https://localhost:8080/",
          "height": 333
        }
      },
      "outputs": [
        {
          "output_type": "execute_result",
          "data": {
            "text/plain": [
              "array([[1115,  335],\n",
              "       [ 369,  972]])"
            ]
          },
          "metadata": {},
          "execution_count": 117
        },
        {
          "output_type": "display_data",
          "data": {
            "text/plain": [
              "<Figure size 432x288 with 2 Axes>"
            ],
            "image/png": "[encoded data removed]"
          },
          "metadata": {
            "needs_background": "light"
          }
        }
      ],
      "source": [
        "knn.fit(Xtrain_num, ytrain_num)\n",
        "pred_test_knn = knn.predict(Xtest_num)\n",
        "pred_test2 = knn.predict_proba(Xtest_num)[:,1]\n",
        "\n",
        "classes2 = pred_test2 > 0.5\n",
        "\n",
        "conf_mx2 = confusion_matrix(ytest_num, classes2)\n",
        "sb.heatmap(conf_mx2,annot=True,fmt='4.0f')\n",
        "plt.title('Confusion Matrix', size = 12)\n",
        "plt.xlabel ('Predicted values')\n",
        "plt.ylabel ('Actual values')\n",
        "conf_mx2"
      ]
    },
    {
      "cell_type": "markdown",
      "source": [
        "Оцениваем KNN"
      ],
      "metadata": {
        "id": "aP4tZzduZxz8"
      }
    },
    {
      "cell_type": "code",
      "execution_count": 118,
      "metadata": {
        "id": "lLB8B4Cnywcq",
        "outputId": "29325c3d-1a7d-4c82-eb2d-72bacea069af",
        "colab": {
          "base_uri": "https://localhost:8080/"
        }
      },
      "outputs": [
        {
          "output_type": "execute_result",
          "data": {
            "text/plain": [
              "0.7248322147651006"
            ]
          },
          "metadata": {},
          "execution_count": 118
        }
      ],
      "source": [
        "from sklearn.metrics import recall_score\n",
        "\n",
        "recall_score(ytest_num, classes2)"
      ]
    },
    {
      "cell_type": "code",
      "execution_count": 119,
      "metadata": {
        "id": "T_9OeUoeywcr",
        "outputId": "c818d710-bd94-4242-ad3a-67f1c14c53ed",
        "colab": {
          "base_uri": "https://localhost:8080/"
        }
      },
      "outputs": [
        {
          "output_type": "execute_result",
          "data": {
            "text/plain": [
              "0.7436878347360367"
            ]
          },
          "metadata": {},
          "execution_count": 119
        }
      ],
      "source": [
        "from sklearn.metrics import precision_score\n",
        "\n",
        "precision_score(ytest_num, classes2)"
      ]
    },
    {
      "cell_type": "code",
      "execution_count": 120,
      "metadata": {
        "id": "kEVzkAvaywcr",
        "outputId": "a85382a9-2d9a-4533-8940-61fe954c5e65",
        "colab": {
          "base_uri": "https://localhost:8080/"
        }
      },
      "outputs": [
        {
          "output_type": "execute_result",
          "data": {
            "text/plain": [
              "0.7341389728096677"
            ]
          },
          "metadata": {},
          "execution_count": 120
        }
      ],
      "source": [
        "from sklearn.metrics import f1_score\n",
        "\n",
        "f1_score(ytest_num, classes2)"
      ]
    },
    {
      "cell_type": "markdown",
      "source": [
        "##Dummy Variables"
      ],
      "metadata": {
        "id": "mtPTcgoEy4ek"
      }
    },
    {
      "cell_type": "markdown",
      "source": [
        "Оборачиваем категориальные переменные в Dummy при помощи OHE"
      ],
      "metadata": {
        "id": "4UJ4AmusZ3kV"
      }
    },
    {
      "cell_type": "code",
      "execution_count": 121,
      "metadata": {
        "id": "Iwqzb3SRywcr"
      },
      "outputs": [],
      "source": [
        "from sklearn.preprocessing import OneHotEncoder\n",
        "from sklearn.compose import ColumnTransformer\n",
        "\n",
        "Xtrain, Xtest, Ytrain, Ytest = train_test_split(data.drop('deposit', axis=1), data.deposit, test_size=0.25, random_state=42)\n",
        "X = data.drop(['deposit','job','marital','contact','poutcome','education','month'], axis =1)\n",
        "categorical = ['job','marital','education','contact','month','poutcome']\n",
        "\n",
        "column_transformer = ColumnTransformer([\n",
        "    ('ohe', OneHotEncoder(handle_unknown=\"ignore\"), categorical),\n",
        "    ('scaling', StandardScaler(), X.columns)\n",
        "])\n",
        "\n",
        "X_transformed = column_transformer.fit_transform(Xtrain)\n",
        "X_test_transformed = column_transformer.transform(Xtest)"
      ]
    },
    {
      "cell_type": "markdown",
      "source": [],
      "metadata": {
        "id": "ATuyoeXzzouh"
      }
    },
    {
      "cell_type": "markdown",
      "source": [
        "##Linear Regression with Dummies"
      ],
      "metadata": {
        "id": "5NwuRLh84eCw"
      }
    },
    {
      "cell_type": "markdown",
      "source": [
        "Обучаем Логистическую регрессию с категориальными переменными"
      ],
      "metadata": {
        "id": "PpThlglDZ_bS"
      }
    },
    {
      "cell_type": "code",
      "source": [
        "model2 = LogisticRegression()\n",
        "model2.fit(X_transformed,Ytrain)\n",
        "ohe_LgRg = model2.predict(X_test_transformed)\n",
        "ohe_LgRg_proba = model2.predict_proba(X_test_transformed)"
      ],
      "metadata": {
        "id": "3YjfvQkKwxqj"
      },
      "execution_count": 122,
      "outputs": []
    },
    {
      "cell_type": "markdown",
      "source": [
        "Оцениваем качество"
      ],
      "metadata": {
        "id": "u-eYfMTGaRgw"
      }
    },
    {
      "cell_type": "code",
      "source": [
        "from sklearn.metrics import accuracy_score, precision_score, recall_score, roc_auc_score\n",
        "\n",
        "print('Accuracy',round(accuracy_score(Ytest,ohe_LgRg),2))\n",
        "print('Precision',round(precision_score(Ytest,ohe_LgRg),2))\n",
        "print('Recall',round(recall_score(Ytest,ohe_LgRg),2))\n",
        "print('ROC AUC',round(roc_auc_score(Ytest,ohe_LgRg_proba [:,1]),2))"
      ],
      "metadata": {
        "colab": {
          "base_uri": "https://localhost:8080/"
        },
        "id": "rflJp9Kyw9Lt",
        "outputId": "4fff3900-6dd0-4049-d0a8-5dfdfd0ab328"
      },
      "execution_count": 123,
      "outputs": [
        {
          "output_type": "stream",
          "name": "stdout",
          "text": [
            "Accuracy 0.81\n",
            "Precision 0.82\n",
            "Recall 0.78\n",
            "ROC AUC 0.9\n"
          ]
        }
      ]
    },
    {
      "cell_type": "markdown",
      "source": [
        "## Boost"
      ],
      "metadata": {
        "id": "ALHcodT54iNS"
      }
    },
    {
      "cell_type": "markdown",
      "source": [
        "Обучаем градиентный бустинг"
      ],
      "metadata": {
        "id": "KDxFaKIRaLR7"
      }
    },
    {
      "cell_type": "code",
      "source": [
        "cat = CatBoostClassifier(iterations=1000,\n",
        "                         depth = 3,\n",
        "                         learning_rate = 0.01,\n",
        "                         loss_function='Logloss',\n",
        "                         eval_metric = 'AUC',\n",
        "                         verbose=False)\n",
        "cat.fit(X_transformed, Ytrain)\n",
        "ohe_boost = cat.predict(X_test_transformed)   \n",
        "ohe_boost_proba = cat.predict_proba(X_test_transformed)   "
      ],
      "metadata": {
        "id": "HrIqklSv0HB_"
      },
      "execution_count": 124,
      "outputs": []
    },
    {
      "cell_type": "markdown",
      "source": [
        "Оцениваем результаты"
      ],
      "metadata": {
        "id": "M5li-byyaPeB"
      }
    },
    {
      "cell_type": "code",
      "source": [
        "print('Accuracy',round(accuracy_score(Ytest,ohe_boost),2))\n",
        "print('Precision',round(precision_score(Ytest,ohe_boost),2))\n",
        "print('Recall',round(recall_score(Ytest,ohe_boost),2))\n",
        "print('ROC AUC',round(roc_auc_score(Ytest,ohe_boost_proba [:,1]),2))"
      ],
      "metadata": {
        "colab": {
          "base_uri": "https://localhost:8080/"
        },
        "id": "eeDJKygc1-XV",
        "outputId": "55d1fe2b-11aa-482d-957d-fb0956901d97"
      },
      "execution_count": 125,
      "outputs": [
        {
          "output_type": "stream",
          "name": "stdout",
          "text": [
            "Accuracy 0.84\n",
            "Precision 0.82\n",
            "Recall 0.84\n",
            "ROC AUC 0.91\n"
          ]
        }
      ]
    },
    {
      "cell_type": "markdown",
      "source": [
        "## Results and Summary"
      ],
      "metadata": {
        "id": "tvoTJG538HSj"
      }
    },
    {
      "cell_type": "markdown",
      "source": [
        "Сводим результаты моделей в одну таблицу"
      ],
      "metadata": {
        "id": "hXFC_txBaT1D"
      }
    },
    {
      "cell_type": "code",
      "source": [
        "resulting_metrics = pd.DataFrame({\n",
        "    'Accuracy':[accuracy_score(Ytest,pred_test), accuracy_score(Ytest,ohe_LgRg),accuracy_score(Ytest,pred_test_knn),accuracy_score(Ytest,ohe_boost)],\n",
        "    'Precision': [precision_score(Ytest,pred_test), precision_score(Ytest,ohe_LgRg), precision_score(Ytest,pred_test_knn),precision_score(Ytest,ohe_boost)],\n",
        "    'Recall': [recall_score(Ytest,pred_test), recall_score(Ytest,ohe_LgRg), recall_score(Ytest,pred_test_knn),recall_score(Ytest,ohe_boost)],\n",
        "    'ROC AUC': [roc_auc_score(Ytest,pred_test_proba[:,1]),roc_auc_score(Ytest,ohe_LgRg_proba [:,1]),roc_auc_score(Ytest,pred_test2),roc_auc_score(Ytest,ohe_boost_proba [:,1])]    \n",
        "}, index= ['LogReg','OHE_LogReg','KNN','OHE_Boost'])\n",
        "resulting_metrics"
      ],
      "metadata": {
        "id": "oau67yHH8JfO",
        "outputId": "97fe45cb-d95e-46af-b5b9-6f36710ab88b",
        "colab": {
          "base_uri": "https://localhost:8080/",
          "height": 175
        }
      },
      "execution_count": 126,
      "outputs": [
        {
          "output_type": "execute_result",
          "data": {
            "text/plain": [
              "            Accuracy  Precision    Recall   ROC AUC\n",
              "LogReg      0.754927   0.762590  0.711409  0.842588\n",
              "OHE_LogReg  0.811537   0.822134  0.775541  0.902381\n",
              "KNN         0.747761   0.743688  0.724832  0.800223\n",
              "OHE_Boost   0.836976   0.823830  0.840418  0.914893"
            ],
            "text/html": [
              "\n",
              "  <div id=\"df-e133306b-b251-4498-be24-0653ef511223\">\n",
              "    <div class=\"colab-df-container\">\n",
              "      <div>\n",
              "<style scoped>\n",
              "    .dataframe tbody tr th:only-of-type {\n",
              "        vertical-align: middle;\n",
              "    }\n",
              "\n",
              "    .dataframe tbody tr th {\n",
              "        vertical-align: top;\n",
              "    }\n",
              "\n",
              "    .dataframe thead th {\n",
              "        text-align: right;\n",
              "    }\n",
              "</style>\n",
              "<table border=\"1\" class=\"dataframe\">\n",
              "  <thead>\n",
              "    <tr style=\"text-align: right;\">\n",
              "      <th></th>\n",
              "      <th>Accuracy</th>\n",
              "      <th>Precision</th>\n",
              "      <th>Recall</th>\n",
              "      <th>ROC AUC</th>\n",
              "    </tr>\n",
              "  </thead>\n",
              "  <tbody>\n",
              "    <tr>\n",
              "      <th>LogReg</th>\n",
              "      <td>0.754927</td>\n",
              "      <td>0.762590</td>\n",
              "      <td>0.711409</td>\n",
              "      <td>0.842588</td>\n",
              "    </tr>\n",
              "    <tr>\n",
              "      <th>OHE_LogReg</th>\n",
              "      <td>0.811537</td>\n",
              "      <td>0.822134</td>\n",
              "      <td>0.775541</td>\n",
              "      <td>0.902381</td>\n",
              "    </tr>\n",
              "    <tr>\n",
              "      <th>KNN</th>\n",
              "      <td>0.747761</td>\n",
              "      <td>0.743688</td>\n",
              "      <td>0.724832</td>\n",
              "      <td>0.800223</td>\n",
              "    </tr>\n",
              "    <tr>\n",
              "      <th>OHE_Boost</th>\n",
              "      <td>0.836976</td>\n",
              "      <td>0.823830</td>\n",
              "      <td>0.840418</td>\n",
              "      <td>0.914893</td>\n",
              "    </tr>\n",
              "  </tbody>\n",
              "</table>\n",
              "</div>\n",
              "      <button class=\"colab-df-convert\" onclick=\"convertToInteractive('df-e133306b-b251-4498-be24-0653ef511223')\"\n",
              "              title=\"Convert this dataframe to an interactive table.\"\n",
              "              style=\"display:none;\">\n",
              "        \n",
              "  <svg xmlns=\"http://www.w3.org/2000/svg\" height=\"24px\"viewBox=\"0 0 24 24\"\n",
              "       width=\"24px\">\n",
              "    <path d=\"M0 0h24v24H0V0z\" fill=\"none\"/>\n",
              "    <path d=\"M18.56 5.44l.94 2.06.94-2.06 2.06-.94-2.06-.94-.94-2.06-.94 2.06-2.06.94zm-11 1L8.5 8.5l.94-2.06 2.06-.94-2.06-.94L8.5 2.5l-.94 2.06-2.06.94zm10 10l.94 2.06.94-2.06 2.06-.94-2.06-.94-.94-2.06-.94 2.06-2.06.94z\"/><path d=\"M17.41 7.96l-1.37-1.37c-.4-.4-.92-.59-1.43-.59-.52 0-1.04.2-1.43.59L10.3 9.45l-7.72 7.72c-.78.78-.78 2.05 0 2.83L4 21.41c.39.39.9.59 1.41.59.51 0 1.02-.2 1.41-.59l7.78-7.78 2.81-2.81c.8-.78.8-2.07 0-2.86zM5.41 20L4 18.59l7.72-7.72 1.47 1.35L5.41 20z\"/>\n",
              "  </svg>\n",
              "      </button>\n",
              "      \n",
              "  <style>\n",
              "    .colab-df-container {\n",
              "      display:flex;\n",
              "      flex-wrap:wrap;\n",
              "      gap: 12px;\n",
              "    }\n",
              "\n",
              "    .colab-df-convert {\n",
              "      background-color: #E8F0FE;\n",
              "      border: none;\n",
              "      border-radius: 50%;\n",
              "      cursor: pointer;\n",
              "      display: none;\n",
              "      fill: #1967D2;\n",
              "      height: 32px;\n",
              "      padding: 0 0 0 0;\n",
              "      width: 32px;\n",
              "    }\n",
              "\n",
              "    .colab-df-convert:hover {\n",
              "      background-color: #E2EBFA;\n",
              "      box-shadow: 0px 1px 2px rgba(60, 64, 67, 0.3), 0px 1px 3px 1px rgba(60, 64, 67, 0.15);\n",
              "      fill: #174EA6;\n",
              "    }\n",
              "\n",
              "    [theme=dark] .colab-df-convert {\n",
              "      background-color: #3B4455;\n",
              "      fill: #D2E3FC;\n",
              "    }\n",
              "\n",
              "    [theme=dark] .colab-df-convert:hover {\n",
              "      background-color: #434B5C;\n",
              "      box-shadow: 0px 1px 3px 1px rgba(0, 0, 0, 0.15);\n",
              "      filter: drop-shadow(0px 1px 2px rgba(0, 0, 0, 0.3));\n",
              "      fill: #FFFFFF;\n",
              "    }\n",
              "  </style>\n",
              "\n",
              "      <script>\n",
              "        const buttonEl =\n",
              "          document.querySelector('#df-e133306b-b251-4498-be24-0653ef511223 button.colab-df-convert');\n",
              "        buttonEl.style.display =\n",
              "          google.colab.kernel.accessAllowed ? 'block' : 'none';\n",
              "\n",
              "        async function convertToInteractive(key) {\n",
              "          const element = document.querySelector('#df-e133306b-b251-4498-be24-0653ef511223');\n",
              "          const dataTable =\n",
              "            await google.colab.kernel.invokeFunction('convertToInteractive',\n",
              "                                                     [key], {});\n",
              "          if (!dataTable) return;\n",
              "\n",
              "          const docLinkHtml = 'Like what you see? Visit the ' +\n",
              "            '<a target=\"_blank\" href=https://colab.research.google.com/notebooks/data_table.ipynb>data table notebook</a>'\n",
              "            + ' to learn more about interactive tables.';\n",
              "          element.innerHTML = '';\n",
              "          dataTable['output_type'] = 'display_data';\n",
              "          await google.colab.output.renderOutput(dataTable, element);\n",
              "          const docLink = document.createElement('div');\n",
              "          docLink.innerHTML = docLinkHtml;\n",
              "          element.appendChild(docLink);\n",
              "        }\n",
              "      </script>\n",
              "    </div>\n",
              "  </div>\n",
              "  "
            ]
          },
          "metadata": {},
          "execution_count": 126
        }
      ]
    },
    {
      "cell_type": "code",
      "source": [],
      "metadata": {
        "id": "ufDY52BieB04"
      },
      "execution_count": 126,
      "outputs": []
    }
  ],
  "metadata": {
    "kernelspec": {
      "display_name": "Python 3",
      "language": "python",
      "name": "python3"
    },
    "language_info": {
      "codemirror_mode": {
        "name": "ipython",
        "version": 3
      },
      "file_extension": ".py",
      "mimetype": "text/x-python",
      "name": "python",
      "nbconvert_exporter": "python",
      "pygments_lexer": "ipython3",
      "version": "3.8.3"
    },
    "colab": {
      "provenance": [],
      "include_colab_link": true
    }
  },
  "nbformat": 4,
  "nbformat_minor": 0
}