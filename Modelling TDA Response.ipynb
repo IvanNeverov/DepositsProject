{
  "cells": [
    {
      "cell_type": "markdown",
      "metadata": {
        "id": "view-in-github",
        "colab_type": "text"
      },
      "source": [
        "<a href=\"https://colab.research.google.com/github/IvanNeverov/DepositsProject/blob/main/Modelling%20TDA%20Response.ipynb\" target=\"_parent\"><img src=\"https://colab.research.google.com/assets/colab-badge.svg\" alt=\"Open In Colab\"/></a>"
      ]
    },
    {
      "cell_type": "markdown",
      "source": [
        "## Импортируем библиотеки"
      ],
      "metadata": {
        "id": "cboOpCEwZEeK"
      }
    },
    {
      "cell_type": "code",
      "source": [
        "!pip install catboost -q"
      ],
      "metadata": {
        "id": "NiCB-FuFcTUy",
        "outputId": "67147156-cb0e-4336-9130-d91cdd2c5110",
        "colab": {
          "base_uri": "https://localhost:8080/"
        }
      },
      "execution_count": 1,
      "outputs": [
        {
          "output_type": "stream",
          "name": "stdout",
          "text": [
            "\u001b[2K     \u001b[90m━━━━━━━━━━━━━━━━━━━━━━━━━━━━━━━━━━━━━━━━\u001b[0m \u001b[32m76.6/76.6 MB\u001b[0m \u001b[31m6.8 MB/s\u001b[0m eta \u001b[36m0:00:00\u001b[0m\n",
            "\u001b[?25h"
          ]
        }
      ]
    },
    {
      "cell_type": "code",
      "execution_count": 2,
      "metadata": {
        "id": "2iG1TXCpywcX"
      },
      "outputs": [],
      "source": [
        "import pandas as pd\n",
        "import numpy as np\n",
        "from matplotlib import pyplot as plt\n",
        "from sklearn.linear_model import LogisticRegression\n",
        "from catboost import CatBoostClassifier, Pool\n",
        "\n",
        "import seaborn as sb"
      ]
    },
    {
      "cell_type": "markdown",
      "source": [
        "## Загружаем данные, делаем первичный анализ"
      ],
      "metadata": {
        "id": "M2PqIyldZIbJ"
      }
    },
    {
      "cell_type": "markdown",
      "metadata": {
        "id": "pgYp06pQywcb"
      },
      "source": [
        "Значения переменных yes/no заранее заменил на 1и0 "
      ]
    },
    {
      "cell_type": "code",
      "execution_count": 3,
      "metadata": {
        "id": "GMY6rUYbywcd"
      },
      "outputs": [],
      "source": [
        "data = pd.read_excel('/content/dataset.xlsx')"
      ]
    },
    {
      "cell_type": "code",
      "execution_count": 4,
      "metadata": {
        "id": "uZ9zDWrIywce",
        "outputId": "04d8313c-95da-4a92-b91f-5599bb680a1f",
        "colab": {
          "base_uri": "https://localhost:8080/",
          "height": 238
        }
      },
      "outputs": [
        {
          "output_type": "execute_result",
          "data": {
            "text/plain": [
              "   age         job  marital  education  default  balance  housing  loan  \\\n",
              "0   59      admin.  married  secondary        0     2343        1     0   \n",
              "1   56      admin.  married  secondary        0       45        0     0   \n",
              "2   41  technician  married  secondary        0     1270        1     0   \n",
              "3   55    services  married  secondary        0     2476        1     0   \n",
              "4   54      admin.  married   tertiary        0      184        0     0   \n",
              "5   42  management   single   tertiary        0        0        1     1   \n",
              "\n",
              "   contact  day month  duration  campaign  pdays  previous poutcome  deposit  \n",
              "0  unknown    5   may      1042         1     -1         0  unknown        1  \n",
              "1  unknown    5   may      1467         1     -1         0  unknown        1  \n",
              "2  unknown    5   may      1389         1     -1         0  unknown        1  \n",
              "3  unknown    5   may       579         1     -1         0  unknown        1  \n",
              "4  unknown    5   may       673         2     -1         0  unknown        1  \n",
              "5  unknown    5   may       562         2     -1         0  unknown        1  "
            ],
            "text/html": [
              "\n",
              "  <div id=\"df-26653647-63a6-4e66-aaab-85614716fb75\">\n",
              "    <div class=\"colab-df-container\">\n",
              "      <div>\n",
              "<style scoped>\n",
              "    .dataframe tbody tr th:only-of-type {\n",
              "        vertical-align: middle;\n",
              "    }\n",
              "\n",
              "    .dataframe tbody tr th {\n",
              "        vertical-align: top;\n",
              "    }\n",
              "\n",
              "    .dataframe thead th {\n",
              "        text-align: right;\n",
              "    }\n",
              "</style>\n",
              "<table border=\"1\" class=\"dataframe\">\n",
              "  <thead>\n",
              "    <tr style=\"text-align: right;\">\n",
              "      <th></th>\n",
              "      <th>age</th>\n",
              "      <th>job</th>\n",
              "      <th>marital</th>\n",
              "      <th>education</th>\n",
              "      <th>default</th>\n",
              "      <th>balance</th>\n",
              "      <th>housing</th>\n",
              "      <th>loan</th>\n",
              "      <th>contact</th>\n",
              "      <th>day</th>\n",
              "      <th>month</th>\n",
              "      <th>duration</th>\n",
              "      <th>campaign</th>\n",
              "      <th>pdays</th>\n",
              "      <th>previous</th>\n",
              "      <th>poutcome</th>\n",
              "      <th>deposit</th>\n",
              "    </tr>\n",
              "  </thead>\n",
              "  <tbody>\n",
              "    <tr>\n",
              "      <th>0</th>\n",
              "      <td>59</td>\n",
              "      <td>admin.</td>\n",
              "      <td>married</td>\n",
              "      <td>secondary</td>\n",
              "      <td>0</td>\n",
              "      <td>2343</td>\n",
              "      <td>1</td>\n",
              "      <td>0</td>\n",
              "      <td>unknown</td>\n",
              "      <td>5</td>\n",
              "      <td>may</td>\n",
              "      <td>1042</td>\n",
              "      <td>1</td>\n",
              "      <td>-1</td>\n",
              "      <td>0</td>\n",
              "      <td>unknown</td>\n",
              "      <td>1</td>\n",
              "    </tr>\n",
              "    <tr>\n",
              "      <th>1</th>\n",
              "      <td>56</td>\n",
              "      <td>admin.</td>\n",
              "      <td>married</td>\n",
              "      <td>secondary</td>\n",
              "      <td>0</td>\n",
              "      <td>45</td>\n",
              "      <td>0</td>\n",
              "      <td>0</td>\n",
              "      <td>unknown</td>\n",
              "      <td>5</td>\n",
              "      <td>may</td>\n",
              "      <td>1467</td>\n",
              "      <td>1</td>\n",
              "      <td>-1</td>\n",
              "      <td>0</td>\n",
              "      <td>unknown</td>\n",
              "      <td>1</td>\n",
              "    </tr>\n",
              "    <tr>\n",
              "      <th>2</th>\n",
              "      <td>41</td>\n",
              "      <td>technician</td>\n",
              "      <td>married</td>\n",
              "      <td>secondary</td>\n",
              "      <td>0</td>\n",
              "      <td>1270</td>\n",
              "      <td>1</td>\n",
              "      <td>0</td>\n",
              "      <td>unknown</td>\n",
              "      <td>5</td>\n",
              "      <td>may</td>\n",
              "      <td>1389</td>\n",
              "      <td>1</td>\n",
              "      <td>-1</td>\n",
              "      <td>0</td>\n",
              "      <td>unknown</td>\n",
              "      <td>1</td>\n",
              "    </tr>\n",
              "    <tr>\n",
              "      <th>3</th>\n",
              "      <td>55</td>\n",
              "      <td>services</td>\n",
              "      <td>married</td>\n",
              "      <td>secondary</td>\n",
              "      <td>0</td>\n",
              "      <td>2476</td>\n",
              "      <td>1</td>\n",
              "      <td>0</td>\n",
              "      <td>unknown</td>\n",
              "      <td>5</td>\n",
              "      <td>may</td>\n",
              "      <td>579</td>\n",
              "      <td>1</td>\n",
              "      <td>-1</td>\n",
              "      <td>0</td>\n",
              "      <td>unknown</td>\n",
              "      <td>1</td>\n",
              "    </tr>\n",
              "    <tr>\n",
              "      <th>4</th>\n",
              "      <td>54</td>\n",
              "      <td>admin.</td>\n",
              "      <td>married</td>\n",
              "      <td>tertiary</td>\n",
              "      <td>0</td>\n",
              "      <td>184</td>\n",
              "      <td>0</td>\n",
              "      <td>0</td>\n",
              "      <td>unknown</td>\n",
              "      <td>5</td>\n",
              "      <td>may</td>\n",
              "      <td>673</td>\n",
              "      <td>2</td>\n",
              "      <td>-1</td>\n",
              "      <td>0</td>\n",
              "      <td>unknown</td>\n",
              "      <td>1</td>\n",
              "    </tr>\n",
              "    <tr>\n",
              "      <th>5</th>\n",
              "      <td>42</td>\n",
              "      <td>management</td>\n",
              "      <td>single</td>\n",
              "      <td>tertiary</td>\n",
              "      <td>0</td>\n",
              "      <td>0</td>\n",
              "      <td>1</td>\n",
              "      <td>1</td>\n",
              "      <td>unknown</td>\n",
              "      <td>5</td>\n",
              "      <td>may</td>\n",
              "      <td>562</td>\n",
              "      <td>2</td>\n",
              "      <td>-1</td>\n",
              "      <td>0</td>\n",
              "      <td>unknown</td>\n",
              "      <td>1</td>\n",
              "    </tr>\n",
              "  </tbody>\n",
              "</table>\n",
              "</div>\n",
              "      <button class=\"colab-df-convert\" onclick=\"convertToInteractive('df-26653647-63a6-4e66-aaab-85614716fb75')\"\n",
              "              title=\"Convert this dataframe to an interactive table.\"\n",
              "              style=\"display:none;\">\n",
              "        \n",
              "  <svg xmlns=\"http://www.w3.org/2000/svg\" height=\"24px\"viewBox=\"0 0 24 24\"\n",
              "       width=\"24px\">\n",
              "    <path d=\"M0 0h24v24H0V0z\" fill=\"none\"/>\n",
              "    <path d=\"M18.56 5.44l.94 2.06.94-2.06 2.06-.94-2.06-.94-.94-2.06-.94 2.06-2.06.94zm-11 1L8.5 8.5l.94-2.06 2.06-.94-2.06-.94L8.5 2.5l-.94 2.06-2.06.94zm10 10l.94 2.06.94-2.06 2.06-.94-2.06-.94-.94-2.06-.94 2.06-2.06.94z\"/><path d=\"M17.41 7.96l-1.37-1.37c-.4-.4-.92-.59-1.43-.59-.52 0-1.04.2-1.43.59L10.3 9.45l-7.72 7.72c-.78.78-.78 2.05 0 2.83L4 21.41c.39.39.9.59 1.41.59.51 0 1.02-.2 1.41-.59l7.78-7.78 2.81-2.81c.8-.78.8-2.07 0-2.86zM5.41 20L4 18.59l7.72-7.72 1.47 1.35L5.41 20z\"/>\n",
              "  </svg>\n",
              "      </button>\n",
              "      \n",
              "  <style>\n",
              "    .colab-df-container {\n",
              "      display:flex;\n",
              "      flex-wrap:wrap;\n",
              "      gap: 12px;\n",
              "    }\n",
              "\n",
              "    .colab-df-convert {\n",
              "      background-color: #E8F0FE;\n",
              "      border: none;\n",
              "      border-radius: 50%;\n",
              "      cursor: pointer;\n",
              "      display: none;\n",
              "      fill: #1967D2;\n",
              "      height: 32px;\n",
              "      padding: 0 0 0 0;\n",
              "      width: 32px;\n",
              "    }\n",
              "\n",
              "    .colab-df-convert:hover {\n",
              "      background-color: #E2EBFA;\n",
              "      box-shadow: 0px 1px 2px rgba(60, 64, 67, 0.3), 0px 1px 3px 1px rgba(60, 64, 67, 0.15);\n",
              "      fill: #174EA6;\n",
              "    }\n",
              "\n",
              "    [theme=dark] .colab-df-convert {\n",
              "      background-color: #3B4455;\n",
              "      fill: #D2E3FC;\n",
              "    }\n",
              "\n",
              "    [theme=dark] .colab-df-convert:hover {\n",
              "      background-color: #434B5C;\n",
              "      box-shadow: 0px 1px 3px 1px rgba(0, 0, 0, 0.15);\n",
              "      filter: drop-shadow(0px 1px 2px rgba(0, 0, 0, 0.3));\n",
              "      fill: #FFFFFF;\n",
              "    }\n",
              "  </style>\n",
              "\n",
              "      <script>\n",
              "        const buttonEl =\n",
              "          document.querySelector('#df-26653647-63a6-4e66-aaab-85614716fb75 button.colab-df-convert');\n",
              "        buttonEl.style.display =\n",
              "          google.colab.kernel.accessAllowed ? 'block' : 'none';\n",
              "\n",
              "        async function convertToInteractive(key) {\n",
              "          const element = document.querySelector('#df-26653647-63a6-4e66-aaab-85614716fb75');\n",
              "          const dataTable =\n",
              "            await google.colab.kernel.invokeFunction('convertToInteractive',\n",
              "                                                     [key], {});\n",
              "          if (!dataTable) return;\n",
              "\n",
              "          const docLinkHtml = 'Like what you see? Visit the ' +\n",
              "            '<a target=\"_blank\" href=https://colab.research.google.com/notebooks/data_table.ipynb>data table notebook</a>'\n",
              "            + ' to learn more about interactive tables.';\n",
              "          element.innerHTML = '';\n",
              "          dataTable['output_type'] = 'display_data';\n",
              "          await google.colab.output.renderOutput(dataTable, element);\n",
              "          const docLink = document.createElement('div');\n",
              "          docLink.innerHTML = docLinkHtml;\n",
              "          element.appendChild(docLink);\n",
              "        }\n",
              "      </script>\n",
              "    </div>\n",
              "  </div>\n",
              "  "
            ]
          },
          "metadata": {},
          "execution_count": 4
        }
      ],
      "source": [
        "data.head(6)"
      ]
    },
    {
      "cell_type": "code",
      "execution_count": 5,
      "metadata": {
        "id": "zOvK1f_eywcf",
        "outputId": "bbff5af4-3a5f-4ae3-d5b2-0c8ce4d86f6e",
        "colab": {
          "base_uri": "https://localhost:8080/"
        }
      },
      "outputs": [
        {
          "output_type": "execute_result",
          "data": {
            "text/plain": [
              "(11162, 17)"
            ]
          },
          "metadata": {},
          "execution_count": 5
        }
      ],
      "source": [
        "data.shape"
      ]
    },
    {
      "cell_type": "code",
      "execution_count": 6,
      "metadata": {
        "id": "yjMUJjB5ywcf",
        "outputId": "02efbba4-b66c-4142-eae8-238c3474b5ab",
        "colab": {
          "base_uri": "https://localhost:8080/"
        }
      },
      "outputs": [
        {
          "output_type": "execute_result",
          "data": {
            "text/plain": [
              "age           int64\n",
              "job          object\n",
              "marital      object\n",
              "education    object\n",
              "default       int64\n",
              "balance       int64\n",
              "housing       int64\n",
              "loan          int64\n",
              "contact      object\n",
              "day           int64\n",
              "month        object\n",
              "duration      int64\n",
              "campaign      int64\n",
              "pdays         int64\n",
              "previous      int64\n",
              "poutcome     object\n",
              "deposit       int64\n",
              "dtype: object"
            ]
          },
          "metadata": {},
          "execution_count": 6
        }
      ],
      "source": [
        "data.dtypes"
      ]
    },
    {
      "cell_type": "code",
      "execution_count": 7,
      "metadata": {
        "id": "yOePGIDjywcg",
        "outputId": "1ea1c11f-6312-47c5-bb53-7da71323faa9",
        "colab": {
          "base_uri": "https://localhost:8080/"
        }
      },
      "outputs": [
        {
          "output_type": "execute_result",
          "data": {
            "text/plain": [
              "age          0\n",
              "job          0\n",
              "marital      0\n",
              "education    0\n",
              "default      0\n",
              "balance      0\n",
              "housing      0\n",
              "loan         0\n",
              "contact      0\n",
              "day          0\n",
              "month        0\n",
              "duration     0\n",
              "campaign     0\n",
              "pdays        0\n",
              "previous     0\n",
              "poutcome     0\n",
              "deposit      0\n",
              "dtype: int64"
            ]
          },
          "metadata": {},
          "execution_count": 7
        }
      ],
      "source": [
        "data.isna().sum()"
      ]
    },
    {
      "cell_type": "code",
      "execution_count": 8,
      "metadata": {
        "id": "hZZZhvwbywcg",
        "outputId": "6f00737f-9438-4f85-cc73-38e3e716cb63",
        "colab": {
          "base_uri": "https://localhost:8080/",
          "height": 300
        }
      },
      "outputs": [
        {
          "output_type": "execute_result",
          "data": {
            "text/plain": [
              "                age       default       balance       housing          loan  \\\n",
              "count  11162.000000  11162.000000  11162.000000  11162.000000  11162.000000   \n",
              "mean      41.231948      0.015051   1528.538524      0.473123      0.130801   \n",
              "std       11.913369      0.121761   3225.413326      0.499299      0.337198   \n",
              "min       18.000000      0.000000  -6847.000000      0.000000      0.000000   \n",
              "25%       32.000000      0.000000    122.000000      0.000000      0.000000   \n",
              "50%       39.000000      0.000000    550.000000      0.000000      0.000000   \n",
              "75%       49.000000      0.000000   1708.000000      1.000000      0.000000   \n",
              "max       95.000000      1.000000  81204.000000      1.000000      1.000000   \n",
              "\n",
              "                day      duration      campaign         pdays      previous  \\\n",
              "count  11162.000000  11162.000000  11162.000000  11162.000000  11162.000000   \n",
              "mean      15.658036    371.993818      2.508421     51.330407      0.832557   \n",
              "std        8.420740    347.128386      2.722077    108.758282      2.292007   \n",
              "min        1.000000      2.000000      1.000000     -1.000000      0.000000   \n",
              "25%        8.000000    138.000000      1.000000     -1.000000      0.000000   \n",
              "50%       15.000000    255.000000      2.000000     -1.000000      0.000000   \n",
              "75%       22.000000    496.000000      3.000000     20.750000      1.000000   \n",
              "max       31.000000   3881.000000     63.000000    854.000000     58.000000   \n",
              "\n",
              "            deposit  \n",
              "count  11162.000000  \n",
              "mean       0.473840  \n",
              "std        0.499338  \n",
              "min        0.000000  \n",
              "25%        0.000000  \n",
              "50%        0.000000  \n",
              "75%        1.000000  \n",
              "max        1.000000  "
            ],
            "text/html": [
              "\n",
              "  <div id=\"df-5500501e-4795-451f-aa86-bcd092302581\">\n",
              "    <div class=\"colab-df-container\">\n",
              "      <div>\n",
              "<style scoped>\n",
              "    .dataframe tbody tr th:only-of-type {\n",
              "        vertical-align: middle;\n",
              "    }\n",
              "\n",
              "    .dataframe tbody tr th {\n",
              "        vertical-align: top;\n",
              "    }\n",
              "\n",
              "    .dataframe thead th {\n",
              "        text-align: right;\n",
              "    }\n",
              "</style>\n",
              "<table border=\"1\" class=\"dataframe\">\n",
              "  <thead>\n",
              "    <tr style=\"text-align: right;\">\n",
              "      <th></th>\n",
              "      <th>age</th>\n",
              "      <th>default</th>\n",
              "      <th>balance</th>\n",
              "      <th>housing</th>\n",
              "      <th>loan</th>\n",
              "      <th>day</th>\n",
              "      <th>duration</th>\n",
              "      <th>campaign</th>\n",
              "      <th>pdays</th>\n",
              "      <th>previous</th>\n",
              "      <th>deposit</th>\n",
              "    </tr>\n",
              "  </thead>\n",
              "  <tbody>\n",
              "    <tr>\n",
              "      <th>count</th>\n",
              "      <td>11162.000000</td>\n",
              "      <td>11162.000000</td>\n",
              "      <td>11162.000000</td>\n",
              "      <td>11162.000000</td>\n",
              "      <td>11162.000000</td>\n",
              "      <td>11162.000000</td>\n",
              "      <td>11162.000000</td>\n",
              "      <td>11162.000000</td>\n",
              "      <td>11162.000000</td>\n",
              "      <td>11162.000000</td>\n",
              "      <td>11162.000000</td>\n",
              "    </tr>\n",
              "    <tr>\n",
              "      <th>mean</th>\n",
              "      <td>41.231948</td>\n",
              "      <td>0.015051</td>\n",
              "      <td>1528.538524</td>\n",
              "      <td>0.473123</td>\n",
              "      <td>0.130801</td>\n",
              "      <td>15.658036</td>\n",
              "      <td>371.993818</td>\n",
              "      <td>2.508421</td>\n",
              "      <td>51.330407</td>\n",
              "      <td>0.832557</td>\n",
              "      <td>0.473840</td>\n",
              "    </tr>\n",
              "    <tr>\n",
              "      <th>std</th>\n",
              "      <td>11.913369</td>\n",
              "      <td>0.121761</td>\n",
              "      <td>3225.413326</td>\n",
              "      <td>0.499299</td>\n",
              "      <td>0.337198</td>\n",
              "      <td>8.420740</td>\n",
              "      <td>347.128386</td>\n",
              "      <td>2.722077</td>\n",
              "      <td>108.758282</td>\n",
              "      <td>2.292007</td>\n",
              "      <td>0.499338</td>\n",
              "    </tr>\n",
              "    <tr>\n",
              "      <th>min</th>\n",
              "      <td>18.000000</td>\n",
              "      <td>0.000000</td>\n",
              "      <td>-6847.000000</td>\n",
              "      <td>0.000000</td>\n",
              "      <td>0.000000</td>\n",
              "      <td>1.000000</td>\n",
              "      <td>2.000000</td>\n",
              "      <td>1.000000</td>\n",
              "      <td>-1.000000</td>\n",
              "      <td>0.000000</td>\n",
              "      <td>0.000000</td>\n",
              "    </tr>\n",
              "    <tr>\n",
              "      <th>25%</th>\n",
              "      <td>32.000000</td>\n",
              "      <td>0.000000</td>\n",
              "      <td>122.000000</td>\n",
              "      <td>0.000000</td>\n",
              "      <td>0.000000</td>\n",
              "      <td>8.000000</td>\n",
              "      <td>138.000000</td>\n",
              "      <td>1.000000</td>\n",
              "      <td>-1.000000</td>\n",
              "      <td>0.000000</td>\n",
              "      <td>0.000000</td>\n",
              "    </tr>\n",
              "    <tr>\n",
              "      <th>50%</th>\n",
              "      <td>39.000000</td>\n",
              "      <td>0.000000</td>\n",
              "      <td>550.000000</td>\n",
              "      <td>0.000000</td>\n",
              "      <td>0.000000</td>\n",
              "      <td>15.000000</td>\n",
              "      <td>255.000000</td>\n",
              "      <td>2.000000</td>\n",
              "      <td>-1.000000</td>\n",
              "      <td>0.000000</td>\n",
              "      <td>0.000000</td>\n",
              "    </tr>\n",
              "    <tr>\n",
              "      <th>75%</th>\n",
              "      <td>49.000000</td>\n",
              "      <td>0.000000</td>\n",
              "      <td>1708.000000</td>\n",
              "      <td>1.000000</td>\n",
              "      <td>0.000000</td>\n",
              "      <td>22.000000</td>\n",
              "      <td>496.000000</td>\n",
              "      <td>3.000000</td>\n",
              "      <td>20.750000</td>\n",
              "      <td>1.000000</td>\n",
              "      <td>1.000000</td>\n",
              "    </tr>\n",
              "    <tr>\n",
              "      <th>max</th>\n",
              "      <td>95.000000</td>\n",
              "      <td>1.000000</td>\n",
              "      <td>81204.000000</td>\n",
              "      <td>1.000000</td>\n",
              "      <td>1.000000</td>\n",
              "      <td>31.000000</td>\n",
              "      <td>3881.000000</td>\n",
              "      <td>63.000000</td>\n",
              "      <td>854.000000</td>\n",
              "      <td>58.000000</td>\n",
              "      <td>1.000000</td>\n",
              "    </tr>\n",
              "  </tbody>\n",
              "</table>\n",
              "</div>\n",
              "      <button class=\"colab-df-convert\" onclick=\"convertToInteractive('df-5500501e-4795-451f-aa86-bcd092302581')\"\n",
              "              title=\"Convert this dataframe to an interactive table.\"\n",
              "              style=\"display:none;\">\n",
              "        \n",
              "  <svg xmlns=\"http://www.w3.org/2000/svg\" height=\"24px\"viewBox=\"0 0 24 24\"\n",
              "       width=\"24px\">\n",
              "    <path d=\"M0 0h24v24H0V0z\" fill=\"none\"/>\n",
              "    <path d=\"M18.56 5.44l.94 2.06.94-2.06 2.06-.94-2.06-.94-.94-2.06-.94 2.06-2.06.94zm-11 1L8.5 8.5l.94-2.06 2.06-.94-2.06-.94L8.5 2.5l-.94 2.06-2.06.94zm10 10l.94 2.06.94-2.06 2.06-.94-2.06-.94-.94-2.06-.94 2.06-2.06.94z\"/><path d=\"M17.41 7.96l-1.37-1.37c-.4-.4-.92-.59-1.43-.59-.52 0-1.04.2-1.43.59L10.3 9.45l-7.72 7.72c-.78.78-.78 2.05 0 2.83L4 21.41c.39.39.9.59 1.41.59.51 0 1.02-.2 1.41-.59l7.78-7.78 2.81-2.81c.8-.78.8-2.07 0-2.86zM5.41 20L4 18.59l7.72-7.72 1.47 1.35L5.41 20z\"/>\n",
              "  </svg>\n",
              "      </button>\n",
              "      \n",
              "  <style>\n",
              "    .colab-df-container {\n",
              "      display:flex;\n",
              "      flex-wrap:wrap;\n",
              "      gap: 12px;\n",
              "    }\n",
              "\n",
              "    .colab-df-convert {\n",
              "      background-color: #E8F0FE;\n",
              "      border: none;\n",
              "      border-radius: 50%;\n",
              "      cursor: pointer;\n",
              "      display: none;\n",
              "      fill: #1967D2;\n",
              "      height: 32px;\n",
              "      padding: 0 0 0 0;\n",
              "      width: 32px;\n",
              "    }\n",
              "\n",
              "    .colab-df-convert:hover {\n",
              "      background-color: #E2EBFA;\n",
              "      box-shadow: 0px 1px 2px rgba(60, 64, 67, 0.3), 0px 1px 3px 1px rgba(60, 64, 67, 0.15);\n",
              "      fill: #174EA6;\n",
              "    }\n",
              "\n",
              "    [theme=dark] .colab-df-convert {\n",
              "      background-color: #3B4455;\n",
              "      fill: #D2E3FC;\n",
              "    }\n",
              "\n",
              "    [theme=dark] .colab-df-convert:hover {\n",
              "      background-color: #434B5C;\n",
              "      box-shadow: 0px 1px 3px 1px rgba(0, 0, 0, 0.15);\n",
              "      filter: drop-shadow(0px 1px 2px rgba(0, 0, 0, 0.3));\n",
              "      fill: #FFFFFF;\n",
              "    }\n",
              "  </style>\n",
              "\n",
              "      <script>\n",
              "        const buttonEl =\n",
              "          document.querySelector('#df-5500501e-4795-451f-aa86-bcd092302581 button.colab-df-convert');\n",
              "        buttonEl.style.display =\n",
              "          google.colab.kernel.accessAllowed ? 'block' : 'none';\n",
              "\n",
              "        async function convertToInteractive(key) {\n",
              "          const element = document.querySelector('#df-5500501e-4795-451f-aa86-bcd092302581');\n",
              "          const dataTable =\n",
              "            await google.colab.kernel.invokeFunction('convertToInteractive',\n",
              "                                                     [key], {});\n",
              "          if (!dataTable) return;\n",
              "\n",
              "          const docLinkHtml = 'Like what you see? Visit the ' +\n",
              "            '<a target=\"_blank\" href=https://colab.research.google.com/notebooks/data_table.ipynb>data table notebook</a>'\n",
              "            + ' to learn more about interactive tables.';\n",
              "          element.innerHTML = '';\n",
              "          dataTable['output_type'] = 'display_data';\n",
              "          await google.colab.output.renderOutput(dataTable, element);\n",
              "          const docLink = document.createElement('div');\n",
              "          docLink.innerHTML = docLinkHtml;\n",
              "          element.appendChild(docLink);\n",
              "        }\n",
              "      </script>\n",
              "    </div>\n",
              "  </div>\n",
              "  "
            ]
          },
          "metadata": {},
          "execution_count": 8
        }
      ],
      "source": [
        "data.describe()"
      ]
    },
    {
      "cell_type": "code",
      "execution_count": 9,
      "metadata": {
        "id": "LA8LbX1cywch",
        "outputId": "eea2f810-d64c-4db3-d62f-cfcab91a063a",
        "colab": {
          "base_uri": "https://localhost:8080/",
          "height": 175
        }
      },
      "outputs": [
        {
          "output_type": "execute_result",
          "data": {
            "text/plain": [
              "               job  marital  education   contact  month poutcome\n",
              "count        11162    11162      11162     11162  11162    11162\n",
              "unique          12        3          4         3     12        4\n",
              "top     management  married  secondary  cellular    may  unknown\n",
              "freq          2566     6351       5476      8042   2824     8326"
            ],
            "text/html": [
              "\n",
              "  <div id=\"df-4e501911-498d-4a7c-9576-b7e377eeb409\">\n",
              "    <div class=\"colab-df-container\">\n",
              "      <div>\n",
              "<style scoped>\n",
              "    .dataframe tbody tr th:only-of-type {\n",
              "        vertical-align: middle;\n",
              "    }\n",
              "\n",
              "    .dataframe tbody tr th {\n",
              "        vertical-align: top;\n",
              "    }\n",
              "\n",
              "    .dataframe thead th {\n",
              "        text-align: right;\n",
              "    }\n",
              "</style>\n",
              "<table border=\"1\" class=\"dataframe\">\n",
              "  <thead>\n",
              "    <tr style=\"text-align: right;\">\n",
              "      <th></th>\n",
              "      <th>job</th>\n",
              "      <th>marital</th>\n",
              "      <th>education</th>\n",
              "      <th>contact</th>\n",
              "      <th>month</th>\n",
              "      <th>poutcome</th>\n",
              "    </tr>\n",
              "  </thead>\n",
              "  <tbody>\n",
              "    <tr>\n",
              "      <th>count</th>\n",
              "      <td>11162</td>\n",
              "      <td>11162</td>\n",
              "      <td>11162</td>\n",
              "      <td>11162</td>\n",
              "      <td>11162</td>\n",
              "      <td>11162</td>\n",
              "    </tr>\n",
              "    <tr>\n",
              "      <th>unique</th>\n",
              "      <td>12</td>\n",
              "      <td>3</td>\n",
              "      <td>4</td>\n",
              "      <td>3</td>\n",
              "      <td>12</td>\n",
              "      <td>4</td>\n",
              "    </tr>\n",
              "    <tr>\n",
              "      <th>top</th>\n",
              "      <td>management</td>\n",
              "      <td>married</td>\n",
              "      <td>secondary</td>\n",
              "      <td>cellular</td>\n",
              "      <td>may</td>\n",
              "      <td>unknown</td>\n",
              "    </tr>\n",
              "    <tr>\n",
              "      <th>freq</th>\n",
              "      <td>2566</td>\n",
              "      <td>6351</td>\n",
              "      <td>5476</td>\n",
              "      <td>8042</td>\n",
              "      <td>2824</td>\n",
              "      <td>8326</td>\n",
              "    </tr>\n",
              "  </tbody>\n",
              "</table>\n",
              "</div>\n",
              "      <button class=\"colab-df-convert\" onclick=\"convertToInteractive('df-4e501911-498d-4a7c-9576-b7e377eeb409')\"\n",
              "              title=\"Convert this dataframe to an interactive table.\"\n",
              "              style=\"display:none;\">\n",
              "        \n",
              "  <svg xmlns=\"http://www.w3.org/2000/svg\" height=\"24px\"viewBox=\"0 0 24 24\"\n",
              "       width=\"24px\">\n",
              "    <path d=\"M0 0h24v24H0V0z\" fill=\"none\"/>\n",
              "    <path d=\"M18.56 5.44l.94 2.06.94-2.06 2.06-.94-2.06-.94-.94-2.06-.94 2.06-2.06.94zm-11 1L8.5 8.5l.94-2.06 2.06-.94-2.06-.94L8.5 2.5l-.94 2.06-2.06.94zm10 10l.94 2.06.94-2.06 2.06-.94-2.06-.94-.94-2.06-.94 2.06-2.06.94z\"/><path d=\"M17.41 7.96l-1.37-1.37c-.4-.4-.92-.59-1.43-.59-.52 0-1.04.2-1.43.59L10.3 9.45l-7.72 7.72c-.78.78-.78 2.05 0 2.83L4 21.41c.39.39.9.59 1.41.59.51 0 1.02-.2 1.41-.59l7.78-7.78 2.81-2.81c.8-.78.8-2.07 0-2.86zM5.41 20L4 18.59l7.72-7.72 1.47 1.35L5.41 20z\"/>\n",
              "  </svg>\n",
              "      </button>\n",
              "      \n",
              "  <style>\n",
              "    .colab-df-container {\n",
              "      display:flex;\n",
              "      flex-wrap:wrap;\n",
              "      gap: 12px;\n",
              "    }\n",
              "\n",
              "    .colab-df-convert {\n",
              "      background-color: #E8F0FE;\n",
              "      border: none;\n",
              "      border-radius: 50%;\n",
              "      cursor: pointer;\n",
              "      display: none;\n",
              "      fill: #1967D2;\n",
              "      height: 32px;\n",
              "      padding: 0 0 0 0;\n",
              "      width: 32px;\n",
              "    }\n",
              "\n",
              "    .colab-df-convert:hover {\n",
              "      background-color: #E2EBFA;\n",
              "      box-shadow: 0px 1px 2px rgba(60, 64, 67, 0.3), 0px 1px 3px 1px rgba(60, 64, 67, 0.15);\n",
              "      fill: #174EA6;\n",
              "    }\n",
              "\n",
              "    [theme=dark] .colab-df-convert {\n",
              "      background-color: #3B4455;\n",
              "      fill: #D2E3FC;\n",
              "    }\n",
              "\n",
              "    [theme=dark] .colab-df-convert:hover {\n",
              "      background-color: #434B5C;\n",
              "      box-shadow: 0px 1px 3px 1px rgba(0, 0, 0, 0.15);\n",
              "      filter: drop-shadow(0px 1px 2px rgba(0, 0, 0, 0.3));\n",
              "      fill: #FFFFFF;\n",
              "    }\n",
              "  </style>\n",
              "\n",
              "      <script>\n",
              "        const buttonEl =\n",
              "          document.querySelector('#df-4e501911-498d-4a7c-9576-b7e377eeb409 button.colab-df-convert');\n",
              "        buttonEl.style.display =\n",
              "          google.colab.kernel.accessAllowed ? 'block' : 'none';\n",
              "\n",
              "        async function convertToInteractive(key) {\n",
              "          const element = document.querySelector('#df-4e501911-498d-4a7c-9576-b7e377eeb409');\n",
              "          const dataTable =\n",
              "            await google.colab.kernel.invokeFunction('convertToInteractive',\n",
              "                                                     [key], {});\n",
              "          if (!dataTable) return;\n",
              "\n",
              "          const docLinkHtml = 'Like what you see? Visit the ' +\n",
              "            '<a target=\"_blank\" href=https://colab.research.google.com/notebooks/data_table.ipynb>data table notebook</a>'\n",
              "            + ' to learn more about interactive tables.';\n",
              "          element.innerHTML = '';\n",
              "          dataTable['output_type'] = 'display_data';\n",
              "          await google.colab.output.renderOutput(dataTable, element);\n",
              "          const docLink = document.createElement('div');\n",
              "          docLink.innerHTML = docLinkHtml;\n",
              "          element.appendChild(docLink);\n",
              "        }\n",
              "      </script>\n",
              "    </div>\n",
              "  </div>\n",
              "  "
            ]
          },
          "metadata": {},
          "execution_count": 9
        }
      ],
      "source": [
        "data.describe(include='object')"
      ]
    },
    {
      "cell_type": "code",
      "source": [
        "print(pd.crosstab(data.contact,data.deposit).plot(kind='bar'), \n",
        "        pd.crosstab(data.marital,data.deposit).plot(kind='bar'),\n",
        "           pd.crosstab(data.education,data.deposit).plot(kind='bar'),\n",
        "              pd.crosstab(data.job,data.deposit).plot(kind='bar'),\n",
        "                  pd.crosstab(data.poutcome,data.deposit).plot(kind='bar'))"
      ],
      "metadata": {
        "id": "-vIJ_Bp2dhnv",
        "outputId": "dc832319-3fd6-495e-fad9-a364a7163a9a",
        "colab": {
          "base_uri": "https://localhost:8080/",
          "height": 1000
        }
      },
      "execution_count": 49,
      "outputs": [
        {
          "output_type": "stream",
          "name": "stdout",
          "text": [
            "AxesSubplot(0.125,0.125;0.775x0.755) AxesSubplot(0.125,0.125;0.775x0.755) AxesSubplot(0.125,0.125;0.775x0.755) AxesSubplot(0.125,0.125;0.775x0.755) AxesSubplot(0.125,0.125;0.775x0.755)\n"
          ]
        },
        {
          "output_type": "display_data",
          "data": {
            "text/plain": [
              "<Figure size 432x288 with 1 Axes>"
            ],
            "image/png": "[encoded data removed]"
          },
          "metadata": {
            "needs_background": "light"
          }
        },
        {
          "output_type": "display_data",
          "data": {
            "text/plain": [
              "<Figure size 432x288 with 1 Axes>"
            ],
            "image/png": "[encoded data removed]"
          },
          "metadata": {
            "needs_background": "light"
          }
        },
        {
          "output_type": "display_data",
          "data": {
            "text/plain": [
              "<Figure size 432x288 with 1 Axes>"
            ],
            "image/png": "[encoded data removed]"
          },
          "metadata": {
            "needs_background": "light"
          }
        },
        {
          "output_type": "display_data",
          "data": {
            "text/plain": [
              "<Figure size 432x288 with 1 Axes>"
            ],
            "image/png": "[encoded data removed]"
          },
          "metadata": {
            "needs_background": "light"
          }
        },
        {
          "output_type": "display_data",
          "data": {
            "text/plain": [
              "<Figure size 432x288 with 1 Axes>"
            ],
            "image/png": "[encoded data removed]"
          },
          "metadata": {
            "needs_background": "light"
          }
        }
      ]
    },
    {
      "cell_type": "code",
      "execution_count": 10,
      "metadata": {
        "id": "uxb2pdIQywch",
        "outputId": "5cd65e90-34fd-46a4-fcde-5d28286a142f",
        "colab": {
          "base_uri": "https://localhost:8080/",
          "height": 394
        }
      },
      "outputs": [
        {
          "output_type": "execute_result",
          "data": {
            "text/plain": [
              "<pandas.io.formats.style.Styler at 0x7ff7cb15cc10>"
            ],
            "text/html": [
              "<style type=\"text/css\">\n",
              "#T_8e4ab_row0_col0, #T_8e4ab_row1_col1, #T_8e4ab_row2_col2, #T_8e4ab_row3_col3, #T_8e4ab_row4_col4, #T_8e4ab_row5_col5, #T_8e4ab_row6_col6, #T_8e4ab_row7_col7, #T_8e4ab_row8_col8, #T_8e4ab_row9_col9, #T_8e4ab_row10_col10 {\n",
              "  background-color: #b40426;\n",
              "  color: #f1f1f1;\n",
              "}\n",
              "#T_8e4ab_row0_col1 {\n",
              "  background-color: #485fd1;\n",
              "  color: #f1f1f1;\n",
              "}\n",
              "#T_8e4ab_row0_col2 {\n",
              "  background-color: #7597f6;\n",
              "  color: #f1f1f1;\n",
              "}\n",
              "#T_8e4ab_row0_col3, #T_8e4ab_row1_col6, #T_8e4ab_row6_col9 {\n",
              "  background-color: #4358cb;\n",
              "  color: #f1f1f1;\n",
              "}\n",
              "#T_8e4ab_row0_col4, #T_8e4ab_row0_col5, #T_8e4ab_row3_col6, #T_8e4ab_row5_col1, #T_8e4ab_row8_col4 {\n",
              "  background-color: #506bda;\n",
              "  color: #f1f1f1;\n",
              "}\n",
              "#T_8e4ab_row0_col6 {\n",
              "  background-color: #465ecf;\n",
              "  color: #f1f1f1;\n",
              "}\n",
              "#T_8e4ab_row0_col7, #T_8e4ab_row2_col8, #T_8e4ab_row9_col2 {\n",
              "  background-color: #5b7ae5;\n",
              "  color: #f1f1f1;\n",
              "}\n",
              "#T_8e4ab_row0_col8, #T_8e4ab_row8_col2 {\n",
              "  background-color: #5875e1;\n",
              "  color: #f1f1f1;\n",
              "}\n",
              "#T_8e4ab_row0_col9, #T_8e4ab_row4_col10, #T_8e4ab_row6_col7 {\n",
              "  background-color: #516ddb;\n",
              "  color: #f1f1f1;\n",
              "}\n",
              "#T_8e4ab_row0_col10, #T_8e4ab_row6_col3, #T_8e4ab_row7_col5 {\n",
              "  background-color: #7a9df8;\n",
              "  color: #f1f1f1;\n",
              "}\n",
              "#T_8e4ab_row1_col0, #T_8e4ab_row1_col10 {\n",
              "  background-color: #6485ec;\n",
              "  color: #f1f1f1;\n",
              "}\n",
              "#T_8e4ab_row1_col2, #T_8e4ab_row1_col9, #T_8e4ab_row2_col4, #T_8e4ab_row5_col6, #T_8e4ab_row5_col8, #T_8e4ab_row8_col1, #T_8e4ab_row8_col7 {\n",
              "  background-color: #4055c8;\n",
              "  color: #f1f1f1;\n",
              "}\n",
              "#T_8e4ab_row1_col3 {\n",
              "  background-color: #7396f5;\n",
              "  color: #f1f1f1;\n",
              "}\n",
              "#T_8e4ab_row1_col4, #T_8e4ab_row3_col4, #T_8e4ab_row9_col3 {\n",
              "  background-color: #7093f3;\n",
              "  color: #f1f1f1;\n",
              "}\n",
              "#T_8e4ab_row1_col5, #T_8e4ab_row4_col5, #T_8e4ab_row5_col2, #T_8e4ab_row7_col1 {\n",
              "  background-color: #5572df;\n",
              "  color: #f1f1f1;\n",
              "}\n",
              "#T_8e4ab_row1_col7, #T_8e4ab_row4_col7, #T_8e4ab_row5_col0, #T_8e4ab_row6_col0 {\n",
              "  background-color: #6788ee;\n",
              "  color: #f1f1f1;\n",
              "}\n",
              "#T_8e4ab_row1_col8, #T_8e4ab_row2_col6 {\n",
              "  background-color: #4c66d6;\n",
              "  color: #f1f1f1;\n",
              "}\n",
              "#T_8e4ab_row2_col0 {\n",
              "  background-color: #89acfd;\n",
              "  color: #000000;\n",
              "}\n",
              "#T_8e4ab_row2_col1, #T_8e4ab_row3_col0, #T_8e4ab_row3_col10, #T_8e4ab_row4_col2, #T_8e4ab_row5_col9, #T_8e4ab_row7_col6, #T_8e4ab_row7_col8, #T_8e4ab_row8_col5, #T_8e4ab_row10_col3, #T_8e4ab_row10_col4, #T_8e4ab_row10_col7 {\n",
              "  background-color: #3b4cc0;\n",
              "  color: #f1f1f1;\n",
              "}\n",
              "#T_8e4ab_row2_col3 {\n",
              "  background-color: #5a78e4;\n",
              "  color: #f1f1f1;\n",
              "}\n",
              "#T_8e4ab_row2_col5, #T_8e4ab_row9_col4 {\n",
              "  background-color: #536edd;\n",
              "  color: #f1f1f1;\n",
              "}\n",
              "#T_8e4ab_row2_col7, #T_8e4ab_row6_col2, #T_8e4ab_row6_col4 {\n",
              "  background-color: #5977e3;\n",
              "  color: #f1f1f1;\n",
              "}\n",
              "#T_8e4ab_row2_col9 {\n",
              "  background-color: #5470de;\n",
              "  color: #f1f1f1;\n",
              "}\n",
              "#T_8e4ab_row2_col10, #T_8e4ab_row5_col7 {\n",
              "  background-color: #88abfd;\n",
              "  color: #000000;\n",
              "}\n",
              "#T_8e4ab_row3_col1, #T_8e4ab_row6_col8, #T_8e4ab_row9_col7 {\n",
              "  background-color: #4f69d9;\n",
              "  color: #f1f1f1;\n",
              "}\n",
              "#T_8e4ab_row3_col2 {\n",
              "  background-color: #3c4ec2;\n",
              "  color: #f1f1f1;\n",
              "}\n",
              "#T_8e4ab_row3_col5, #T_8e4ab_row3_col9 {\n",
              "  background-color: #4b64d5;\n",
              "  color: #f1f1f1;\n",
              "}\n",
              "#T_8e4ab_row3_col7, #T_8e4ab_row4_col0 {\n",
              "  background-color: #5f7fe8;\n",
              "  color: #f1f1f1;\n",
              "}\n",
              "#T_8e4ab_row3_col8 {\n",
              "  background-color: #6a8bef;\n",
              "  color: #f1f1f1;\n",
              "}\n",
              "#T_8e4ab_row4_col1, #T_8e4ab_row7_col4 {\n",
              "  background-color: #6384eb;\n",
              "  color: #f1f1f1;\n",
              "}\n",
              "#T_8e4ab_row4_col3, #T_8e4ab_row10_col8 {\n",
              "  background-color: #86a9fc;\n",
              "  color: #f1f1f1;\n",
              "}\n",
              "#T_8e4ab_row4_col6 {\n",
              "  background-color: #455cce;\n",
              "  color: #f1f1f1;\n",
              "}\n",
              "#T_8e4ab_row4_col8, #T_8e4ab_row7_col2, #T_8e4ab_row7_col10 {\n",
              "  background-color: #4e68d8;\n",
              "  color: #f1f1f1;\n",
              "}\n",
              "#T_8e4ab_row4_col9 {\n",
              "  background-color: #445acc;\n",
              "  color: #f1f1f1;\n",
              "}\n",
              "#T_8e4ab_row5_col3 {\n",
              "  background-color: #6c8ff1;\n",
              "  color: #f1f1f1;\n",
              "}\n",
              "#T_8e4ab_row5_col4 {\n",
              "  background-color: #5e7de7;\n",
              "  color: #f1f1f1;\n",
              "}\n",
              "#T_8e4ab_row5_col10 {\n",
              "  background-color: #6180e9;\n",
              "  color: #f1f1f1;\n",
              "}\n",
              "#T_8e4ab_row6_col1 {\n",
              "  background-color: #4961d2;\n",
              "  color: #f1f1f1;\n",
              "}\n",
              "#T_8e4ab_row6_col5 {\n",
              "  background-color: #4a63d3;\n",
              "  color: #f1f1f1;\n",
              "}\n",
              "#T_8e4ab_row6_col10 {\n",
              "  background-color: #e8d6cc;\n",
              "  color: #000000;\n",
              "}\n",
              "#T_8e4ab_row7_col0 {\n",
              "  background-color: #6687ed;\n",
              "  color: #f1f1f1;\n",
              "}\n",
              "#T_8e4ab_row7_col3, #T_8e4ab_row10_col0 {\n",
              "  background-color: #7295f4;\n",
              "  color: #f1f1f1;\n",
              "}\n",
              "#T_8e4ab_row7_col9 {\n",
              "  background-color: #3d50c3;\n",
              "  color: #f1f1f1;\n",
              "}\n",
              "#T_8e4ab_row8_col0 {\n",
              "  background-color: #688aef;\n",
              "  color: #f1f1f1;\n",
              "}\n",
              "#T_8e4ab_row8_col3 {\n",
              "  background-color: #84a7fc;\n",
              "  color: #f1f1f1;\n",
              "}\n",
              "#T_8e4ab_row8_col6, #T_8e4ab_row9_col6 {\n",
              "  background-color: #3e51c5;\n",
              "  color: #f1f1f1;\n",
              "}\n",
              "#T_8e4ab_row8_col9 {\n",
              "  background-color: #e5d8d1;\n",
              "  color: #000000;\n",
              "}\n",
              "#T_8e4ab_row8_col10 {\n",
              "  background-color: #9dbdff;\n",
              "  color: #000000;\n",
              "}\n",
              "#T_8e4ab_row9_col0 {\n",
              "  background-color: #6e90f2;\n",
              "  color: #f1f1f1;\n",
              "}\n",
              "#T_8e4ab_row9_col1 {\n",
              "  background-color: #4257c9;\n",
              "  color: #f1f1f1;\n",
              "}\n",
              "#T_8e4ab_row9_col5, #T_8e4ab_row10_col1, #T_8e4ab_row10_col5 {\n",
              "  background-color: #3f53c6;\n",
              "  color: #f1f1f1;\n",
              "}\n",
              "#T_8e4ab_row9_col8 {\n",
              "  background-color: #ead5c9;\n",
              "  color: #000000;\n",
              "}\n",
              "#T_8e4ab_row9_col10 {\n",
              "  background-color: #9abbff;\n",
              "  color: #000000;\n",
              "}\n",
              "#T_8e4ab_row10_col2 {\n",
              "  background-color: #6b8df0;\n",
              "  color: #f1f1f1;\n",
              "}\n",
              "#T_8e4ab_row10_col6 {\n",
              "  background-color: #d6dce4;\n",
              "  color: #000000;\n",
              "}\n",
              "#T_8e4ab_row10_col9 {\n",
              "  background-color: #779af7;\n",
              "  color: #f1f1f1;\n",
              "}\n",
              "</style>\n",
              "<table id=\"T_8e4ab_\" class=\"dataframe\">\n",
              "  <thead>\n",
              "    <tr>\n",
              "      <th class=\"blank level0\" >&nbsp;</th>\n",
              "      <th class=\"col_heading level0 col0\" >age</th>\n",
              "      <th class=\"col_heading level0 col1\" >default</th>\n",
              "      <th class=\"col_heading level0 col2\" >balance</th>\n",
              "      <th class=\"col_heading level0 col3\" >housing</th>\n",
              "      <th class=\"col_heading level0 col4\" >loan</th>\n",
              "      <th class=\"col_heading level0 col5\" >day</th>\n",
              "      <th class=\"col_heading level0 col6\" >duration</th>\n",
              "      <th class=\"col_heading level0 col7\" >campaign</th>\n",
              "      <th class=\"col_heading level0 col8\" >pdays</th>\n",
              "      <th class=\"col_heading level0 col9\" >previous</th>\n",
              "      <th class=\"col_heading level0 col10\" >deposit</th>\n",
              "    </tr>\n",
              "  </thead>\n",
              "  <tbody>\n",
              "    <tr>\n",
              "      <th id=\"T_8e4ab_level0_row0\" class=\"row_heading level0 row0\" >age</th>\n",
              "      <td id=\"T_8e4ab_row0_col0\" class=\"data row0 col0\" >1.000000</td>\n",
              "      <td id=\"T_8e4ab_row0_col1\" class=\"data row0 col1\" >-0.011425</td>\n",
              "      <td id=\"T_8e4ab_row0_col2\" class=\"data row0 col2\" >0.112300</td>\n",
              "      <td id=\"T_8e4ab_row0_col3\" class=\"data row0 col3\" >-0.168700</td>\n",
              "      <td id=\"T_8e4ab_row0_col4\" class=\"data row0 col4\" >-0.031418</td>\n",
              "      <td id=\"T_8e4ab_row0_col5\" class=\"data row0 col5\" >-0.000762</td>\n",
              "      <td id=\"T_8e4ab_row0_col6\" class=\"data row0 col6\" >0.000189</td>\n",
              "      <td id=\"T_8e4ab_row0_col7\" class=\"data row0 col7\" >-0.005278</td>\n",
              "      <td id=\"T_8e4ab_row0_col8\" class=\"data row0 col8\" >0.002774</td>\n",
              "      <td id=\"T_8e4ab_row0_col9\" class=\"data row0 col9\" >0.020169</td>\n",
              "      <td id=\"T_8e4ab_row0_col10\" class=\"data row0 col10\" >0.034901</td>\n",
              "    </tr>\n",
              "    <tr>\n",
              "      <th id=\"T_8e4ab_level0_row1\" class=\"row_heading level0 row1\" >default</th>\n",
              "      <td id=\"T_8e4ab_row1_col0\" class=\"data row1 col0\" >-0.011425</td>\n",
              "      <td id=\"T_8e4ab_row1_col1\" class=\"data row1 col1\" >1.000000</td>\n",
              "      <td id=\"T_8e4ab_row1_col2\" class=\"data row1 col2\" >-0.060954</td>\n",
              "      <td id=\"T_8e4ab_row1_col3\" class=\"data row1 col3\" >0.011076</td>\n",
              "      <td id=\"T_8e4ab_row1_col4\" class=\"data row1 col4\" >0.076434</td>\n",
              "      <td id=\"T_8e4ab_row1_col5\" class=\"data row1 col5\" >0.017342</td>\n",
              "      <td id=\"T_8e4ab_row1_col6\" class=\"data row1 col6\" >-0.009760</td>\n",
              "      <td id=\"T_8e4ab_row1_col7\" class=\"data row1 col7\" >0.030975</td>\n",
              "      <td id=\"T_8e4ab_row1_col8\" class=\"data row1 col8\" >-0.036282</td>\n",
              "      <td id=\"T_8e4ab_row1_col9\" class=\"data row1 col9\" >-0.035273</td>\n",
              "      <td id=\"T_8e4ab_row1_col10\" class=\"data row1 col10\" >-0.040680</td>\n",
              "    </tr>\n",
              "    <tr>\n",
              "      <th id=\"T_8e4ab_level0_row2\" class=\"row_heading level0 row2\" >balance</th>\n",
              "      <td id=\"T_8e4ab_row2_col0\" class=\"data row2 col0\" >0.112300</td>\n",
              "      <td id=\"T_8e4ab_row2_col1\" class=\"data row2 col1\" >-0.060954</td>\n",
              "      <td id=\"T_8e4ab_row2_col2\" class=\"data row2 col2\" >1.000000</td>\n",
              "      <td id=\"T_8e4ab_row2_col3\" class=\"data row2 col3\" >-0.077092</td>\n",
              "      <td id=\"T_8e4ab_row2_col4\" class=\"data row2 col4\" >-0.084589</td>\n",
              "      <td id=\"T_8e4ab_row2_col5\" class=\"data row2 col5\" >0.010467</td>\n",
              "      <td id=\"T_8e4ab_row2_col6\" class=\"data row2 col6\" >0.022436</td>\n",
              "      <td id=\"T_8e4ab_row2_col7\" class=\"data row2 col7\" >-0.013894</td>\n",
              "      <td id=\"T_8e4ab_row2_col8\" class=\"data row2 col8\" >0.017411</td>\n",
              "      <td id=\"T_8e4ab_row2_col9\" class=\"data row2 col9\" >0.030805</td>\n",
              "      <td id=\"T_8e4ab_row2_col10\" class=\"data row2 col10\" >0.081129</td>\n",
              "    </tr>\n",
              "    <tr>\n",
              "      <th id=\"T_8e4ab_level0_row3\" class=\"row_heading level0 row3\" >housing</th>\n",
              "      <td id=\"T_8e4ab_row3_col0\" class=\"data row3 col0\" >-0.168700</td>\n",
              "      <td id=\"T_8e4ab_row3_col1\" class=\"data row3 col1\" >0.011076</td>\n",
              "      <td id=\"T_8e4ab_row3_col2\" class=\"data row3 col2\" >-0.077092</td>\n",
              "      <td id=\"T_8e4ab_row3_col3\" class=\"data row3 col3\" >1.000000</td>\n",
              "      <td id=\"T_8e4ab_row3_col4\" class=\"data row3 col4\" >0.076761</td>\n",
              "      <td id=\"T_8e4ab_row3_col5\" class=\"data row3 col5\" >-0.014770</td>\n",
              "      <td id=\"T_8e4ab_row3_col6\" class=\"data row3 col6\" >0.035051</td>\n",
              "      <td id=\"T_8e4ab_row3_col7\" class=\"data row3 col7\" >0.006660</td>\n",
              "      <td id=\"T_8e4ab_row3_col8\" class=\"data row3 col8\" >0.064497</td>\n",
              "      <td id=\"T_8e4ab_row3_col9\" class=\"data row3 col9\" >-0.000840</td>\n",
              "      <td id=\"T_8e4ab_row3_col10\" class=\"data row3 col10\" >-0.203888</td>\n",
              "    </tr>\n",
              "    <tr>\n",
              "      <th id=\"T_8e4ab_level0_row4\" class=\"row_heading level0 row4\" >loan</th>\n",
              "      <td id=\"T_8e4ab_row4_col0\" class=\"data row4 col0\" >-0.031418</td>\n",
              "      <td id=\"T_8e4ab_row4_col1\" class=\"data row4 col1\" >0.076434</td>\n",
              "      <td id=\"T_8e4ab_row4_col2\" class=\"data row4 col2\" >-0.084589</td>\n",
              "      <td id=\"T_8e4ab_row4_col3\" class=\"data row4 col3\" >0.076761</td>\n",
              "      <td id=\"T_8e4ab_row4_col4\" class=\"data row4 col4\" >1.000000</td>\n",
              "      <td id=\"T_8e4ab_row4_col5\" class=\"data row4 col5\" >0.017269</td>\n",
              "      <td id=\"T_8e4ab_row4_col6\" class=\"data row4 col6\" >-0.001914</td>\n",
              "      <td id=\"T_8e4ab_row4_col7\" class=\"data row4 col7\" >0.034722</td>\n",
              "      <td id=\"T_8e4ab_row4_col8\" class=\"data row4 col8\" >-0.030416</td>\n",
              "      <td id=\"T_8e4ab_row4_col9\" class=\"data row4 col9\" >-0.022668</td>\n",
              "      <td id=\"T_8e4ab_row4_col10\" class=\"data row4 col10\" >-0.110580</td>\n",
              "    </tr>\n",
              "    <tr>\n",
              "      <th id=\"T_8e4ab_level0_row5\" class=\"row_heading level0 row5\" >day</th>\n",
              "      <td id=\"T_8e4ab_row5_col0\" class=\"data row5 col0\" >-0.000762</td>\n",
              "      <td id=\"T_8e4ab_row5_col1\" class=\"data row5 col1\" >0.017342</td>\n",
              "      <td id=\"T_8e4ab_row5_col2\" class=\"data row5 col2\" >0.010467</td>\n",
              "      <td id=\"T_8e4ab_row5_col3\" class=\"data row5 col3\" >-0.014770</td>\n",
              "      <td id=\"T_8e4ab_row5_col4\" class=\"data row5 col4\" >0.017269</td>\n",
              "      <td id=\"T_8e4ab_row5_col5\" class=\"data row5 col5\" >1.000000</td>\n",
              "      <td id=\"T_8e4ab_row5_col6\" class=\"data row5 col6\" >-0.018511</td>\n",
              "      <td id=\"T_8e4ab_row5_col7\" class=\"data row5 col7\" >0.137007</td>\n",
              "      <td id=\"T_8e4ab_row5_col8\" class=\"data row5 col8\" >-0.077232</td>\n",
              "      <td id=\"T_8e4ab_row5_col9\" class=\"data row5 col9\" >-0.058981</td>\n",
              "      <td id=\"T_8e4ab_row5_col10\" class=\"data row5 col10\" >-0.056326</td>\n",
              "    </tr>\n",
              "    <tr>\n",
              "      <th id=\"T_8e4ab_level0_row6\" class=\"row_heading level0 row6\" >duration</th>\n",
              "      <td id=\"T_8e4ab_row6_col0\" class=\"data row6 col0\" >0.000189</td>\n",
              "      <td id=\"T_8e4ab_row6_col1\" class=\"data row6 col1\" >-0.009760</td>\n",
              "      <td id=\"T_8e4ab_row6_col2\" class=\"data row6 col2\" >0.022436</td>\n",
              "      <td id=\"T_8e4ab_row6_col3\" class=\"data row6 col3\" >0.035051</td>\n",
              "      <td id=\"T_8e4ab_row6_col4\" class=\"data row6 col4\" >-0.001914</td>\n",
              "      <td id=\"T_8e4ab_row6_col5\" class=\"data row6 col5\" >-0.018511</td>\n",
              "      <td id=\"T_8e4ab_row6_col6\" class=\"data row6 col6\" >1.000000</td>\n",
              "      <td id=\"T_8e4ab_row6_col7\" class=\"data row6 col7\" >-0.041557</td>\n",
              "      <td id=\"T_8e4ab_row6_col8\" class=\"data row6 col8\" >-0.027392</td>\n",
              "      <td id=\"T_8e4ab_row6_col9\" class=\"data row6 col9\" >-0.026716</td>\n",
              "      <td id=\"T_8e4ab_row6_col10\" class=\"data row6 col10\" >0.451919</td>\n",
              "    </tr>\n",
              "    <tr>\n",
              "      <th id=\"T_8e4ab_level0_row7\" class=\"row_heading level0 row7\" >campaign</th>\n",
              "      <td id=\"T_8e4ab_row7_col0\" class=\"data row7 col0\" >-0.005278</td>\n",
              "      <td id=\"T_8e4ab_row7_col1\" class=\"data row7 col1\" >0.030975</td>\n",
              "      <td id=\"T_8e4ab_row7_col2\" class=\"data row7 col2\" >-0.013894</td>\n",
              "      <td id=\"T_8e4ab_row7_col3\" class=\"data row7 col3\" >0.006660</td>\n",
              "      <td id=\"T_8e4ab_row7_col4\" class=\"data row7 col4\" >0.034722</td>\n",
              "      <td id=\"T_8e4ab_row7_col5\" class=\"data row7 col5\" >0.137007</td>\n",
              "      <td id=\"T_8e4ab_row7_col6\" class=\"data row7 col6\" >-0.041557</td>\n",
              "      <td id=\"T_8e4ab_row7_col7\" class=\"data row7 col7\" >1.000000</td>\n",
              "      <td id=\"T_8e4ab_row7_col8\" class=\"data row7 col8\" >-0.102726</td>\n",
              "      <td id=\"T_8e4ab_row7_col9\" class=\"data row7 col9\" >-0.049699</td>\n",
              "      <td id=\"T_8e4ab_row7_col10\" class=\"data row7 col10\" >-0.128081</td>\n",
              "    </tr>\n",
              "    <tr>\n",
              "      <th id=\"T_8e4ab_level0_row8\" class=\"row_heading level0 row8\" >pdays</th>\n",
              "      <td id=\"T_8e4ab_row8_col0\" class=\"data row8 col0\" >0.002774</td>\n",
              "      <td id=\"T_8e4ab_row8_col1\" class=\"data row8 col1\" >-0.036282</td>\n",
              "      <td id=\"T_8e4ab_row8_col2\" class=\"data row8 col2\" >0.017411</td>\n",
              "      <td id=\"T_8e4ab_row8_col3\" class=\"data row8 col3\" >0.064497</td>\n",
              "      <td id=\"T_8e4ab_row8_col4\" class=\"data row8 col4\" >-0.030416</td>\n",
              "      <td id=\"T_8e4ab_row8_col5\" class=\"data row8 col5\" >-0.077232</td>\n",
              "      <td id=\"T_8e4ab_row8_col6\" class=\"data row8 col6\" >-0.027392</td>\n",
              "      <td id=\"T_8e4ab_row8_col7\" class=\"data row8 col7\" >-0.102726</td>\n",
              "      <td id=\"T_8e4ab_row8_col8\" class=\"data row8 col8\" >1.000000</td>\n",
              "      <td id=\"T_8e4ab_row8_col9\" class=\"data row8 col9\" >0.507272</td>\n",
              "      <td id=\"T_8e4ab_row8_col10\" class=\"data row8 col10\" >0.151593</td>\n",
              "    </tr>\n",
              "    <tr>\n",
              "      <th id=\"T_8e4ab_level0_row9\" class=\"row_heading level0 row9\" >previous</th>\n",
              "      <td id=\"T_8e4ab_row9_col0\" class=\"data row9 col0\" >0.020169</td>\n",
              "      <td id=\"T_8e4ab_row9_col1\" class=\"data row9 col1\" >-0.035273</td>\n",
              "      <td id=\"T_8e4ab_row9_col2\" class=\"data row9 col2\" >0.030805</td>\n",
              "      <td id=\"T_8e4ab_row9_col3\" class=\"data row9 col3\" >-0.000840</td>\n",
              "      <td id=\"T_8e4ab_row9_col4\" class=\"data row9 col4\" >-0.022668</td>\n",
              "      <td id=\"T_8e4ab_row9_col5\" class=\"data row9 col5\" >-0.058981</td>\n",
              "      <td id=\"T_8e4ab_row9_col6\" class=\"data row9 col6\" >-0.026716</td>\n",
              "      <td id=\"T_8e4ab_row9_col7\" class=\"data row9 col7\" >-0.049699</td>\n",
              "      <td id=\"T_8e4ab_row9_col8\" class=\"data row9 col8\" >0.507272</td>\n",
              "      <td id=\"T_8e4ab_row9_col9\" class=\"data row9 col9\" >1.000000</td>\n",
              "      <td id=\"T_8e4ab_row9_col10\" class=\"data row9 col10\" >0.139867</td>\n",
              "    </tr>\n",
              "    <tr>\n",
              "      <th id=\"T_8e4ab_level0_row10\" class=\"row_heading level0 row10\" >deposit</th>\n",
              "      <td id=\"T_8e4ab_row10_col0\" class=\"data row10 col0\" >0.034901</td>\n",
              "      <td id=\"T_8e4ab_row10_col1\" class=\"data row10 col1\" >-0.040680</td>\n",
              "      <td id=\"T_8e4ab_row10_col2\" class=\"data row10 col2\" >0.081129</td>\n",
              "      <td id=\"T_8e4ab_row10_col3\" class=\"data row10 col3\" >-0.203888</td>\n",
              "      <td id=\"T_8e4ab_row10_col4\" class=\"data row10 col4\" >-0.110580</td>\n",
              "      <td id=\"T_8e4ab_row10_col5\" class=\"data row10 col5\" >-0.056326</td>\n",
              "      <td id=\"T_8e4ab_row10_col6\" class=\"data row10 col6\" >0.451919</td>\n",
              "      <td id=\"T_8e4ab_row10_col7\" class=\"data row10 col7\" >-0.128081</td>\n",
              "      <td id=\"T_8e4ab_row10_col8\" class=\"data row10 col8\" >0.151593</td>\n",
              "      <td id=\"T_8e4ab_row10_col9\" class=\"data row10 col9\" >0.139867</td>\n",
              "      <td id=\"T_8e4ab_row10_col10\" class=\"data row10 col10\" >1.000000</td>\n",
              "    </tr>\n",
              "  </tbody>\n",
              "</table>\n"
            ]
          },
          "metadata": {},
          "execution_count": 10
        }
      ],
      "source": [
        "corr = data.corr() # строим матрицу корреляций\n",
        "\n",
        "corr.style.background_gradient(cmap='coolwarm')"
      ]
    },
    {
      "cell_type": "code",
      "source": [
        "data.contact.value_counts()\n",
        "data.drop(['poutcome'], axis=1, inplace = True)"
      ],
      "metadata": {
        "id": "L6HjKOYsb7VT"
      },
      "execution_count": 52,
      "outputs": []
    },
    {
      "cell_type": "markdown",
      "source": [
        "## Строим логистическую регрессию без категориальных переменных"
      ],
      "metadata": {
        "id": "W9Lzgf5SZS5Y"
      }
    },
    {
      "cell_type": "markdown",
      "metadata": {
        "id": "LgJ3jZjBywci"
      },
      "source": [
        "Этап моделирования "
      ]
    },
    {
      "cell_type": "code",
      "execution_count": 53,
      "metadata": {
        "id": "PolUsWpRywcj"
      },
      "outputs": [],
      "source": [
        "X = data.drop('deposit', axis=1) # матрица объект-признак\n",
        "y = data['deposit'] # целевая переменная"
      ]
    },
    {
      "cell_type": "markdown",
      "source": [
        "Сносим категориальные переменные"
      ],
      "metadata": {
        "id": "ZzpUpXAwZbRE"
      }
    },
    {
      "cell_type": "code",
      "execution_count": 54,
      "metadata": {
        "id": "b28YjYjXywcj",
        "outputId": "1062d81d-dbfe-4792-cab0-4dd3675c40a3",
        "colab": {
          "base_uri": "https://localhost:8080/",
          "height": 311
        }
      },
      "outputs": [
        {
          "output_type": "error",
          "ename": "KeyError",
          "evalue": "ignored",
          "traceback": [
            "\u001b[0;31m---------------------------------------------------------------------------\u001b[0m",
            "\u001b[0;31mKeyError\u001b[0m                                  Traceback (most recent call last)",
            "\u001b[0;32m<ipython-input-54-c62656a1bd48>\u001b[0m in \u001b[0;36m<module>\u001b[0;34m\u001b[0m\n\u001b[0;32m----> 1\u001b[0;31m \u001b[0mX_num\u001b[0m \u001b[0;34m=\u001b[0m \u001b[0mX\u001b[0m\u001b[0;34m.\u001b[0m\u001b[0mdrop\u001b[0m\u001b[0;34m(\u001b[0m\u001b[0;34m[\u001b[0m\u001b[0;34m'job'\u001b[0m\u001b[0;34m,\u001b[0m\u001b[0;34m'marital'\u001b[0m\u001b[0;34m,\u001b[0m\u001b[0;34m'education'\u001b[0m\u001b[0;34m,\u001b[0m\u001b[0;34m'contact'\u001b[0m\u001b[0;34m,\u001b[0m\u001b[0;34m'month'\u001b[0m\u001b[0;34m,\u001b[0m\u001b[0;34m'poutcome'\u001b[0m\u001b[0;34m]\u001b[0m\u001b[0;34m,\u001b[0m \u001b[0maxis\u001b[0m\u001b[0;34m=\u001b[0m\u001b[0;36m1\u001b[0m\u001b[0;34m)\u001b[0m\u001b[0;34m\u001b[0m\u001b[0;34m\u001b[0m\u001b[0m\n\u001b[0m",
            "\u001b[0;32m/usr/local/lib/python3.8/dist-packages/pandas/util/_decorators.py\u001b[0m in \u001b[0;36mwrapper\u001b[0;34m(*args, **kwargs)\u001b[0m\n\u001b[1;32m    309\u001b[0m                     \u001b[0mstacklevel\u001b[0m\u001b[0;34m=\u001b[0m\u001b[0mstacklevel\u001b[0m\u001b[0;34m,\u001b[0m\u001b[0;34m\u001b[0m\u001b[0;34m\u001b[0m\u001b[0m\n\u001b[1;32m    310\u001b[0m                 )\n\u001b[0;32m--> 311\u001b[0;31m             \u001b[0;32mreturn\u001b[0m \u001b[0mfunc\u001b[0m\u001b[0;34m(\u001b[0m\u001b[0;34m*\u001b[0m\u001b[0margs\u001b[0m\u001b[0;34m,\u001b[0m \u001b[0;34m**\u001b[0m\u001b[0mkwargs\u001b[0m\u001b[0;34m)\u001b[0m\u001b[0;34m\u001b[0m\u001b[0;34m\u001b[0m\u001b[0m\n\u001b[0m\u001b[1;32m    312\u001b[0m \u001b[0;34m\u001b[0m\u001b[0m\n\u001b[1;32m    313\u001b[0m         \u001b[0;32mreturn\u001b[0m \u001b[0mwrapper\u001b[0m\u001b[0;34m\u001b[0m\u001b[0;34m\u001b[0m\u001b[0m\n",
            "\u001b[0;32m/usr/local/lib/python3.8/dist-packages/pandas/core/frame.py\u001b[0m in \u001b[0;36mdrop\u001b[0;34m(self, labels, axis, index, columns, level, inplace, errors)\u001b[0m\n\u001b[1;32m   4904\u001b[0m                 \u001b[0mweight\u001b[0m  \u001b[0;36m1.0\u001b[0m     \u001b[0;36m0.8\u001b[0m\u001b[0;34m\u001b[0m\u001b[0;34m\u001b[0m\u001b[0m\n\u001b[1;32m   4905\u001b[0m         \"\"\"\n\u001b[0;32m-> 4906\u001b[0;31m         return super().drop(\n\u001b[0m\u001b[1;32m   4907\u001b[0m             \u001b[0mlabels\u001b[0m\u001b[0;34m=\u001b[0m\u001b[0mlabels\u001b[0m\u001b[0;34m,\u001b[0m\u001b[0;34m\u001b[0m\u001b[0;34m\u001b[0m\u001b[0m\n\u001b[1;32m   4908\u001b[0m             \u001b[0maxis\u001b[0m\u001b[0;34m=\u001b[0m\u001b[0maxis\u001b[0m\u001b[0;34m,\u001b[0m\u001b[0;34m\u001b[0m\u001b[0;34m\u001b[0m\u001b[0m\n",
            "\u001b[0;32m/usr/local/lib/python3.8/dist-packages/pandas/core/generic.py\u001b[0m in \u001b[0;36mdrop\u001b[0;34m(self, labels, axis, index, columns, level, inplace, errors)\u001b[0m\n\u001b[1;32m   4148\u001b[0m         \u001b[0;32mfor\u001b[0m \u001b[0maxis\u001b[0m\u001b[0;34m,\u001b[0m \u001b[0mlabels\u001b[0m \u001b[0;32min\u001b[0m \u001b[0maxes\u001b[0m\u001b[0;34m.\u001b[0m\u001b[0mitems\u001b[0m\u001b[0;34m(\u001b[0m\u001b[0;34m)\u001b[0m\u001b[0;34m:\u001b[0m\u001b[0;34m\u001b[0m\u001b[0;34m\u001b[0m\u001b[0m\n\u001b[1;32m   4149\u001b[0m             \u001b[0;32mif\u001b[0m \u001b[0mlabels\u001b[0m \u001b[0;32mis\u001b[0m \u001b[0;32mnot\u001b[0m \u001b[0;32mNone\u001b[0m\u001b[0;34m:\u001b[0m\u001b[0;34m\u001b[0m\u001b[0;34m\u001b[0m\u001b[0m\n\u001b[0;32m-> 4150\u001b[0;31m                 \u001b[0mobj\u001b[0m \u001b[0;34m=\u001b[0m \u001b[0mobj\u001b[0m\u001b[0;34m.\u001b[0m\u001b[0m_drop_axis\u001b[0m\u001b[0;34m(\u001b[0m\u001b[0mlabels\u001b[0m\u001b[0;34m,\u001b[0m \u001b[0maxis\u001b[0m\u001b[0;34m,\u001b[0m \u001b[0mlevel\u001b[0m\u001b[0;34m=\u001b[0m\u001b[0mlevel\u001b[0m\u001b[0;34m,\u001b[0m \u001b[0merrors\u001b[0m\u001b[0;34m=\u001b[0m\u001b[0merrors\u001b[0m\u001b[0;34m)\u001b[0m\u001b[0;34m\u001b[0m\u001b[0;34m\u001b[0m\u001b[0m\n\u001b[0m\u001b[1;32m   4151\u001b[0m \u001b[0;34m\u001b[0m\u001b[0m\n\u001b[1;32m   4152\u001b[0m         \u001b[0;32mif\u001b[0m \u001b[0minplace\u001b[0m\u001b[0;34m:\u001b[0m\u001b[0;34m\u001b[0m\u001b[0;34m\u001b[0m\u001b[0m\n",
            "\u001b[0;32m/usr/local/lib/python3.8/dist-packages/pandas/core/generic.py\u001b[0m in \u001b[0;36m_drop_axis\u001b[0;34m(self, labels, axis, level, errors)\u001b[0m\n\u001b[1;32m   4183\u001b[0m                 \u001b[0mnew_axis\u001b[0m \u001b[0;34m=\u001b[0m \u001b[0maxis\u001b[0m\u001b[0;34m.\u001b[0m\u001b[0mdrop\u001b[0m\u001b[0;34m(\u001b[0m\u001b[0mlabels\u001b[0m\u001b[0;34m,\u001b[0m \u001b[0mlevel\u001b[0m\u001b[0;34m=\u001b[0m\u001b[0mlevel\u001b[0m\u001b[0;34m,\u001b[0m \u001b[0merrors\u001b[0m\u001b[0;34m=\u001b[0m\u001b[0merrors\u001b[0m\u001b[0;34m)\u001b[0m\u001b[0;34m\u001b[0m\u001b[0;34m\u001b[0m\u001b[0m\n\u001b[1;32m   4184\u001b[0m             \u001b[0;32melse\u001b[0m\u001b[0;34m:\u001b[0m\u001b[0;34m\u001b[0m\u001b[0;34m\u001b[0m\u001b[0m\n\u001b[0;32m-> 4185\u001b[0;31m                 \u001b[0mnew_axis\u001b[0m \u001b[0;34m=\u001b[0m \u001b[0maxis\u001b[0m\u001b[0;34m.\u001b[0m\u001b[0mdrop\u001b[0m\u001b[0;34m(\u001b[0m\u001b[0mlabels\u001b[0m\u001b[0;34m,\u001b[0m \u001b[0merrors\u001b[0m\u001b[0;34m=\u001b[0m\u001b[0merrors\u001b[0m\u001b[0;34m)\u001b[0m\u001b[0;34m\u001b[0m\u001b[0;34m\u001b[0m\u001b[0m\n\u001b[0m\u001b[1;32m   4186\u001b[0m             \u001b[0mresult\u001b[0m \u001b[0;34m=\u001b[0m \u001b[0mself\u001b[0m\u001b[0;34m.\u001b[0m\u001b[0mreindex\u001b[0m\u001b[0;34m(\u001b[0m\u001b[0;34m**\u001b[0m\u001b[0;34m{\u001b[0m\u001b[0maxis_name\u001b[0m\u001b[0;34m:\u001b[0m \u001b[0mnew_axis\u001b[0m\u001b[0;34m}\u001b[0m\u001b[0;34m)\u001b[0m\u001b[0;34m\u001b[0m\u001b[0;34m\u001b[0m\u001b[0m\n\u001b[1;32m   4187\u001b[0m \u001b[0;34m\u001b[0m\u001b[0m\n",
            "\u001b[0;32m/usr/local/lib/python3.8/dist-packages/pandas/core/indexes/base.py\u001b[0m in \u001b[0;36mdrop\u001b[0;34m(self, labels, errors)\u001b[0m\n\u001b[1;32m   6015\u001b[0m         \u001b[0;32mif\u001b[0m \u001b[0mmask\u001b[0m\u001b[0;34m.\u001b[0m\u001b[0many\u001b[0m\u001b[0;34m(\u001b[0m\u001b[0;34m)\u001b[0m\u001b[0;34m:\u001b[0m\u001b[0;34m\u001b[0m\u001b[0;34m\u001b[0m\u001b[0m\n\u001b[1;32m   6016\u001b[0m             \u001b[0;32mif\u001b[0m \u001b[0merrors\u001b[0m \u001b[0;34m!=\u001b[0m \u001b[0;34m\"ignore\"\u001b[0m\u001b[0;34m:\u001b[0m\u001b[0;34m\u001b[0m\u001b[0;34m\u001b[0m\u001b[0m\n\u001b[0;32m-> 6017\u001b[0;31m                 \u001b[0;32mraise\u001b[0m \u001b[0mKeyError\u001b[0m\u001b[0;34m(\u001b[0m\u001b[0;34mf\"{labels[mask]} not found in axis\"\u001b[0m\u001b[0;34m)\u001b[0m\u001b[0;34m\u001b[0m\u001b[0;34m\u001b[0m\u001b[0m\n\u001b[0m\u001b[1;32m   6018\u001b[0m             \u001b[0mindexer\u001b[0m \u001b[0;34m=\u001b[0m \u001b[0mindexer\u001b[0m\u001b[0;34m[\u001b[0m\u001b[0;34m~\u001b[0m\u001b[0mmask\u001b[0m\u001b[0;34m]\u001b[0m\u001b[0;34m\u001b[0m\u001b[0;34m\u001b[0m\u001b[0m\n\u001b[1;32m   6019\u001b[0m         \u001b[0;32mreturn\u001b[0m \u001b[0mself\u001b[0m\u001b[0;34m.\u001b[0m\u001b[0mdelete\u001b[0m\u001b[0;34m(\u001b[0m\u001b[0mindexer\u001b[0m\u001b[0;34m)\u001b[0m\u001b[0;34m\u001b[0m\u001b[0;34m\u001b[0m\u001b[0m\n",
            "\u001b[0;31mKeyError\u001b[0m: \"['poutcome'] not found in axis\""
          ]
        }
      ],
      "source": [
        "X_num = X.drop(['job','marital','education','contact','month','poutcome'], axis=1)"
      ]
    },
    {
      "cell_type": "markdown",
      "source": [
        "Разбиваем на выборки"
      ],
      "metadata": {
        "id": "1tjLZ11VZdw4"
      }
    },
    {
      "cell_type": "code",
      "execution_count": null,
      "metadata": {
        "id": "QPvrm5WYywck"
      },
      "outputs": [],
      "source": [
        "from sklearn.metrics import accuracy_score\n",
        "from sklearn.model_selection import train_test_split\n",
        "\n",
        "Xtrain_num, Xtest_num, ytrain_num, ytest_num = train_test_split(X_num, y, test_size=0.25, random_state=42)"
      ]
    },
    {
      "cell_type": "markdown",
      "source": [
        "Нормируем данные"
      ],
      "metadata": {
        "id": "4V3JZhqGZfxN"
      }
    },
    {
      "cell_type": "code",
      "execution_count": 55,
      "metadata": {
        "colab": {
          "base_uri": "https://localhost:8080/",
          "height": 206
        },
        "id": "T1-qN_xcywck",
        "outputId": "ab0619f0-916e-44ae-e8f7-58b81c68e059"
      },
      "outputs": [
        {
          "output_type": "execute_result",
          "data": {
            "text/plain": [
              "        age   default   balance   housing      loan       day  duration  \\\n",
              "0  1.581951 -0.122118  2.083507  1.059464  2.545739  0.284318 -0.785527   \n",
              "1  0.823300  8.188828 -0.500178  1.059464 -0.392813 -0.545702 -0.258692   \n",
              "2 -1.115476  8.188828 -0.812078  1.059464 -0.392813 -1.138573  0.982105   \n",
              "3 -0.946887 -0.122118  0.925652  1.059464 -0.392813  0.640040  0.561789   \n",
              "4 -0.862592 -0.122118  0.321128 -0.943873 -0.392813 -0.071405 -0.342179   \n",
              "\n",
              "   campaign     pdays  previous  \n",
              "0  1.662174 -0.474357 -0.365571  \n",
              "1 -0.183877  1.979568  2.348973  \n",
              "2 -0.183877 -0.474357 -0.365571  \n",
              "3  0.554543 -0.474357 -0.365571  \n",
              "4 -0.553088  1.225928  0.991701  "
            ],
            "text/html": [
              "\n",
              "  <div id=\"df-143ab26e-2be7-469b-8b0b-121702a56240\">\n",
              "    <div class=\"colab-df-container\">\n",
              "      <div>\n",
              "<style scoped>\n",
              "    .dataframe tbody tr th:only-of-type {\n",
              "        vertical-align: middle;\n",
              "    }\n",
              "\n",
              "    .dataframe tbody tr th {\n",
              "        vertical-align: top;\n",
              "    }\n",
              "\n",
              "    .dataframe thead th {\n",
              "        text-align: right;\n",
              "    }\n",
              "</style>\n",
              "<table border=\"1\" class=\"dataframe\">\n",
              "  <thead>\n",
              "    <tr style=\"text-align: right;\">\n",
              "      <th></th>\n",
              "      <th>age</th>\n",
              "      <th>default</th>\n",
              "      <th>balance</th>\n",
              "      <th>housing</th>\n",
              "      <th>loan</th>\n",
              "      <th>day</th>\n",
              "      <th>duration</th>\n",
              "      <th>campaign</th>\n",
              "      <th>pdays</th>\n",
              "      <th>previous</th>\n",
              "    </tr>\n",
              "  </thead>\n",
              "  <tbody>\n",
              "    <tr>\n",
              "      <th>0</th>\n",
              "      <td>1.581951</td>\n",
              "      <td>-0.122118</td>\n",
              "      <td>2.083507</td>\n",
              "      <td>1.059464</td>\n",
              "      <td>2.545739</td>\n",
              "      <td>0.284318</td>\n",
              "      <td>-0.785527</td>\n",
              "      <td>1.662174</td>\n",
              "      <td>-0.474357</td>\n",
              "      <td>-0.365571</td>\n",
              "    </tr>\n",
              "    <tr>\n",
              "      <th>1</th>\n",
              "      <td>0.823300</td>\n",
              "      <td>8.188828</td>\n",
              "      <td>-0.500178</td>\n",
              "      <td>1.059464</td>\n",
              "      <td>-0.392813</td>\n",
              "      <td>-0.545702</td>\n",
              "      <td>-0.258692</td>\n",
              "      <td>-0.183877</td>\n",
              "      <td>1.979568</td>\n",
              "      <td>2.348973</td>\n",
              "    </tr>\n",
              "    <tr>\n",
              "      <th>2</th>\n",
              "      <td>-1.115476</td>\n",
              "      <td>8.188828</td>\n",
              "      <td>-0.812078</td>\n",
              "      <td>1.059464</td>\n",
              "      <td>-0.392813</td>\n",
              "      <td>-1.138573</td>\n",
              "      <td>0.982105</td>\n",
              "      <td>-0.183877</td>\n",
              "      <td>-0.474357</td>\n",
              "      <td>-0.365571</td>\n",
              "    </tr>\n",
              "    <tr>\n",
              "      <th>3</th>\n",
              "      <td>-0.946887</td>\n",
              "      <td>-0.122118</td>\n",
              "      <td>0.925652</td>\n",
              "      <td>1.059464</td>\n",
              "      <td>-0.392813</td>\n",
              "      <td>0.640040</td>\n",
              "      <td>0.561789</td>\n",
              "      <td>0.554543</td>\n",
              "      <td>-0.474357</td>\n",
              "      <td>-0.365571</td>\n",
              "    </tr>\n",
              "    <tr>\n",
              "      <th>4</th>\n",
              "      <td>-0.862592</td>\n",
              "      <td>-0.122118</td>\n",
              "      <td>0.321128</td>\n",
              "      <td>-0.943873</td>\n",
              "      <td>-0.392813</td>\n",
              "      <td>-0.071405</td>\n",
              "      <td>-0.342179</td>\n",
              "      <td>-0.553088</td>\n",
              "      <td>1.225928</td>\n",
              "      <td>0.991701</td>\n",
              "    </tr>\n",
              "  </tbody>\n",
              "</table>\n",
              "</div>\n",
              "      <button class=\"colab-df-convert\" onclick=\"convertToInteractive('df-143ab26e-2be7-469b-8b0b-121702a56240')\"\n",
              "              title=\"Convert this dataframe to an interactive table.\"\n",
              "              style=\"display:none;\">\n",
              "        \n",
              "  <svg xmlns=\"http://www.w3.org/2000/svg\" height=\"24px\"viewBox=\"0 0 24 24\"\n",
              "       width=\"24px\">\n",
              "    <path d=\"M0 0h24v24H0V0z\" fill=\"none\"/>\n",
              "    <path d=\"M18.56 5.44l.94 2.06.94-2.06 2.06-.94-2.06-.94-.94-2.06-.94 2.06-2.06.94zm-11 1L8.5 8.5l.94-2.06 2.06-.94-2.06-.94L8.5 2.5l-.94 2.06-2.06.94zm10 10l.94 2.06.94-2.06 2.06-.94-2.06-.94-.94-2.06-.94 2.06-2.06.94z\"/><path d=\"M17.41 7.96l-1.37-1.37c-.4-.4-.92-.59-1.43-.59-.52 0-1.04.2-1.43.59L10.3 9.45l-7.72 7.72c-.78.78-.78 2.05 0 2.83L4 21.41c.39.39.9.59 1.41.59.51 0 1.02-.2 1.41-.59l7.78-7.78 2.81-2.81c.8-.78.8-2.07 0-2.86zM5.41 20L4 18.59l7.72-7.72 1.47 1.35L5.41 20z\"/>\n",
              "  </svg>\n",
              "      </button>\n",
              "      \n",
              "  <style>\n",
              "    .colab-df-container {\n",
              "      display:flex;\n",
              "      flex-wrap:wrap;\n",
              "      gap: 12px;\n",
              "    }\n",
              "\n",
              "    .colab-df-convert {\n",
              "      background-color: #E8F0FE;\n",
              "      border: none;\n",
              "      border-radius: 50%;\n",
              "      cursor: pointer;\n",
              "      display: none;\n",
              "      fill: #1967D2;\n",
              "      height: 32px;\n",
              "      padding: 0 0 0 0;\n",
              "      width: 32px;\n",
              "    }\n",
              "\n",
              "    .colab-df-convert:hover {\n",
              "      background-color: #E2EBFA;\n",
              "      box-shadow: 0px 1px 2px rgba(60, 64, 67, 0.3), 0px 1px 3px 1px rgba(60, 64, 67, 0.15);\n",
              "      fill: #174EA6;\n",
              "    }\n",
              "\n",
              "    [theme=dark] .colab-df-convert {\n",
              "      background-color: #3B4455;\n",
              "      fill: #D2E3FC;\n",
              "    }\n",
              "\n",
              "    [theme=dark] .colab-df-convert:hover {\n",
              "      background-color: #434B5C;\n",
              "      box-shadow: 0px 1px 3px 1px rgba(0, 0, 0, 0.15);\n",
              "      filter: drop-shadow(0px 1px 2px rgba(0, 0, 0, 0.3));\n",
              "      fill: #FFFFFF;\n",
              "    }\n",
              "  </style>\n",
              "\n",
              "      <script>\n",
              "        const buttonEl =\n",
              "          document.querySelector('#df-143ab26e-2be7-469b-8b0b-121702a56240 button.colab-df-convert');\n",
              "        buttonEl.style.display =\n",
              "          google.colab.kernel.accessAllowed ? 'block' : 'none';\n",
              "\n",
              "        async function convertToInteractive(key) {\n",
              "          const element = document.querySelector('#df-143ab26e-2be7-469b-8b0b-121702a56240');\n",
              "          const dataTable =\n",
              "            await google.colab.kernel.invokeFunction('convertToInteractive',\n",
              "                                                     [key], {});\n",
              "          if (!dataTable) return;\n",
              "\n",
              "          const docLinkHtml = 'Like what you see? Visit the ' +\n",
              "            '<a target=\"_blank\" href=https://colab.research.google.com/notebooks/data_table.ipynb>data table notebook</a>'\n",
              "            + ' to learn more about interactive tables.';\n",
              "          element.innerHTML = '';\n",
              "          dataTable['output_type'] = 'display_data';\n",
              "          await google.colab.output.renderOutput(dataTable, element);\n",
              "          const docLink = document.createElement('div');\n",
              "          docLink.innerHTML = docLinkHtml;\n",
              "          element.appendChild(docLink);\n",
              "        }\n",
              "      </script>\n",
              "    </div>\n",
              "  </div>\n",
              "  "
            ]
          },
          "metadata": {},
          "execution_count": 55
        }
      ],
      "source": [
        "import pandas as pd\n",
        "from sklearn.preprocessing import StandardScaler\n",
        "\n",
        "ss = StandardScaler()\n",
        "ss.fit(Xtrain_num)\n",
        "\n",
        "Xtrain = pd.DataFrame(ss.transform(Xtrain_num), columns=X_num.columns)\n",
        "Xtest = pd.DataFrame(ss.transform(Xtest_num), columns=X_num.columns)\n",
        "\n",
        "Xtrain.head()"
      ]
    },
    {
      "cell_type": "markdown",
      "source": [
        "Оцениваем модель"
      ],
      "metadata": {
        "id": "Oh7mEHMuZh9W"
      }
    },
    {
      "cell_type": "code",
      "execution_count": 56,
      "metadata": {
        "id": "GOC0ofEfywcl",
        "outputId": "ffa2f023-f59d-47e4-c411-23203088289b",
        "colab": {
          "base_uri": "https://localhost:8080/"
        }
      },
      "outputs": [
        {
          "output_type": "execute_result",
          "data": {
            "text/plain": [
              "LogisticRegression()"
            ]
          },
          "metadata": {},
          "execution_count": 56
        }
      ],
      "source": [
        "from sklearn.linear_model import LogisticRegression\n",
        "\n",
        "model = LogisticRegression() # объявление модели\n",
        "model.fit(Xtrain_num, ytrain_num) # обучение модели"
      ]
    },
    {
      "cell_type": "code",
      "execution_count": 57,
      "metadata": {
        "id": "-cfj_QZLywcm",
        "outputId": "5f05d76a-478b-4fa5-ae1b-a1928f59c8c3",
        "colab": {
          "base_uri": "https://localhost:8080/"
        }
      },
      "outputs": [
        {
          "output_type": "execute_result",
          "data": {
            "text/plain": [
              "array([0, 1, 1, ..., 0, 0, 1])"
            ]
          },
          "metadata": {},
          "execution_count": 57
        }
      ],
      "source": [
        "pred_test = model.predict(Xtest_num) # предсказание классов\n",
        "pred_test_proba = model.predict_proba (Xtest_num)\n",
        "pred_test"
      ]
    },
    {
      "cell_type": "markdown",
      "source": [
        "Оцениваем результаты"
      ],
      "metadata": {
        "id": "wq2ngfuDZlOL"
      }
    },
    {
      "cell_type": "code",
      "execution_count": 58,
      "metadata": {
        "id": "6D6mgwKnywcn",
        "outputId": "712fa511-1cfa-4b60-ee1d-a7c1a4d1969d",
        "colab": {
          "base_uri": "https://localhost:8080/"
        }
      },
      "outputs": [
        {
          "output_type": "execute_result",
          "data": {
            "text/plain": [
              "0.7660336796847008"
            ]
          },
          "metadata": {},
          "execution_count": 58
        }
      ],
      "source": [
        "accuracy_score(ytest_num, pred_test)"
      ]
    },
    {
      "cell_type": "code",
      "execution_count": 59,
      "metadata": {
        "id": "dv_c240Oywco",
        "outputId": "84eb521f-f477-4920-fcd8-fff123dedbb3",
        "colab": {
          "base_uri": "https://localhost:8080/",
          "height": 330
        }
      },
      "outputs": [
        {
          "output_type": "execute_result",
          "data": {
            "text/plain": [
              "array([[1173,  277],\n",
              "       [ 376,  965]])"
            ]
          },
          "metadata": {},
          "execution_count": 59
        },
        {
          "output_type": "display_data",
          "data": {
            "text/plain": [
              "<Figure size 432x288 with 2 Axes>"
            ],
            "image/png": "[encoded data removed]"
          },
          "metadata": {
            "needs_background": "light"
          }
        }
      ],
      "source": [
        "from sklearn.metrics import confusion_matrix\n",
        "import seaborn as sb\n",
        "\n",
        "\n",
        "conf_mx = confusion_matrix(ytest_num, pred_test)\n",
        "sb.heatmap(conf_mx,annot=True,fmt='4.0f')\n",
        "plt.title('Confusion Matrix', size = 12)\n",
        "plt.xlabel ('Predicted values')\n",
        "plt.ylabel ('Actual values')\n",
        "conf_mx"
      ]
    },
    {
      "cell_type": "code",
      "execution_count": 60,
      "metadata": {
        "id": "9sJvMfVTywco",
        "outputId": "6990c7c0-514b-4933-f764-84f2b6e01d43",
        "colab": {
          "base_uri": "https://localhost:8080/"
        }
      },
      "outputs": [
        {
          "output_type": "execute_result",
          "data": {
            "text/plain": [
              "0    1450\n",
              "1    1341\n",
              "Name: deposit, dtype: int64"
            ]
          },
          "metadata": {},
          "execution_count": 60
        }
      ],
      "source": [
        "ytest_num.value_counts()"
      ]
    },
    {
      "cell_type": "code",
      "execution_count": 61,
      "metadata": {
        "id": "hKc_qBdDywcp",
        "outputId": "4646ecbf-f90a-4615-9318-14a909dd830c",
        "colab": {
          "base_uri": "https://localhost:8080/"
        }
      },
      "outputs": [
        {
          "output_type": "execute_result",
          "data": {
            "text/plain": [
              "0.7196122296793438"
            ]
          },
          "metadata": {},
          "execution_count": 61
        }
      ],
      "source": [
        "from sklearn.metrics import recall_score\n",
        "\n",
        "recall_score(ytest_num, pred_test)"
      ]
    },
    {
      "cell_type": "code",
      "execution_count": 62,
      "metadata": {
        "id": "QwJAX3U9ywcp",
        "outputId": "acb3aa81-7f4b-46aa-cce0-18c769c58761",
        "colab": {
          "base_uri": "https://localhost:8080/"
        }
      },
      "outputs": [
        {
          "output_type": "execute_result",
          "data": {
            "text/plain": [
              "0.7769726247987118"
            ]
          },
          "metadata": {},
          "execution_count": 62
        }
      ],
      "source": [
        "from sklearn.metrics import precision_score\n",
        "\n",
        "precision_score(ytest_num, pred_test)"
      ]
    },
    {
      "cell_type": "code",
      "execution_count": 63,
      "metadata": {
        "id": "om0aufRXywcp",
        "outputId": "203de978-96af-43ee-cdca-56bafbd8f0c4",
        "colab": {
          "base_uri": "https://localhost:8080/"
        }
      },
      "outputs": [
        {
          "output_type": "execute_result",
          "data": {
            "text/plain": [
              "0.7471931862175765"
            ]
          },
          "metadata": {},
          "execution_count": 63
        }
      ],
      "source": [
        "from sklearn.metrics import f1_score\n",
        "\n",
        "f1_score(ytest_num, pred_test)"
      ]
    },
    {
      "cell_type": "code",
      "execution_count": 64,
      "metadata": {
        "id": "MZCZCHxSywcq",
        "outputId": "0128c0fe-5996-49a9-9b5b-718b95e779a4",
        "colab": {
          "base_uri": "https://localhost:8080/",
          "height": 363
        }
      },
      "outputs": [
        {
          "output_type": "execute_result",
          "data": {
            "text/plain": [
              "   features    weights\n",
              "7  campaign  -4.824857\n",
              "3   housing  -1.168625\n",
              "4      loan  -0.657160\n",
              "1   default  -0.473921\n",
              "0       age  -0.246424\n",
              "5       day  -0.205433\n",
              "2   balance   1.786341\n",
              "8     pdays   2.694849\n",
              "9  previous   4.164087\n",
              "6  duration  15.687043"
            ],
            "text/html": [
              "\n",
              "  <div id=\"df-6bdc6cb9-3bb7-4479-8cc9-10822ae87659\">\n",
              "    <div class=\"colab-df-container\">\n",
              "      <div>\n",
              "<style scoped>\n",
              "    .dataframe tbody tr th:only-of-type {\n",
              "        vertical-align: middle;\n",
              "    }\n",
              "\n",
              "    .dataframe tbody tr th {\n",
              "        vertical-align: top;\n",
              "    }\n",
              "\n",
              "    .dataframe thead th {\n",
              "        text-align: right;\n",
              "    }\n",
              "</style>\n",
              "<table border=\"1\" class=\"dataframe\">\n",
              "  <thead>\n",
              "    <tr style=\"text-align: right;\">\n",
              "      <th></th>\n",
              "      <th>features</th>\n",
              "      <th>weights</th>\n",
              "    </tr>\n",
              "  </thead>\n",
              "  <tbody>\n",
              "    <tr>\n",
              "      <th>7</th>\n",
              "      <td>campaign</td>\n",
              "      <td>-4.824857</td>\n",
              "    </tr>\n",
              "    <tr>\n",
              "      <th>3</th>\n",
              "      <td>housing</td>\n",
              "      <td>-1.168625</td>\n",
              "    </tr>\n",
              "    <tr>\n",
              "      <th>4</th>\n",
              "      <td>loan</td>\n",
              "      <td>-0.657160</td>\n",
              "    </tr>\n",
              "    <tr>\n",
              "      <th>1</th>\n",
              "      <td>default</td>\n",
              "      <td>-0.473921</td>\n",
              "    </tr>\n",
              "    <tr>\n",
              "      <th>0</th>\n",
              "      <td>age</td>\n",
              "      <td>-0.246424</td>\n",
              "    </tr>\n",
              "    <tr>\n",
              "      <th>5</th>\n",
              "      <td>day</td>\n",
              "      <td>-0.205433</td>\n",
              "    </tr>\n",
              "    <tr>\n",
              "      <th>2</th>\n",
              "      <td>balance</td>\n",
              "      <td>1.786341</td>\n",
              "    </tr>\n",
              "    <tr>\n",
              "      <th>8</th>\n",
              "      <td>pdays</td>\n",
              "      <td>2.694849</td>\n",
              "    </tr>\n",
              "    <tr>\n",
              "      <th>9</th>\n",
              "      <td>previous</td>\n",
              "      <td>4.164087</td>\n",
              "    </tr>\n",
              "    <tr>\n",
              "      <th>6</th>\n",
              "      <td>duration</td>\n",
              "      <td>15.687043</td>\n",
              "    </tr>\n",
              "  </tbody>\n",
              "</table>\n",
              "</div>\n",
              "      <button class=\"colab-df-convert\" onclick=\"convertToInteractive('df-6bdc6cb9-3bb7-4479-8cc9-10822ae87659')\"\n",
              "              title=\"Convert this dataframe to an interactive table.\"\n",
              "              style=\"display:none;\">\n",
              "        \n",
              "  <svg xmlns=\"http://www.w3.org/2000/svg\" height=\"24px\"viewBox=\"0 0 24 24\"\n",
              "       width=\"24px\">\n",
              "    <path d=\"M0 0h24v24H0V0z\" fill=\"none\"/>\n",
              "    <path d=\"M18.56 5.44l.94 2.06.94-2.06 2.06-.94-2.06-.94-.94-2.06-.94 2.06-2.06.94zm-11 1L8.5 8.5l.94-2.06 2.06-.94-2.06-.94L8.5 2.5l-.94 2.06-2.06.94zm10 10l.94 2.06.94-2.06 2.06-.94-2.06-.94-.94-2.06-.94 2.06-2.06.94z\"/><path d=\"M17.41 7.96l-1.37-1.37c-.4-.4-.92-.59-1.43-.59-.52 0-1.04.2-1.43.59L10.3 9.45l-7.72 7.72c-.78.78-.78 2.05 0 2.83L4 21.41c.39.39.9.59 1.41.59.51 0 1.02-.2 1.41-.59l7.78-7.78 2.81-2.81c.8-.78.8-2.07 0-2.86zM5.41 20L4 18.59l7.72-7.72 1.47 1.35L5.41 20z\"/>\n",
              "  </svg>\n",
              "      </button>\n",
              "      \n",
              "  <style>\n",
              "    .colab-df-container {\n",
              "      display:flex;\n",
              "      flex-wrap:wrap;\n",
              "      gap: 12px;\n",
              "    }\n",
              "\n",
              "    .colab-df-convert {\n",
              "      background-color: #E8F0FE;\n",
              "      border: none;\n",
              "      border-radius: 50%;\n",
              "      cursor: pointer;\n",
              "      display: none;\n",
              "      fill: #1967D2;\n",
              "      height: 32px;\n",
              "      padding: 0 0 0 0;\n",
              "      width: 32px;\n",
              "    }\n",
              "\n",
              "    .colab-df-convert:hover {\n",
              "      background-color: #E2EBFA;\n",
              "      box-shadow: 0px 1px 2px rgba(60, 64, 67, 0.3), 0px 1px 3px 1px rgba(60, 64, 67, 0.15);\n",
              "      fill: #174EA6;\n",
              "    }\n",
              "\n",
              "    [theme=dark] .colab-df-convert {\n",
              "      background-color: #3B4455;\n",
              "      fill: #D2E3FC;\n",
              "    }\n",
              "\n",
              "    [theme=dark] .colab-df-convert:hover {\n",
              "      background-color: #434B5C;\n",
              "      box-shadow: 0px 1px 3px 1px rgba(0, 0, 0, 0.15);\n",
              "      filter: drop-shadow(0px 1px 2px rgba(0, 0, 0, 0.3));\n",
              "      fill: #FFFFFF;\n",
              "    }\n",
              "  </style>\n",
              "\n",
              "      <script>\n",
              "        const buttonEl =\n",
              "          document.querySelector('#df-6bdc6cb9-3bb7-4479-8cc9-10822ae87659 button.colab-df-convert');\n",
              "        buttonEl.style.display =\n",
              "          google.colab.kernel.accessAllowed ? 'block' : 'none';\n",
              "\n",
              "        async function convertToInteractive(key) {\n",
              "          const element = document.querySelector('#df-6bdc6cb9-3bb7-4479-8cc9-10822ae87659');\n",
              "          const dataTable =\n",
              "            await google.colab.kernel.invokeFunction('convertToInteractive',\n",
              "                                                     [key], {});\n",
              "          if (!dataTable) return;\n",
              "\n",
              "          const docLinkHtml = 'Like what you see? Visit the ' +\n",
              "            '<a target=\"_blank\" href=https://colab.research.google.com/notebooks/data_table.ipynb>data table notebook</a>'\n",
              "            + ' to learn more about interactive tables.';\n",
              "          element.innerHTML = '';\n",
              "          dataTable['output_type'] = 'display_data';\n",
              "          await google.colab.output.renderOutput(dataTable, element);\n",
              "          const docLink = document.createElement('div');\n",
              "          docLink.innerHTML = docLinkHtml;\n",
              "          element.appendChild(docLink);\n",
              "        }\n",
              "      </script>\n",
              "    </div>\n",
              "  </div>\n",
              "  "
            ]
          },
          "metadata": {},
          "execution_count": 64
        }
      ],
      "source": [
        "coef_table = pd.DataFrame({'features' : list(X_num.columns), 'weights' : list(model.coef_[0])})\n",
        "coef_table.sort_values(by='weights')"
      ]
    },
    {
      "cell_type": "markdown",
      "source": [
        "## Обучаем KNN"
      ],
      "metadata": {
        "id": "d0cOoEcgZtdl"
      }
    },
    {
      "cell_type": "code",
      "execution_count": 65,
      "metadata": {
        "id": "NCRUMGzHywcq"
      },
      "outputs": [],
      "source": [
        "from sklearn.neighbors import KNeighborsClassifier\n",
        "\n",
        "knn = KNeighborsClassifier()"
      ]
    },
    {
      "cell_type": "code",
      "execution_count": 66,
      "metadata": {
        "id": "RE2zZwPBywcq",
        "outputId": "1771fc92-517f-4b46-d7b9-fd6ecb017291",
        "colab": {
          "base_uri": "https://localhost:8080/",
          "height": 330
        }
      },
      "outputs": [
        {
          "output_type": "execute_result",
          "data": {
            "text/plain": [
              "array([[1130,  320],\n",
              "       [ 312, 1029]])"
            ]
          },
          "metadata": {},
          "execution_count": 66
        },
        {
          "output_type": "display_data",
          "data": {
            "text/plain": [
              "<Figure size 432x288 with 2 Axes>"
            ],
            "image/png": "[encoded data removed]"
          },
          "metadata": {
            "needs_background": "light"
          }
        }
      ],
      "source": [
        "knn.fit(Xtrain_num, ytrain_num)\n",
        "pred_test_knn = knn.predict(Xtest_num)\n",
        "pred_test2 = knn.predict_proba(Xtest_num)[:,1]\n",
        "\n",
        "classes2 = pred_test2 > 0.5\n",
        "\n",
        "conf_mx2 = confusion_matrix(ytest_num, classes2)\n",
        "sb.heatmap(conf_mx2,annot=True,fmt='4.0f')\n",
        "plt.title('Confusion Matrix', size = 12)\n",
        "plt.xlabel ('Predicted values')\n",
        "plt.ylabel ('Actual values')\n",
        "conf_mx2"
      ]
    },
    {
      "cell_type": "markdown",
      "source": [
        "Оцениваем KNN"
      ],
      "metadata": {
        "id": "aP4tZzduZxz8"
      }
    },
    {
      "cell_type": "code",
      "execution_count": 67,
      "metadata": {
        "id": "lLB8B4Cnywcq",
        "outputId": "ce7c805f-0a3b-4cc8-e4b8-5a6542f97dee",
        "colab": {
          "base_uri": "https://localhost:8080/"
        }
      },
      "outputs": [
        {
          "output_type": "execute_result",
          "data": {
            "text/plain": [
              "0.767337807606264"
            ]
          },
          "metadata": {},
          "execution_count": 67
        }
      ],
      "source": [
        "from sklearn.metrics import recall_score\n",
        "\n",
        "recall_score(ytest_num, classes2)"
      ]
    },
    {
      "cell_type": "code",
      "execution_count": 68,
      "metadata": {
        "id": "T_9OeUoeywcr",
        "outputId": "d647b7ff-0002-46c8-d2a8-61aaf588e870",
        "colab": {
          "base_uri": "https://localhost:8080/"
        }
      },
      "outputs": [
        {
          "output_type": "execute_result",
          "data": {
            "text/plain": [
              "0.7627872498146775"
            ]
          },
          "metadata": {},
          "execution_count": 68
        }
      ],
      "source": [
        "from sklearn.metrics import precision_score\n",
        "\n",
        "precision_score(ytest_num, classes2)"
      ]
    },
    {
      "cell_type": "code",
      "execution_count": 69,
      "metadata": {
        "id": "kEVzkAvaywcr",
        "outputId": "f5bb55d6-5153-4027-cd8d-a4f6da9c35c5",
        "colab": {
          "base_uri": "https://localhost:8080/"
        }
      },
      "outputs": [
        {
          "output_type": "execute_result",
          "data": {
            "text/plain": [
              "0.7650557620817845"
            ]
          },
          "metadata": {},
          "execution_count": 69
        }
      ],
      "source": [
        "from sklearn.metrics import f1_score\n",
        "\n",
        "f1_score(ytest_num, classes2)"
      ]
    },
    {
      "cell_type": "markdown",
      "source": [
        "##Dummy Variables"
      ],
      "metadata": {
        "id": "mtPTcgoEy4ek"
      }
    },
    {
      "cell_type": "markdown",
      "source": [
        "Оборачиваем категориальные переменные в Dummy при помощи OHE"
      ],
      "metadata": {
        "id": "4UJ4AmusZ3kV"
      }
    },
    {
      "cell_type": "code",
      "source": [
        "from sklearn.preprocessing import OneHotEncoder\n",
        "\n",
        "Xtrain, Xtest, Ytrain, Ytest = train_test_split(data.drop('deposit', axis=1), data.deposit, test_size=0.25, random_state=42)\n",
        "categorical = ['job','marital','education','contact','month']\n",
        "\n",
        "OH_encoder = OneHotEncoder(handle_unknown='ignore', sparse=False)\n",
        "\n",
        "Xtrain_ohe = pd.DataFrame(OH_encoder.fit_transform(Xtrain[categorical]), columns=OH_encoder.get_feature_names())\n",
        "Xtest_ohe = pd.DataFrame(OH_encoder.transform(Xtest[categorical]), columns=OH_encoder.get_feature_names())"
      ],
      "metadata": {
        "id": "XtzdqhHV4QvU",
        "outputId": "a17aa8b1-282b-451b-cfc2-7d8b626eea7a",
        "colab": {
          "base_uri": "https://localhost:8080/"
        }
      },
      "execution_count": 70,
      "outputs": [
        {
          "output_type": "stream",
          "name": "stderr",
          "text": [
            "/usr/local/lib/python3.8/dist-packages/sklearn/utils/deprecation.py:87: FutureWarning: Function get_feature_names is deprecated; get_feature_names is deprecated in 1.0 and will be removed in 1.2. Please use get_feature_names_out instead.\n",
            "  warnings.warn(msg, category=FutureWarning)\n",
            "/usr/local/lib/python3.8/dist-packages/sklearn/utils/deprecation.py:87: FutureWarning: Function get_feature_names is deprecated; get_feature_names is deprecated in 1.0 and will be removed in 1.2. Please use get_feature_names_out instead.\n",
            "  warnings.warn(msg, category=FutureWarning)\n"
          ]
        }
      ]
    },
    {
      "cell_type": "code",
      "source": [
        "from sklearn.preprocessing import MinMaxScaler\n",
        "\n",
        "numeric = X_num.columns\n",
        "Xtrain_num = Xtrain[numeric]\n",
        "Xtest_num = Xtest[numeric]\n",
        "\n",
        "scaler = MinMaxScaler()\n",
        "scaler.fit(Xtrain_num)\n",
        "\n",
        "Xtrain_num = pd.DataFrame(scaler.transform(Xtrain_num), columns=Xtrain_num.columns)\n",
        "Xtest_num = pd.DataFrame(scaler.transform(Xtest_num), columns=Xtest_num.columns)"
      ],
      "metadata": {
        "id": "CT2dZMOr4gzy"
      },
      "execution_count": 71,
      "outputs": []
    },
    {
      "cell_type": "code",
      "source": [
        "X_transformed = pd.concat([Xtrain_num, Xtrain_ohe], axis=1)\n",
        "X_test_transformed = pd.concat([Xtest_num, Xtest_ohe], axis=1)"
      ],
      "metadata": {
        "id": "OboNtkkT4sbT"
      },
      "execution_count": 72,
      "outputs": []
    },
    {
      "cell_type": "markdown",
      "source": [
        "##Linear Regression with Dummies"
      ],
      "metadata": {
        "id": "5NwuRLh84eCw"
      }
    },
    {
      "cell_type": "markdown",
      "source": [
        "Обучаем Логистическую регрессию с категориальными переменными"
      ],
      "metadata": {
        "id": "PpThlglDZ_bS"
      }
    },
    {
      "cell_type": "code",
      "source": [
        "model2 = LogisticRegression()\n",
        "model2.fit(X_transformed,Ytrain)\n",
        "ohe_LgRg = model2.predict(X_test_transformed)\n",
        "ohe_LgRg_proba = model2.predict_proba(X_test_transformed)"
      ],
      "metadata": {
        "id": "3YjfvQkKwxqj",
        "outputId": "97d1509e-2872-44ad-debe-782041efa27a",
        "colab": {
          "base_uri": "https://localhost:8080/"
        }
      },
      "execution_count": 73,
      "outputs": [
        {
          "output_type": "stream",
          "name": "stderr",
          "text": [
            "/usr/local/lib/python3.8/dist-packages/sklearn/linear_model/_logistic.py:814: ConvergenceWarning: lbfgs failed to converge (status=1):\n",
            "STOP: TOTAL NO. of ITERATIONS REACHED LIMIT.\n",
            "\n",
            "Increase the number of iterations (max_iter) or scale the data as shown in:\n",
            "    https://scikit-learn.org/stable/modules/preprocessing.html\n",
            "Please also refer to the documentation for alternative solver options:\n",
            "    https://scikit-learn.org/stable/modules/linear_model.html#logistic-regression\n",
            "  n_iter_i = _check_optimize_result(\n"
          ]
        }
      ]
    },
    {
      "cell_type": "markdown",
      "source": [
        "Оцениваем качество"
      ],
      "metadata": {
        "id": "u-eYfMTGaRgw"
      }
    },
    {
      "cell_type": "code",
      "source": [
        "from sklearn.metrics import accuracy_score, precision_score, recall_score, roc_auc_score\n",
        "\n",
        "print('Accuracy',round(accuracy_score(Ytest,ohe_LgRg),2))\n",
        "print('Precision',round(precision_score(Ytest,ohe_LgRg),2))\n",
        "print('Recall',round(recall_score(Ytest,ohe_LgRg),2))\n",
        "print('ROC AUC',round(roc_auc_score(Ytest,ohe_LgRg_proba [:,1]),2))"
      ],
      "metadata": {
        "id": "rflJp9Kyw9Lt",
        "outputId": "ca043804-4691-498b-fe24-94dda53564cf",
        "colab": {
          "base_uri": "https://localhost:8080/"
        }
      },
      "execution_count": 74,
      "outputs": [
        {
          "output_type": "stream",
          "name": "stdout",
          "text": [
            "Accuracy 0.8\n",
            "Precision 0.81\n",
            "Recall 0.76\n",
            "ROC AUC 0.89\n"
          ]
        }
      ]
    },
    {
      "cell_type": "code",
      "source": [
        "pd.Series(model2.coef_[0], index=X_transformed.columns).nlargest(5).plot(kind='barh',color='green')\n",
        "plt.show()\n",
        "pd.Series(model2.coef_[0], index=X_transformed.columns).nsmallest(5).plot(kind='barh',color='red')\n",
        "plt.show()"
      ],
      "metadata": {
        "id": "2ViX94lt2Rfy",
        "outputId": "ea3433cf-15ec-44e6-cf71-2ef25631701b",
        "colab": {
          "base_uri": "https://localhost:8080/",
          "height": 513
        }
      },
      "execution_count": 80,
      "outputs": [
        {
          "output_type": "display_data",
          "data": {
            "text/plain": [
              "<Figure size 432x288 with 1 Axes>"
            ],
            "image/png": "[encoded data removed]"
          },
          "metadata": {
            "needs_background": "light"
          }
        },
        {
          "output_type": "display_data",
          "data": {
            "text/plain": [
              "<Figure size 432x288 with 1 Axes>"
            ],
            "image/png": "[encoded data removed]"
          },
          "metadata": {
            "needs_background": "light"
          }
        }
      ]
    },
    {
      "cell_type": "markdown",
      "source": [
        "## Boost"
      ],
      "metadata": {
        "id": "ALHcodT54iNS"
      }
    },
    {
      "cell_type": "markdown",
      "source": [
        "Обучаем градиентный бустинг"
      ],
      "metadata": {
        "id": "KDxFaKIRaLR7"
      }
    },
    {
      "cell_type": "code",
      "source": [
        "cat = CatBoostClassifier(iterations=1000,\n",
        "                         depth = 3,\n",
        "                         learning_rate = 0.01,\n",
        "                         loss_function='Logloss',\n",
        "                         eval_metric = 'AUC',\n",
        "                         verbose=False)\n",
        "cat.fit(X_transformed, Ytrain)\n",
        "ohe_boost = cat.predict(X_test_transformed)   \n",
        "ohe_boost_proba = cat.predict_proba(X_test_transformed)   "
      ],
      "metadata": {
        "id": "HrIqklSv0HB_"
      },
      "execution_count": 76,
      "outputs": []
    },
    {
      "cell_type": "markdown",
      "source": [
        "Оцениваем результаты"
      ],
      "metadata": {
        "id": "M5li-byyaPeB"
      }
    },
    {
      "cell_type": "code",
      "source": [
        "print('Accuracy',round(accuracy_score(Ytest,ohe_boost),2))\n",
        "print('Precision',round(precision_score(Ytest,ohe_boost),2))\n",
        "print('Recall',round(recall_score(Ytest,ohe_boost),2))\n",
        "print('ROC AUC',round(roc_auc_score(Ytest,ohe_boost_proba [:,1]),2))"
      ],
      "metadata": {
        "id": "eeDJKygc1-XV",
        "outputId": "a86e06bf-d96c-4f4e-9b5f-88a567eb9207",
        "colab": {
          "base_uri": "https://localhost:8080/"
        }
      },
      "execution_count": 77,
      "outputs": [
        {
          "output_type": "stream",
          "name": "stdout",
          "text": [
            "Accuracy 0.84\n",
            "Precision 0.82\n",
            "Recall 0.85\n",
            "ROC AUC 0.91\n"
          ]
        }
      ]
    },
    {
      "cell_type": "code",
      "source": [
        "pd.Series(cat.feature_importances_, index=X_transformed.columns).nlargest(10).plot(kind='barh',color='blue')\n",
        "plt.show()"
      ],
      "metadata": {
        "id": "pKLr3rz83XdK",
        "outputId": "f898d229-729d-461c-daaf-fd8502462cb7",
        "colab": {
          "base_uri": "https://localhost:8080/",
          "height": 265
        }
      },
      "execution_count": 78,
      "outputs": [
        {
          "output_type": "display_data",
          "data": {
            "text/plain": [
              "<Figure size 432x288 with 1 Axes>"
            ],
            "image/png": "[encoded data removed]"
          },
          "metadata": {
            "needs_background": "light"
          }
        }
      ]
    },
    {
      "cell_type": "markdown",
      "source": [
        "## Results and Summary"
      ],
      "metadata": {
        "id": "tvoTJG538HSj"
      }
    },
    {
      "cell_type": "markdown",
      "source": [
        "Сводим результаты моделей в одну таблицу"
      ],
      "metadata": {
        "id": "hXFC_txBaT1D"
      }
    },
    {
      "cell_type": "code",
      "source": [
        "resulting_metrics = pd.DataFrame({\n",
        "    'Accuracy':[accuracy_score(Ytest,pred_test), accuracy_score(Ytest,ohe_LgRg),accuracy_score(Ytest,pred_test_knn),accuracy_score(Ytest,ohe_boost)],\n",
        "    'Precision': [precision_score(Ytest,pred_test), precision_score(Ytest,ohe_LgRg), precision_score(Ytest,pred_test_knn),precision_score(Ytest,ohe_boost)],\n",
        "    'Recall': [recall_score(Ytest,pred_test), recall_score(Ytest,ohe_LgRg), recall_score(Ytest,pred_test_knn),recall_score(Ytest,ohe_boost)],\n",
        "    'ROC AUC': [roc_auc_score(Ytest,pred_test_proba[:,1]),roc_auc_score(Ytest,ohe_LgRg_proba [:,1]),roc_auc_score(Ytest,pred_test2),roc_auc_score(Ytest,ohe_boost_proba [:,1])]    \n",
        "}, index= ['LogReg','OHE_LogReg','KNN','OHE_Boost'])\n",
        "resulting_metrics"
      ],
      "metadata": {
        "id": "oau67yHH8JfO",
        "colab": {
          "base_uri": "https://localhost:8080/",
          "height": 175
        },
        "outputId": "a080ce41-a4a1-4dce-b9c4-db527be37c80"
      },
      "execution_count": 79,
      "outputs": [
        {
          "output_type": "execute_result",
          "data": {
            "text/plain": [
              "            Accuracy  Precision    Recall   ROC AUC\n",
              "LogReg      0.766034   0.776973  0.719612  0.852250\n",
              "OHE_LogReg  0.797922   0.810552  0.756152  0.888567\n",
              "KNN         0.773558   0.762787  0.767338  0.837655\n",
              "OHE_Boost   0.837334   0.820217  0.847129  0.910706"
            ],
            "text/html": [
              "\n",
              "  <div id=\"df-ca685a09-3eca-48d8-b21a-7123a7949a66\">\n",
              "    <div class=\"colab-df-container\">\n",
              "      <div>\n",
              "<style scoped>\n",
              "    .dataframe tbody tr th:only-of-type {\n",
              "        vertical-align: middle;\n",
              "    }\n",
              "\n",
              "    .dataframe tbody tr th {\n",
              "        vertical-align: top;\n",
              "    }\n",
              "\n",
              "    .dataframe thead th {\n",
              "        text-align: right;\n",
              "    }\n",
              "</style>\n",
              "<table border=\"1\" class=\"dataframe\">\n",
              "  <thead>\n",
              "    <tr style=\"text-align: right;\">\n",
              "      <th></th>\n",
              "      <th>Accuracy</th>\n",
              "      <th>Precision</th>\n",
              "      <th>Recall</th>\n",
              "      <th>ROC AUC</th>\n",
              "    </tr>\n",
              "  </thead>\n",
              "  <tbody>\n",
              "    <tr>\n",
              "      <th>LogReg</th>\n",
              "      <td>0.766034</td>\n",
              "      <td>0.776973</td>\n",
              "      <td>0.719612</td>\n",
              "      <td>0.852250</td>\n",
              "    </tr>\n",
              "    <tr>\n",
              "      <th>OHE_LogReg</th>\n",
              "      <td>0.797922</td>\n",
              "      <td>0.810552</td>\n",
              "      <td>0.756152</td>\n",
              "      <td>0.888567</td>\n",
              "    </tr>\n",
              "    <tr>\n",
              "      <th>KNN</th>\n",
              "      <td>0.773558</td>\n",
              "      <td>0.762787</td>\n",
              "      <td>0.767338</td>\n",
              "      <td>0.837655</td>\n",
              "    </tr>\n",
              "    <tr>\n",
              "      <th>OHE_Boost</th>\n",
              "      <td>0.837334</td>\n",
              "      <td>0.820217</td>\n",
              "      <td>0.847129</td>\n",
              "      <td>0.910706</td>\n",
              "    </tr>\n",
              "  </tbody>\n",
              "</table>\n",
              "</div>\n",
              "      <button class=\"colab-df-convert\" onclick=\"convertToInteractive('df-ca685a09-3eca-48d8-b21a-7123a7949a66')\"\n",
              "              title=\"Convert this dataframe to an interactive table.\"\n",
              "              style=\"display:none;\">\n",
              "        \n",
              "  <svg xmlns=\"http://www.w3.org/2000/svg\" height=\"24px\"viewBox=\"0 0 24 24\"\n",
              "       width=\"24px\">\n",
              "    <path d=\"M0 0h24v24H0V0z\" fill=\"none\"/>\n",
              "    <path d=\"M18.56 5.44l.94 2.06.94-2.06 2.06-.94-2.06-.94-.94-2.06-.94 2.06-2.06.94zm-11 1L8.5 8.5l.94-2.06 2.06-.94-2.06-.94L8.5 2.5l-.94 2.06-2.06.94zm10 10l.94 2.06.94-2.06 2.06-.94-2.06-.94-.94-2.06-.94 2.06-2.06.94z\"/><path d=\"M17.41 7.96l-1.37-1.37c-.4-.4-.92-.59-1.43-.59-.52 0-1.04.2-1.43.59L10.3 9.45l-7.72 7.72c-.78.78-.78 2.05 0 2.83L4 21.41c.39.39.9.59 1.41.59.51 0 1.02-.2 1.41-.59l7.78-7.78 2.81-2.81c.8-.78.8-2.07 0-2.86zM5.41 20L4 18.59l7.72-7.72 1.47 1.35L5.41 20z\"/>\n",
              "  </svg>\n",
              "      </button>\n",
              "      \n",
              "  <style>\n",
              "    .colab-df-container {\n",
              "      display:flex;\n",
              "      flex-wrap:wrap;\n",
              "      gap: 12px;\n",
              "    }\n",
              "\n",
              "    .colab-df-convert {\n",
              "      background-color: #E8F0FE;\n",
              "      border: none;\n",
              "      border-radius: 50%;\n",
              "      cursor: pointer;\n",
              "      display: none;\n",
              "      fill: #1967D2;\n",
              "      height: 32px;\n",
              "      padding: 0 0 0 0;\n",
              "      width: 32px;\n",
              "    }\n",
              "\n",
              "    .colab-df-convert:hover {\n",
              "      background-color: #E2EBFA;\n",
              "      box-shadow: 0px 1px 2px rgba(60, 64, 67, 0.3), 0px 1px 3px 1px rgba(60, 64, 67, 0.15);\n",
              "      fill: #174EA6;\n",
              "    }\n",
              "\n",
              "    [theme=dark] .colab-df-convert {\n",
              "      background-color: #3B4455;\n",
              "      fill: #D2E3FC;\n",
              "    }\n",
              "\n",
              "    [theme=dark] .colab-df-convert:hover {\n",
              "      background-color: #434B5C;\n",
              "      box-shadow: 0px 1px 3px 1px rgba(0, 0, 0, 0.15);\n",
              "      filter: drop-shadow(0px 1px 2px rgba(0, 0, 0, 0.3));\n",
              "      fill: #FFFFFF;\n",
              "    }\n",
              "  </style>\n",
              "\n",
              "      <script>\n",
              "        const buttonEl =\n",
              "          document.querySelector('#df-ca685a09-3eca-48d8-b21a-7123a7949a66 button.colab-df-convert');\n",
              "        buttonEl.style.display =\n",
              "          google.colab.kernel.accessAllowed ? 'block' : 'none';\n",
              "\n",
              "        async function convertToInteractive(key) {\n",
              "          const element = document.querySelector('#df-ca685a09-3eca-48d8-b21a-7123a7949a66');\n",
              "          const dataTable =\n",
              "            await google.colab.kernel.invokeFunction('convertToInteractive',\n",
              "                                                     [key], {});\n",
              "          if (!dataTable) return;\n",
              "\n",
              "          const docLinkHtml = 'Like what you see? Visit the ' +\n",
              "            '<a target=\"_blank\" href=https://colab.research.google.com/notebooks/data_table.ipynb>data table notebook</a>'\n",
              "            + ' to learn more about interactive tables.';\n",
              "          element.innerHTML = '';\n",
              "          dataTable['output_type'] = 'display_data';\n",
              "          await google.colab.output.renderOutput(dataTable, element);\n",
              "          const docLink = document.createElement('div');\n",
              "          docLink.innerHTML = docLinkHtml;\n",
              "          element.appendChild(docLink);\n",
              "        }\n",
              "      </script>\n",
              "    </div>\n",
              "  </div>\n",
              "  "
            ]
          },
          "metadata": {},
          "execution_count": 79
        }
      ]
    },
    {
      "cell_type": "code",
      "source": [],
      "metadata": {
        "id": "ufDY52BieB04"
      },
      "execution_count": 48,
      "outputs": []
    }
  ],
  "metadata": {
    "kernelspec": {
      "display_name": "Python 3",
      "language": "python",
      "name": "python3"
    },
    "language_info": {
      "codemirror_mode": {
        "name": "ipython",
        "version": 3
      },
      "file_extension": ".py",
      "mimetype": "text/x-python",
      "name": "python",
      "nbconvert_exporter": "python",
      "pygments_lexer": "ipython3",
      "version": "3.8.3"
    },
    "colab": {
      "provenance": [],
      "include_colab_link": true
    }
  },
  "nbformat": 4,
  "nbformat_minor": 0
}