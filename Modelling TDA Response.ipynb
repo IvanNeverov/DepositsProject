{
  "cells": [
    {
      "cell_type": "markdown",
      "metadata": {
        "id": "view-in-github",
        "colab_type": "text"
      },
      "source": [
        "<a href=\"https://colab.research.google.com/github/IvanNeverov/DepositsProject/blob/main/Modelling%20TDA%20Response.ipynb\" target=\"_parent\"><img src=\"https://colab.research.google.com/assets/colab-badge.svg\" alt=\"Open In Colab\"/></a>"
      ]
    },
    {
      "cell_type": "markdown",
      "source": [
        "## Импортируем библиотеки"
      ],
      "metadata": {
        "id": "cboOpCEwZEeK"
      }
    },
    {
      "cell_type": "code",
      "source": [
        "!pip install catboost -q"
      ],
      "metadata": {
        "id": "NiCB-FuFcTUy"
      },
      "execution_count": 87,
      "outputs": []
    },
    {
      "cell_type": "code",
      "execution_count": 88,
      "metadata": {
        "id": "2iG1TXCpywcX"
      },
      "outputs": [],
      "source": [
        "import pandas as pd\n",
        "import numpy as np\n",
        "from matplotlib import pyplot as plt\n",
        "from sklearn.linear_model import LogisticRegression\n",
        "from catboost import CatBoostClassifier, Pool\n",
        "\n",
        "import seaborn as sb"
      ]
    },
    {
      "cell_type": "markdown",
      "source": [
        "## Загружаем данные, делаем первичный анализ"
      ],
      "metadata": {
        "id": "M2PqIyldZIbJ"
      }
    },
    {
      "cell_type": "markdown",
      "metadata": {
        "id": "pgYp06pQywcb"
      },
      "source": [
        "Значения переменных yes/no заранее заменил на 1и0 "
      ]
    },
    {
      "cell_type": "code",
      "execution_count": 89,
      "metadata": {
        "id": "GMY6rUYbywcd"
      },
      "outputs": [],
      "source": [
        "data = pd.read_excel('/dataset.xlsx')"
      ]
    },
    {
      "cell_type": "code",
      "execution_count": null,
      "metadata": {
        "id": "uZ9zDWrIywce"
      },
      "outputs": [],
      "source": [
        "data.head(6)"
      ]
    },
    {
      "cell_type": "code",
      "execution_count": null,
      "metadata": {
        "id": "zOvK1f_eywcf"
      },
      "outputs": [],
      "source": [
        "data.shape"
      ]
    },
    {
      "cell_type": "code",
      "execution_count": null,
      "metadata": {
        "id": "yjMUJjB5ywcf"
      },
      "outputs": [],
      "source": [
        "data.dtypes"
      ]
    },
    {
      "cell_type": "code",
      "execution_count": null,
      "metadata": {
        "id": "yOePGIDjywcg"
      },
      "outputs": [],
      "source": [
        "data.isna().sum()"
      ]
    },
    {
      "cell_type": "code",
      "execution_count": null,
      "metadata": {
        "id": "hZZZhvwbywcg"
      },
      "outputs": [],
      "source": [
        "data.describe()"
      ]
    },
    {
      "cell_type": "code",
      "execution_count": null,
      "metadata": {
        "id": "LA8LbX1cywch"
      },
      "outputs": [],
      "source": [
        "data.describe(include='object')"
      ]
    },
    {
      "cell_type": "code",
      "execution_count": null,
      "metadata": {
        "id": "uxb2pdIQywch"
      },
      "outputs": [],
      "source": [
        "corr = data.corr() # строим матрицу корреляций\n",
        "\n",
        "corr.style.background_gradient(cmap='coolwarm')"
      ]
    },
    {
      "cell_type": "markdown",
      "source": [
        "## Строим логистическую регрессию без категориальных переменных"
      ],
      "metadata": {
        "id": "W9Lzgf5SZS5Y"
      }
    },
    {
      "cell_type": "markdown",
      "metadata": {
        "id": "LgJ3jZjBywci"
      },
      "source": [
        "Этап моделирования "
      ]
    },
    {
      "cell_type": "code",
      "execution_count": 97,
      "metadata": {
        "id": "PolUsWpRywcj"
      },
      "outputs": [],
      "source": [
        "X = data.drop('deposit', axis=1) # матрица объект-признак\n",
        "y = data['deposit'] # целевая переменная"
      ]
    },
    {
      "cell_type": "markdown",
      "source": [
        "Сносим категориальные переменные"
      ],
      "metadata": {
        "id": "ZzpUpXAwZbRE"
      }
    },
    {
      "cell_type": "code",
      "execution_count": 98,
      "metadata": {
        "id": "b28YjYjXywcj"
      },
      "outputs": [],
      "source": [
        "X_num = X.drop(['job','marital','education','contact','month','poutcome'], axis=1)"
      ]
    },
    {
      "cell_type": "markdown",
      "source": [
        "Разбиваем на выборки"
      ],
      "metadata": {
        "id": "1tjLZ11VZdw4"
      }
    },
    {
      "cell_type": "code",
      "execution_count": 99,
      "metadata": {
        "id": "QPvrm5WYywck"
      },
      "outputs": [],
      "source": [
        "from sklearn.metrics import accuracy_score\n",
        "from sklearn.model_selection import train_test_split\n",
        "\n",
        "Xtrain_num, Xtest_num, ytrain_num, ytest_num = train_test_split(X_num, y, test_size=0.25, random_state=42)"
      ]
    },
    {
      "cell_type": "markdown",
      "source": [
        "Нормируем данные"
      ],
      "metadata": {
        "id": "4V3JZhqGZfxN"
      }
    },
    {
      "cell_type": "code",
      "execution_count": 105,
      "metadata": {
        "colab": {
          "base_uri": "https://localhost:8080/",
          "height": 206
        },
        "id": "T1-qN_xcywck",
        "outputId": "f5d1216e-7148-47a1-9207-c639041ba4f3"
      },
      "outputs": [
        {
          "output_type": "execute_result",
          "data": {
            "text/plain": [
              "        age   default   balance   housing      loan       day  duration  \\\n",
              "0  1.581951 -0.122118  2.083507  1.059464  2.545739  0.284318 -0.785527   \n",
              "1  0.823300  8.188828 -0.500178  1.059464 -0.392813 -0.545702 -0.258692   \n",
              "2 -1.115476  8.188828 -0.812078  1.059464 -0.392813 -1.138573  0.982105   \n",
              "3 -0.946887 -0.122118  0.925652  1.059464 -0.392813  0.640040  0.561789   \n",
              "4 -0.862592 -0.122118  0.321128 -0.943873 -0.392813 -0.071405 -0.342179   \n",
              "\n",
              "   campaign     pdays  previous  \n",
              "0  1.662174 -0.474357 -0.365571  \n",
              "1 -0.183877  1.979568  2.348973  \n",
              "2 -0.183877 -0.474357 -0.365571  \n",
              "3  0.554543 -0.474357 -0.365571  \n",
              "4 -0.553088  1.225928  0.991701  "
            ],
            "text/html": [
              "\n",
              "  <div id=\"df-aff0b82b-8b00-4938-964f-59a7ac4f7450\">\n",
              "    <div class=\"colab-df-container\">\n",
              "      <div>\n",
              "<style scoped>\n",
              "    .dataframe tbody tr th:only-of-type {\n",
              "        vertical-align: middle;\n",
              "    }\n",
              "\n",
              "    .dataframe tbody tr th {\n",
              "        vertical-align: top;\n",
              "    }\n",
              "\n",
              "    .dataframe thead th {\n",
              "        text-align: right;\n",
              "    }\n",
              "</style>\n",
              "<table border=\"1\" class=\"dataframe\">\n",
              "  <thead>\n",
              "    <tr style=\"text-align: right;\">\n",
              "      <th></th>\n",
              "      <th>age</th>\n",
              "      <th>default</th>\n",
              "      <th>balance</th>\n",
              "      <th>housing</th>\n",
              "      <th>loan</th>\n",
              "      <th>day</th>\n",
              "      <th>duration</th>\n",
              "      <th>campaign</th>\n",
              "      <th>pdays</th>\n",
              "      <th>previous</th>\n",
              "    </tr>\n",
              "  </thead>\n",
              "  <tbody>\n",
              "    <tr>\n",
              "      <th>0</th>\n",
              "      <td>1.581951</td>\n",
              "      <td>-0.122118</td>\n",
              "      <td>2.083507</td>\n",
              "      <td>1.059464</td>\n",
              "      <td>2.545739</td>\n",
              "      <td>0.284318</td>\n",
              "      <td>-0.785527</td>\n",
              "      <td>1.662174</td>\n",
              "      <td>-0.474357</td>\n",
              "      <td>-0.365571</td>\n",
              "    </tr>\n",
              "    <tr>\n",
              "      <th>1</th>\n",
              "      <td>0.823300</td>\n",
              "      <td>8.188828</td>\n",
              "      <td>-0.500178</td>\n",
              "      <td>1.059464</td>\n",
              "      <td>-0.392813</td>\n",
              "      <td>-0.545702</td>\n",
              "      <td>-0.258692</td>\n",
              "      <td>-0.183877</td>\n",
              "      <td>1.979568</td>\n",
              "      <td>2.348973</td>\n",
              "    </tr>\n",
              "    <tr>\n",
              "      <th>2</th>\n",
              "      <td>-1.115476</td>\n",
              "      <td>8.188828</td>\n",
              "      <td>-0.812078</td>\n",
              "      <td>1.059464</td>\n",
              "      <td>-0.392813</td>\n",
              "      <td>-1.138573</td>\n",
              "      <td>0.982105</td>\n",
              "      <td>-0.183877</td>\n",
              "      <td>-0.474357</td>\n",
              "      <td>-0.365571</td>\n",
              "    </tr>\n",
              "    <tr>\n",
              "      <th>3</th>\n",
              "      <td>-0.946887</td>\n",
              "      <td>-0.122118</td>\n",
              "      <td>0.925652</td>\n",
              "      <td>1.059464</td>\n",
              "      <td>-0.392813</td>\n",
              "      <td>0.640040</td>\n",
              "      <td>0.561789</td>\n",
              "      <td>0.554543</td>\n",
              "      <td>-0.474357</td>\n",
              "      <td>-0.365571</td>\n",
              "    </tr>\n",
              "    <tr>\n",
              "      <th>4</th>\n",
              "      <td>-0.862592</td>\n",
              "      <td>-0.122118</td>\n",
              "      <td>0.321128</td>\n",
              "      <td>-0.943873</td>\n",
              "      <td>-0.392813</td>\n",
              "      <td>-0.071405</td>\n",
              "      <td>-0.342179</td>\n",
              "      <td>-0.553088</td>\n",
              "      <td>1.225928</td>\n",
              "      <td>0.991701</td>\n",
              "    </tr>\n",
              "  </tbody>\n",
              "</table>\n",
              "</div>\n",
              "      <button class=\"colab-df-convert\" onclick=\"convertToInteractive('df-aff0b82b-8b00-4938-964f-59a7ac4f7450')\"\n",
              "              title=\"Convert this dataframe to an interactive table.\"\n",
              "              style=\"display:none;\">\n",
              "        \n",
              "  <svg xmlns=\"http://www.w3.org/2000/svg\" height=\"24px\"viewBox=\"0 0 24 24\"\n",
              "       width=\"24px\">\n",
              "    <path d=\"M0 0h24v24H0V0z\" fill=\"none\"/>\n",
              "    <path d=\"M18.56 5.44l.94 2.06.94-2.06 2.06-.94-2.06-.94-.94-2.06-.94 2.06-2.06.94zm-11 1L8.5 8.5l.94-2.06 2.06-.94-2.06-.94L8.5 2.5l-.94 2.06-2.06.94zm10 10l.94 2.06.94-2.06 2.06-.94-2.06-.94-.94-2.06-.94 2.06-2.06.94z\"/><path d=\"M17.41 7.96l-1.37-1.37c-.4-.4-.92-.59-1.43-.59-.52 0-1.04.2-1.43.59L10.3 9.45l-7.72 7.72c-.78.78-.78 2.05 0 2.83L4 21.41c.39.39.9.59 1.41.59.51 0 1.02-.2 1.41-.59l7.78-7.78 2.81-2.81c.8-.78.8-2.07 0-2.86zM5.41 20L4 18.59l7.72-7.72 1.47 1.35L5.41 20z\"/>\n",
              "  </svg>\n",
              "      </button>\n",
              "      \n",
              "  <style>\n",
              "    .colab-df-container {\n",
              "      display:flex;\n",
              "      flex-wrap:wrap;\n",
              "      gap: 12px;\n",
              "    }\n",
              "\n",
              "    .colab-df-convert {\n",
              "      background-color: #E8F0FE;\n",
              "      border: none;\n",
              "      border-radius: 50%;\n",
              "      cursor: pointer;\n",
              "      display: none;\n",
              "      fill: #1967D2;\n",
              "      height: 32px;\n",
              "      padding: 0 0 0 0;\n",
              "      width: 32px;\n",
              "    }\n",
              "\n",
              "    .colab-df-convert:hover {\n",
              "      background-color: #E2EBFA;\n",
              "      box-shadow: 0px 1px 2px rgba(60, 64, 67, 0.3), 0px 1px 3px 1px rgba(60, 64, 67, 0.15);\n",
              "      fill: #174EA6;\n",
              "    }\n",
              "\n",
              "    [theme=dark] .colab-df-convert {\n",
              "      background-color: #3B4455;\n",
              "      fill: #D2E3FC;\n",
              "    }\n",
              "\n",
              "    [theme=dark] .colab-df-convert:hover {\n",
              "      background-color: #434B5C;\n",
              "      box-shadow: 0px 1px 3px 1px rgba(0, 0, 0, 0.15);\n",
              "      filter: drop-shadow(0px 1px 2px rgba(0, 0, 0, 0.3));\n",
              "      fill: #FFFFFF;\n",
              "    }\n",
              "  </style>\n",
              "\n",
              "      <script>\n",
              "        const buttonEl =\n",
              "          document.querySelector('#df-aff0b82b-8b00-4938-964f-59a7ac4f7450 button.colab-df-convert');\n",
              "        buttonEl.style.display =\n",
              "          google.colab.kernel.accessAllowed ? 'block' : 'none';\n",
              "\n",
              "        async function convertToInteractive(key) {\n",
              "          const element = document.querySelector('#df-aff0b82b-8b00-4938-964f-59a7ac4f7450');\n",
              "          const dataTable =\n",
              "            await google.colab.kernel.invokeFunction('convertToInteractive',\n",
              "                                                     [key], {});\n",
              "          if (!dataTable) return;\n",
              "\n",
              "          const docLinkHtml = 'Like what you see? Visit the ' +\n",
              "            '<a target=\"_blank\" href=https://colab.research.google.com/notebooks/data_table.ipynb>data table notebook</a>'\n",
              "            + ' to learn more about interactive tables.';\n",
              "          element.innerHTML = '';\n",
              "          dataTable['output_type'] = 'display_data';\n",
              "          await google.colab.output.renderOutput(dataTable, element);\n",
              "          const docLink = document.createElement('div');\n",
              "          docLink.innerHTML = docLinkHtml;\n",
              "          element.appendChild(docLink);\n",
              "        }\n",
              "      </script>\n",
              "    </div>\n",
              "  </div>\n",
              "  "
            ]
          },
          "metadata": {},
          "execution_count": 105
        }
      ],
      "source": [
        "import pandas as pd\n",
        "from sklearn.preprocessing import StandardScaler\n",
        "\n",
        "ss = StandardScaler()\n",
        "ss.fit(Xtrain_num)\n",
        "\n",
        "Xtrain = pd.DataFrame(ss.transform(Xtrain_num), columns=X_num.columns)\n",
        "Xtest = pd.DataFrame(ss.transform(Xtest_num), columns=X_num.columns)\n",
        "\n",
        "Xtrain.head()"
      ]
    },
    {
      "cell_type": "markdown",
      "source": [
        "Оцениваем модель"
      ],
      "metadata": {
        "id": "Oh7mEHMuZh9W"
      }
    },
    {
      "cell_type": "code",
      "execution_count": null,
      "metadata": {
        "id": "GOC0ofEfywcl"
      },
      "outputs": [],
      "source": [
        "from sklearn.linear_model import LogisticRegression\n",
        "\n",
        "model = LogisticRegression() # объявление модели\n",
        "model.fit(Xtrain_num, ytrain_num) # обучение модели"
      ]
    },
    {
      "cell_type": "code",
      "execution_count": null,
      "metadata": {
        "id": "-cfj_QZLywcm"
      },
      "outputs": [],
      "source": [
        "pred_test = model.predict(Xtest_num) # предсказание классов\n",
        "pred_test_proba = model.predict_proba (Xtest_num)\n",
        "pred_test"
      ]
    },
    {
      "cell_type": "markdown",
      "source": [
        "Оцениваем результаты"
      ],
      "metadata": {
        "id": "wq2ngfuDZlOL"
      }
    },
    {
      "cell_type": "code",
      "execution_count": null,
      "metadata": {
        "id": "6D6mgwKnywcn"
      },
      "outputs": [],
      "source": [
        "accuracy_score(ytest_num, pred_test)"
      ]
    },
    {
      "cell_type": "code",
      "execution_count": null,
      "metadata": {
        "id": "dv_c240Oywco"
      },
      "outputs": [],
      "source": [
        "from sklearn.metrics import confusion_matrix\n",
        "import seaborn as sb\n",
        "\n",
        "\n",
        "conf_mx = confusion_matrix(ytest_num, pred_test)\n",
        "sb.heatmap(conf_mx,annot=True,fmt='4.0f')\n",
        "plt.title('Confusion Matrix', size = 12)\n",
        "plt.xlabel ('Predicted values')\n",
        "plt.ylabel ('Actual values')\n",
        "conf_mx"
      ]
    },
    {
      "cell_type": "code",
      "execution_count": null,
      "metadata": {
        "id": "9sJvMfVTywco"
      },
      "outputs": [],
      "source": [
        "ytest_num.value_counts()"
      ]
    },
    {
      "cell_type": "code",
      "execution_count": null,
      "metadata": {
        "id": "hKc_qBdDywcp"
      },
      "outputs": [],
      "source": [
        "from sklearn.metrics import recall_score\n",
        "\n",
        "recall_score(ytest_num, pred_test)"
      ]
    },
    {
      "cell_type": "code",
      "execution_count": null,
      "metadata": {
        "id": "QwJAX3U9ywcp"
      },
      "outputs": [],
      "source": [
        "from sklearn.metrics import precision_score\n",
        "\n",
        "precision_score(ytest_num, pred_test)"
      ]
    },
    {
      "cell_type": "code",
      "execution_count": null,
      "metadata": {
        "id": "om0aufRXywcp"
      },
      "outputs": [],
      "source": [
        "from sklearn.metrics import f1_score\n",
        "\n",
        "f1_score(ytest_num, pred_test)"
      ]
    },
    {
      "cell_type": "code",
      "execution_count": null,
      "metadata": {
        "id": "MZCZCHxSywcq"
      },
      "outputs": [],
      "source": [
        "coef_table = pd.DataFrame({'features' : list(X_num.columns), 'weights' : list(model.coef_[0])})\n",
        "coef_table.sort_values(by='weights')"
      ]
    },
    {
      "cell_type": "markdown",
      "source": [
        "## Обучаем KNN"
      ],
      "metadata": {
        "id": "d0cOoEcgZtdl"
      }
    },
    {
      "cell_type": "code",
      "execution_count": 116,
      "metadata": {
        "id": "NCRUMGzHywcq"
      },
      "outputs": [],
      "source": [
        "from sklearn.neighbors import KNeighborsClassifier\n",
        "\n",
        "knn = KNeighborsClassifier()"
      ]
    },
    {
      "cell_type": "code",
      "execution_count": null,
      "metadata": {
        "id": "RE2zZwPBywcq"
      },
      "outputs": [],
      "source": [
        "knn.fit(Xtrain_num, ytrain_num)\n",
        "pred_test_knn = knn.predict(Xtest_num)\n",
        "pred_test2 = knn.predict_proba(Xtest_num)[:,1]\n",
        "\n",
        "classes2 = pred_test2 > 0.5\n",
        "\n",
        "conf_mx2 = confusion_matrix(ytest_num, classes2)\n",
        "sb.heatmap(conf_mx2,annot=True,fmt='4.0f')\n",
        "plt.title('Confusion Matrix', size = 12)\n",
        "plt.xlabel ('Predicted values')\n",
        "plt.ylabel ('Actual values')\n",
        "conf_mx2"
      ]
    },
    {
      "cell_type": "markdown",
      "source": [
        "Оцениваем KNN"
      ],
      "metadata": {
        "id": "aP4tZzduZxz8"
      }
    },
    {
      "cell_type": "code",
      "execution_count": null,
      "metadata": {
        "id": "lLB8B4Cnywcq"
      },
      "outputs": [],
      "source": [
        "from sklearn.metrics import recall_score\n",
        "\n",
        "recall_score(ytest_num, classes2)"
      ]
    },
    {
      "cell_type": "code",
      "execution_count": null,
      "metadata": {
        "id": "T_9OeUoeywcr"
      },
      "outputs": [],
      "source": [
        "from sklearn.metrics import precision_score\n",
        "\n",
        "precision_score(ytest_num, classes2)"
      ]
    },
    {
      "cell_type": "code",
      "execution_count": null,
      "metadata": {
        "id": "kEVzkAvaywcr"
      },
      "outputs": [],
      "source": [
        "from sklearn.metrics import f1_score\n",
        "\n",
        "f1_score(ytest_num, classes2)"
      ]
    },
    {
      "cell_type": "markdown",
      "source": [
        "##Dummy Variables"
      ],
      "metadata": {
        "id": "mtPTcgoEy4ek"
      }
    },
    {
      "cell_type": "markdown",
      "source": [
        "Оборачиваем категориальные переменные в Dummy при помощи OHE"
      ],
      "metadata": {
        "id": "4UJ4AmusZ3kV"
      }
    },
    {
      "cell_type": "code",
      "execution_count": 121,
      "metadata": {
        "id": "Iwqzb3SRywcr"
      },
      "outputs": [],
      "source": [
        "from sklearn.preprocessing import OneHotEncoder\n",
        "from sklearn.compose import ColumnTransformer\n",
        "\n",
        "Xtrain, Xtest, Ytrain, Ytest = train_test_split(data.drop('deposit', axis=1), data.deposit, test_size=0.25, random_state=42)\n",
        "X = data.drop(['deposit','job','marital','contact','poutcome','education','month'], axis =1)\n",
        "categorical = ['job','marital','education','contact','month','poutcome']\n",
        "\n",
        "column_transformer = ColumnTransformer([\n",
        "    ('ohe', OneHotEncoder(handle_unknown=\"ignore\"), categorical),\n",
        "    ('scaling', StandardScaler(), X.columns)\n",
        "])\n",
        "\n",
        "X_transformed = column_transformer.fit_transform(Xtrain)\n",
        "X_test_transformed = column_transformer.transform(Xtest)"
      ]
    },
    {
      "cell_type": "markdown",
      "source": [
        "##Linear Regression with Dummies"
      ],
      "metadata": {
        "id": "5NwuRLh84eCw"
      }
    },
    {
      "cell_type": "markdown",
      "source": [
        "Обучаем Логистическую регрессию с категориальными переменными"
      ],
      "metadata": {
        "id": "PpThlglDZ_bS"
      }
    },
    {
      "cell_type": "code",
      "source": [
        "model2 = LogisticRegression()\n",
        "model2.fit(X_transformed,Ytrain)\n",
        "ohe_LgRg = model2.predict(X_test_transformed)\n",
        "ohe_LgRg_proba = model2.predict_proba(X_test_transformed)"
      ],
      "metadata": {
        "id": "3YjfvQkKwxqj"
      },
      "execution_count": 122,
      "outputs": []
    },
    {
      "cell_type": "markdown",
      "source": [
        "Оцениваем качество"
      ],
      "metadata": {
        "id": "u-eYfMTGaRgw"
      }
    },
    {
      "cell_type": "code",
      "source": [
        "from sklearn.metrics import accuracy_score, precision_score, recall_score, roc_auc_score\n",
        "\n",
        "print('Accuracy',round(accuracy_score(Ytest,ohe_LgRg),2))\n",
        "print('Precision',round(precision_score(Ytest,ohe_LgRg),2))\n",
        "print('Recall',round(recall_score(Ytest,ohe_LgRg),2))\n",
        "print('ROC AUC',round(roc_auc_score(Ytest,ohe_LgRg_proba [:,1]),2))"
      ],
      "metadata": {
        "id": "rflJp9Kyw9Lt"
      },
      "execution_count": null,
      "outputs": []
    },
    {
      "cell_type": "markdown",
      "source": [
        "## Boost"
      ],
      "metadata": {
        "id": "ALHcodT54iNS"
      }
    },
    {
      "cell_type": "markdown",
      "source": [
        "Обучаем градиентный бустинг"
      ],
      "metadata": {
        "id": "KDxFaKIRaLR7"
      }
    },
    {
      "cell_type": "code",
      "source": [
        "cat = CatBoostClassifier(iterations=1000,\n",
        "                         depth = 3,\n",
        "                         learning_rate = 0.01,\n",
        "                         loss_function='Logloss',\n",
        "                         eval_metric = 'AUC',\n",
        "                         verbose=False)\n",
        "cat.fit(X_transformed, Ytrain)\n",
        "ohe_boost = cat.predict(X_test_transformed)   \n",
        "ohe_boost_proba = cat.predict_proba(X_test_transformed)   "
      ],
      "metadata": {
        "id": "HrIqklSv0HB_"
      },
      "execution_count": 124,
      "outputs": []
    },
    {
      "cell_type": "markdown",
      "source": [
        "Оцениваем результаты"
      ],
      "metadata": {
        "id": "M5li-byyaPeB"
      }
    },
    {
      "cell_type": "code",
      "source": [
        "print('Accuracy',round(accuracy_score(Ytest,ohe_boost),2))\n",
        "print('Precision',round(precision_score(Ytest,ohe_boost),2))\n",
        "print('Recall',round(recall_score(Ytest,ohe_boost),2))\n",
        "print('ROC AUC',round(roc_auc_score(Ytest,ohe_boost_proba [:,1]),2))"
      ],
      "metadata": {
        "id": "eeDJKygc1-XV"
      },
      "execution_count": null,
      "outputs": []
    },
    {
      "cell_type": "markdown",
      "source": [
        "## Results and Summary"
      ],
      "metadata": {
        "id": "tvoTJG538HSj"
      }
    },
    {
      "cell_type": "markdown",
      "source": [
        "Сводим результаты моделей в одну таблицу"
      ],
      "metadata": {
        "id": "hXFC_txBaT1D"
      }
    },
    {
      "cell_type": "code",
      "source": [
        "resulting_metrics = pd.DataFrame({\n",
        "    'Accuracy':[accuracy_score(Ytest,pred_test), accuracy_score(Ytest,ohe_LgRg),accuracy_score(Ytest,pred_test_knn),accuracy_score(Ytest,ohe_boost)],\n",
        "    'Precision': [precision_score(Ytest,pred_test), precision_score(Ytest,ohe_LgRg), precision_score(Ytest,pred_test_knn),precision_score(Ytest,ohe_boost)],\n",
        "    'Recall': [recall_score(Ytest,pred_test), recall_score(Ytest,ohe_LgRg), recall_score(Ytest,pred_test_knn),recall_score(Ytest,ohe_boost)],\n",
        "    'ROC AUC': [roc_auc_score(Ytest,pred_test_proba[:,1]),roc_auc_score(Ytest,ohe_LgRg_proba [:,1]),roc_auc_score(Ytest,pred_test2),roc_auc_score(Ytest,ohe_boost_proba [:,1])]    \n",
        "}, index= ['LogReg','OHE_LogReg','KNN','OHE_Boost'])\n",
        "resulting_metrics"
      ],
      "metadata": {
        "id": "oau67yHH8JfO",
        "colab": {
          "base_uri": "https://localhost:8080/",
          "height": 175
        },
        "outputId": "97fe45cb-d95e-46af-b5b9-6f36710ab88b"
      },
      "execution_count": 126,
      "outputs": [
        {
          "output_type": "execute_result",
          "data": {
            "text/plain": [
              "            Accuracy  Precision    Recall   ROC AUC\n",
              "LogReg      0.754927   0.762590  0.711409  0.842588\n",
              "OHE_LogReg  0.811537   0.822134  0.775541  0.902381\n",
              "KNN         0.747761   0.743688  0.724832  0.800223\n",
              "OHE_Boost   0.836976   0.823830  0.840418  0.914893"
            ],
            "text/html": [
              "\n",
              "  <div id=\"df-e133306b-b251-4498-be24-0653ef511223\">\n",
              "    <div class=\"colab-df-container\">\n",
              "      <div>\n",
              "<style scoped>\n",
              "    .dataframe tbody tr th:only-of-type {\n",
              "        vertical-align: middle;\n",
              "    }\n",
              "\n",
              "    .dataframe tbody tr th {\n",
              "        vertical-align: top;\n",
              "    }\n",
              "\n",
              "    .dataframe thead th {\n",
              "        text-align: right;\n",
              "    }\n",
              "</style>\n",
              "<table border=\"1\" class=\"dataframe\">\n",
              "  <thead>\n",
              "    <tr style=\"text-align: right;\">\n",
              "      <th></th>\n",
              "      <th>Accuracy</th>\n",
              "      <th>Precision</th>\n",
              "      <th>Recall</th>\n",
              "      <th>ROC AUC</th>\n",
              "    </tr>\n",
              "  </thead>\n",
              "  <tbody>\n",
              "    <tr>\n",
              "      <th>LogReg</th>\n",
              "      <td>0.754927</td>\n",
              "      <td>0.762590</td>\n",
              "      <td>0.711409</td>\n",
              "      <td>0.842588</td>\n",
              "    </tr>\n",
              "    <tr>\n",
              "      <th>OHE_LogReg</th>\n",
              "      <td>0.811537</td>\n",
              "      <td>0.822134</td>\n",
              "      <td>0.775541</td>\n",
              "      <td>0.902381</td>\n",
              "    </tr>\n",
              "    <tr>\n",
              "      <th>KNN</th>\n",
              "      <td>0.747761</td>\n",
              "      <td>0.743688</td>\n",
              "      <td>0.724832</td>\n",
              "      <td>0.800223</td>\n",
              "    </tr>\n",
              "    <tr>\n",
              "      <th>OHE_Boost</th>\n",
              "      <td>0.836976</td>\n",
              "      <td>0.823830</td>\n",
              "      <td>0.840418</td>\n",
              "      <td>0.914893</td>\n",
              "    </tr>\n",
              "  </tbody>\n",
              "</table>\n",
              "</div>\n",
              "      <button class=\"colab-df-convert\" onclick=\"convertToInteractive('df-e133306b-b251-4498-be24-0653ef511223')\"\n",
              "              title=\"Convert this dataframe to an interactive table.\"\n",
              "              style=\"display:none;\">\n",
              "        \n",
              "  <svg xmlns=\"http://www.w3.org/2000/svg\" height=\"24px\"viewBox=\"0 0 24 24\"\n",
              "       width=\"24px\">\n",
              "    <path d=\"M0 0h24v24H0V0z\" fill=\"none\"/>\n",
              "    <path d=\"M18.56 5.44l.94 2.06.94-2.06 2.06-.94-2.06-.94-.94-2.06-.94 2.06-2.06.94zm-11 1L8.5 8.5l.94-2.06 2.06-.94-2.06-.94L8.5 2.5l-.94 2.06-2.06.94zm10 10l.94 2.06.94-2.06 2.06-.94-2.06-.94-.94-2.06-.94 2.06-2.06.94z\"/><path d=\"M17.41 7.96l-1.37-1.37c-.4-.4-.92-.59-1.43-.59-.52 0-1.04.2-1.43.59L10.3 9.45l-7.72 7.72c-.78.78-.78 2.05 0 2.83L4 21.41c.39.39.9.59 1.41.59.51 0 1.02-.2 1.41-.59l7.78-7.78 2.81-2.81c.8-.78.8-2.07 0-2.86zM5.41 20L4 18.59l7.72-7.72 1.47 1.35L5.41 20z\"/>\n",
              "  </svg>\n",
              "      </button>\n",
              "      \n",
              "  <style>\n",
              "    .colab-df-container {\n",
              "      display:flex;\n",
              "      flex-wrap:wrap;\n",
              "      gap: 12px;\n",
              "    }\n",
              "\n",
              "    .colab-df-convert {\n",
              "      background-color: #E8F0FE;\n",
              "      border: none;\n",
              "      border-radius: 50%;\n",
              "      cursor: pointer;\n",
              "      display: none;\n",
              "      fill: #1967D2;\n",
              "      height: 32px;\n",
              "      padding: 0 0 0 0;\n",
              "      width: 32px;\n",
              "    }\n",
              "\n",
              "    .colab-df-convert:hover {\n",
              "      background-color: #E2EBFA;\n",
              "      box-shadow: 0px 1px 2px rgba(60, 64, 67, 0.3), 0px 1px 3px 1px rgba(60, 64, 67, 0.15);\n",
              "      fill: #174EA6;\n",
              "    }\n",
              "\n",
              "    [theme=dark] .colab-df-convert {\n",
              "      background-color: #3B4455;\n",
              "      fill: #D2E3FC;\n",
              "    }\n",
              "\n",
              "    [theme=dark] .colab-df-convert:hover {\n",
              "      background-color: #434B5C;\n",
              "      box-shadow: 0px 1px 3px 1px rgba(0, 0, 0, 0.15);\n",
              "      filter: drop-shadow(0px 1px 2px rgba(0, 0, 0, 0.3));\n",
              "      fill: #FFFFFF;\n",
              "    }\n",
              "  </style>\n",
              "\n",
              "      <script>\n",
              "        const buttonEl =\n",
              "          document.querySelector('#df-e133306b-b251-4498-be24-0653ef511223 button.colab-df-convert');\n",
              "        buttonEl.style.display =\n",
              "          google.colab.kernel.accessAllowed ? 'block' : 'none';\n",
              "\n",
              "        async function convertToInteractive(key) {\n",
              "          const element = document.querySelector('#df-e133306b-b251-4498-be24-0653ef511223');\n",
              "          const dataTable =\n",
              "            await google.colab.kernel.invokeFunction('convertToInteractive',\n",
              "                                                     [key], {});\n",
              "          if (!dataTable) return;\n",
              "\n",
              "          const docLinkHtml = 'Like what you see? Visit the ' +\n",
              "            '<a target=\"_blank\" href=https://colab.research.google.com/notebooks/data_table.ipynb>data table notebook</a>'\n",
              "            + ' to learn more about interactive tables.';\n",
              "          element.innerHTML = '';\n",
              "          dataTable['output_type'] = 'display_data';\n",
              "          await google.colab.output.renderOutput(dataTable, element);\n",
              "          const docLink = document.createElement('div');\n",
              "          docLink.innerHTML = docLinkHtml;\n",
              "          element.appendChild(docLink);\n",
              "        }\n",
              "      </script>\n",
              "    </div>\n",
              "  </div>\n",
              "  "
            ]
          },
          "metadata": {},
          "execution_count": 126
        }
      ]
    },
    {
      "cell_type": "code",
      "source": [],
      "metadata": {
        "id": "ufDY52BieB04"
      },
      "execution_count": 126,
      "outputs": []
    }
  ],
  "metadata": {
    "kernelspec": {
      "display_name": "Python 3",
      "language": "python",
      "name": "python3"
    },
    "language_info": {
      "codemirror_mode": {
        "name": "ipython",
        "version": 3
      },
      "file_extension": ".py",
      "mimetype": "text/x-python",
      "name": "python",
      "nbconvert_exporter": "python",
      "pygments_lexer": "ipython3",
      "version": "3.8.3"
    },
    "colab": {
      "provenance": [],
      "include_colab_link": true
    }
  },
  "nbformat": 4,
  "nbformat_minor": 0
}